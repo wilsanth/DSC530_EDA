{
 "cells": [
  {
   "cell_type": "code",
   "execution_count": 22,
   "metadata": {},
   "outputs": [],
   "source": [
    "import os \n",
    "import numpy as np\n",
    "import glob\n",
    "import re\n",
    "import pandas as pd\n",
    "import plotly.express as px\n",
    "import thinkstats2\n",
    "import thinkplot\n",
    "import matplotlib.pyplot as plt\n",
    "import statistics\n",
    "pd.set_option('display.max_rows', 500)\n",
    "pd.set_option('display.max_columns', 500)\n",
    "pd.set_option('display.width', 1000)"
   ]
  },
  {
   "cell_type": "markdown",
   "metadata": {},
   "source": [
    "pull files to pull"
   ]
  },
  {
   "cell_type": "code",
   "execution_count": 2,
   "metadata": {},
   "outputs": [],
   "source": [
    "def get_csv_filenames(filePath = os.getcwd()):\n",
    "    placeholder = os.getcwd()\n",
    "    _list = []\n",
    "    if os.getcwd() != filePath: \n",
    "        try:\n",
    "            os.chdir(filePath)\n",
    "        except:\n",
    "            print(\"something is wrong with the file path\")\n",
    "    try:\n",
    "        _list =  glob.glob(\"*.csv\")\n",
    "    except:\n",
    "            print(\"something is wrong with the file path\")\n",
    "    return _list"
   ]
  },
  {
   "cell_type": "markdown",
   "metadata": {},
   "source": [
    "pull files"
   ]
  },
  {
   "cell_type": "code",
   "execution_count": 3,
   "metadata": {},
   "outputs": [],
   "source": [
    "def setup_severe_weather_df(filePath = os.getcwd()):\n",
    "    _list = get_csv_filenames(filePath)\n",
    "    df = []\n",
    "    if (len(_list)==0):\n",
    "        return 0\n",
    "    p_df = []\n",
    "    for i in _list:\n",
    "        try:\n",
    "            p_df = pd.read_csv(i, index_col=None, header=0)\n",
    "            p_df[\"filename\"] = i\n",
    "            df.append(p_df) \n",
    "        except:\n",
    "            print(\"something is wrong with the file: {}\".format(i))\n",
    "    final_df = pd.concat(df, axis=0, ignore_index=True)\n",
    "    return final_df"
   ]
  },
  {
   "cell_type": "code",
   "execution_count": 4,
   "metadata": {},
   "outputs": [
    {
     "name": "stderr",
     "output_type": "stream",
     "text": [
      "C:\\Users\\alero\\AppData\\Local\\Continuum\\anaconda3\\lib\\site-packages\\IPython\\core\\interactiveshell.py:3249: DtypeWarning:\n",
      "\n",
      "Columns (26,28) have mixed types. Specify dtype option on import or set low_memory=False.\n",
      "\n",
      "C:\\Users\\alero\\AppData\\Local\\Continuum\\anaconda3\\lib\\site-packages\\IPython\\core\\interactiveshell.py:3249: DtypeWarning:\n",
      "\n",
      "Columns (28) have mixed types. Specify dtype option on import or set low_memory=False.\n",
      "\n",
      "C:\\Users\\alero\\AppData\\Local\\Continuum\\anaconda3\\lib\\site-packages\\IPython\\core\\interactiveshell.py:3249: DtypeWarning:\n",
      "\n",
      "Columns (29,34,35,37) have mixed types. Specify dtype option on import or set low_memory=False.\n",
      "\n"
     ]
    }
   ],
   "source": [
    "weather_df = setup_severe_weather_df('C:\\\\Users\\\\alero\\\\Documents\\\\DSC_530_Project_Tornadoes')"
   ]
  },
  {
   "cell_type": "code",
   "execution_count": 5,
   "metadata": {},
   "outputs": [
    {
     "data": {
      "text/html": [
       "<div>\n",
       "<style scoped>\n",
       "    .dataframe tbody tr th:only-of-type {\n",
       "        vertical-align: middle;\n",
       "    }\n",
       "\n",
       "    .dataframe tbody tr th {\n",
       "        vertical-align: top;\n",
       "    }\n",
       "\n",
       "    .dataframe thead th {\n",
       "        text-align: right;\n",
       "    }\n",
       "</style>\n",
       "<table border=\"1\" class=\"dataframe\">\n",
       "  <thead>\n",
       "    <tr style=\"text-align: right;\">\n",
       "      <th></th>\n",
       "      <th>BEGIN_YEARMONTH</th>\n",
       "      <th>BEGIN_DAY</th>\n",
       "      <th>BEGIN_TIME</th>\n",
       "      <th>END_YEARMONTH</th>\n",
       "      <th>END_DAY</th>\n",
       "      <th>END_TIME</th>\n",
       "      <th>EPISODE_ID</th>\n",
       "      <th>EVENT_ID</th>\n",
       "      <th>STATE</th>\n",
       "      <th>STATE_FIPS</th>\n",
       "      <th>YEAR</th>\n",
       "      <th>MONTH_NAME</th>\n",
       "      <th>EVENT_TYPE</th>\n",
       "      <th>CZ_TYPE</th>\n",
       "      <th>CZ_FIPS</th>\n",
       "      <th>CZ_NAME</th>\n",
       "      <th>WFO</th>\n",
       "      <th>BEGIN_DATE_TIME</th>\n",
       "      <th>CZ_TIMEZONE</th>\n",
       "      <th>END_DATE_TIME</th>\n",
       "      <th>INJURIES_DIRECT</th>\n",
       "      <th>INJURIES_INDIRECT</th>\n",
       "      <th>DEATHS_DIRECT</th>\n",
       "      <th>DEATHS_INDIRECT</th>\n",
       "      <th>DAMAGE_PROPERTY</th>\n",
       "      <th>DAMAGE_CROPS</th>\n",
       "      <th>SOURCE</th>\n",
       "      <th>MAGNITUDE</th>\n",
       "      <th>MAGNITUDE_TYPE</th>\n",
       "      <th>FLOOD_CAUSE</th>\n",
       "      <th>CATEGORY</th>\n",
       "      <th>TOR_F_SCALE</th>\n",
       "      <th>TOR_LENGTH</th>\n",
       "      <th>TOR_WIDTH</th>\n",
       "      <th>TOR_OTHER_WFO</th>\n",
       "      <th>TOR_OTHER_CZ_STATE</th>\n",
       "      <th>TOR_OTHER_CZ_FIPS</th>\n",
       "      <th>TOR_OTHER_CZ_NAME</th>\n",
       "      <th>BEGIN_RANGE</th>\n",
       "      <th>BEGIN_AZIMUTH</th>\n",
       "      <th>BEGIN_LOCATION</th>\n",
       "      <th>END_RANGE</th>\n",
       "      <th>END_AZIMUTH</th>\n",
       "      <th>END_LOCATION</th>\n",
       "      <th>BEGIN_LAT</th>\n",
       "      <th>BEGIN_LON</th>\n",
       "      <th>END_LAT</th>\n",
       "      <th>END_LON</th>\n",
       "      <th>EPISODE_NARRATIVE</th>\n",
       "      <th>EVENT_NARRATIVE</th>\n",
       "      <th>DATA_SOURCE</th>\n",
       "      <th>filename</th>\n",
       "    </tr>\n",
       "  </thead>\n",
       "  <tbody>\n",
       "    <tr>\n",
       "      <td>0</td>\n",
       "      <td>195004</td>\n",
       "      <td>28</td>\n",
       "      <td>1445</td>\n",
       "      <td>195004</td>\n",
       "      <td>28</td>\n",
       "      <td>1445</td>\n",
       "      <td>NaN</td>\n",
       "      <td>10096222</td>\n",
       "      <td>OKLAHOMA</td>\n",
       "      <td>40.0</td>\n",
       "      <td>1950</td>\n",
       "      <td>April</td>\n",
       "      <td>Tornado</td>\n",
       "      <td>C</td>\n",
       "      <td>149</td>\n",
       "      <td>WASHITA</td>\n",
       "      <td>NaN</td>\n",
       "      <td>28-APR-50 14:45:00</td>\n",
       "      <td>CST</td>\n",
       "      <td>28-APR-50 14:45:00</td>\n",
       "      <td>0</td>\n",
       "      <td>0</td>\n",
       "      <td>0</td>\n",
       "      <td>0</td>\n",
       "      <td>250K</td>\n",
       "      <td>0</td>\n",
       "      <td>NaN</td>\n",
       "      <td>0.0</td>\n",
       "      <td>NaN</td>\n",
       "      <td>NaN</td>\n",
       "      <td>NaN</td>\n",
       "      <td>F3</td>\n",
       "      <td>3.4</td>\n",
       "      <td>400.0</td>\n",
       "      <td>NaN</td>\n",
       "      <td>NaN</td>\n",
       "      <td>NaN</td>\n",
       "      <td>NaN</td>\n",
       "      <td>0.0</td>\n",
       "      <td>NaN</td>\n",
       "      <td>NaN</td>\n",
       "      <td>0.0</td>\n",
       "      <td>NaN</td>\n",
       "      <td>NaN</td>\n",
       "      <td>35.12</td>\n",
       "      <td>-99.20</td>\n",
       "      <td>35.17</td>\n",
       "      <td>-99.20</td>\n",
       "      <td>NaN</td>\n",
       "      <td>NaN</td>\n",
       "      <td>PUB</td>\n",
       "      <td>StormEvents_details-ftp_v1.0_d1950_c20170120.csv</td>\n",
       "    </tr>\n",
       "    <tr>\n",
       "      <td>1</td>\n",
       "      <td>195004</td>\n",
       "      <td>29</td>\n",
       "      <td>1530</td>\n",
       "      <td>195004</td>\n",
       "      <td>29</td>\n",
       "      <td>1530</td>\n",
       "      <td>NaN</td>\n",
       "      <td>10120412</td>\n",
       "      <td>TEXAS</td>\n",
       "      <td>48.0</td>\n",
       "      <td>1950</td>\n",
       "      <td>April</td>\n",
       "      <td>Tornado</td>\n",
       "      <td>C</td>\n",
       "      <td>93</td>\n",
       "      <td>COMANCHE</td>\n",
       "      <td>NaN</td>\n",
       "      <td>29-APR-50 15:30:00</td>\n",
       "      <td>CST</td>\n",
       "      <td>29-APR-50 15:30:00</td>\n",
       "      <td>0</td>\n",
       "      <td>0</td>\n",
       "      <td>0</td>\n",
       "      <td>0</td>\n",
       "      <td>25K</td>\n",
       "      <td>0</td>\n",
       "      <td>NaN</td>\n",
       "      <td>0.0</td>\n",
       "      <td>NaN</td>\n",
       "      <td>NaN</td>\n",
       "      <td>NaN</td>\n",
       "      <td>F1</td>\n",
       "      <td>11.5</td>\n",
       "      <td>200.0</td>\n",
       "      <td>NaN</td>\n",
       "      <td>NaN</td>\n",
       "      <td>NaN</td>\n",
       "      <td>NaN</td>\n",
       "      <td>0.0</td>\n",
       "      <td>NaN</td>\n",
       "      <td>NaN</td>\n",
       "      <td>0.0</td>\n",
       "      <td>NaN</td>\n",
       "      <td>NaN</td>\n",
       "      <td>31.90</td>\n",
       "      <td>-98.60</td>\n",
       "      <td>31.73</td>\n",
       "      <td>-98.60</td>\n",
       "      <td>NaN</td>\n",
       "      <td>NaN</td>\n",
       "      <td>PUB</td>\n",
       "      <td>StormEvents_details-ftp_v1.0_d1950_c20170120.csv</td>\n",
       "    </tr>\n",
       "    <tr>\n",
       "      <td>2</td>\n",
       "      <td>195007</td>\n",
       "      <td>5</td>\n",
       "      <td>1800</td>\n",
       "      <td>195007</td>\n",
       "      <td>5</td>\n",
       "      <td>1800</td>\n",
       "      <td>NaN</td>\n",
       "      <td>10104927</td>\n",
       "      <td>PENNSYLVANIA</td>\n",
       "      <td>42.0</td>\n",
       "      <td>1950</td>\n",
       "      <td>July</td>\n",
       "      <td>Tornado</td>\n",
       "      <td>C</td>\n",
       "      <td>77</td>\n",
       "      <td>LEHIGH</td>\n",
       "      <td>NaN</td>\n",
       "      <td>05-JUL-50 18:00:00</td>\n",
       "      <td>CST</td>\n",
       "      <td>05-JUL-50 18:00:00</td>\n",
       "      <td>2</td>\n",
       "      <td>0</td>\n",
       "      <td>0</td>\n",
       "      <td>0</td>\n",
       "      <td>25K</td>\n",
       "      <td>0</td>\n",
       "      <td>NaN</td>\n",
       "      <td>0.0</td>\n",
       "      <td>NaN</td>\n",
       "      <td>NaN</td>\n",
       "      <td>NaN</td>\n",
       "      <td>F2</td>\n",
       "      <td>12.9</td>\n",
       "      <td>33.0</td>\n",
       "      <td>NaN</td>\n",
       "      <td>NaN</td>\n",
       "      <td>NaN</td>\n",
       "      <td>NaN</td>\n",
       "      <td>0.0</td>\n",
       "      <td>NaN</td>\n",
       "      <td>NaN</td>\n",
       "      <td>0.0</td>\n",
       "      <td>NaN</td>\n",
       "      <td>NaN</td>\n",
       "      <td>40.58</td>\n",
       "      <td>-75.70</td>\n",
       "      <td>40.65</td>\n",
       "      <td>-75.47</td>\n",
       "      <td>NaN</td>\n",
       "      <td>NaN</td>\n",
       "      <td>PUB</td>\n",
       "      <td>StormEvents_details-ftp_v1.0_d1950_c20170120.csv</td>\n",
       "    </tr>\n",
       "    <tr>\n",
       "      <td>3</td>\n",
       "      <td>195007</td>\n",
       "      <td>5</td>\n",
       "      <td>1830</td>\n",
       "      <td>195007</td>\n",
       "      <td>5</td>\n",
       "      <td>1830</td>\n",
       "      <td>NaN</td>\n",
       "      <td>10104928</td>\n",
       "      <td>PENNSYLVANIA</td>\n",
       "      <td>42.0</td>\n",
       "      <td>1950</td>\n",
       "      <td>July</td>\n",
       "      <td>Tornado</td>\n",
       "      <td>C</td>\n",
       "      <td>43</td>\n",
       "      <td>DAUPHIN</td>\n",
       "      <td>NaN</td>\n",
       "      <td>05-JUL-50 18:30:00</td>\n",
       "      <td>CST</td>\n",
       "      <td>05-JUL-50 18:30:00</td>\n",
       "      <td>0</td>\n",
       "      <td>0</td>\n",
       "      <td>0</td>\n",
       "      <td>0</td>\n",
       "      <td>2.5K</td>\n",
       "      <td>0</td>\n",
       "      <td>NaN</td>\n",
       "      <td>0.0</td>\n",
       "      <td>NaN</td>\n",
       "      <td>NaN</td>\n",
       "      <td>NaN</td>\n",
       "      <td>F2</td>\n",
       "      <td>0.0</td>\n",
       "      <td>13.0</td>\n",
       "      <td>NaN</td>\n",
       "      <td>NaN</td>\n",
       "      <td>NaN</td>\n",
       "      <td>NaN</td>\n",
       "      <td>0.0</td>\n",
       "      <td>NaN</td>\n",
       "      <td>NaN</td>\n",
       "      <td>0.0</td>\n",
       "      <td>NaN</td>\n",
       "      <td>NaN</td>\n",
       "      <td>40.60</td>\n",
       "      <td>-76.75</td>\n",
       "      <td>NaN</td>\n",
       "      <td>NaN</td>\n",
       "      <td>NaN</td>\n",
       "      <td>NaN</td>\n",
       "      <td>PUB</td>\n",
       "      <td>StormEvents_details-ftp_v1.0_d1950_c20170120.csv</td>\n",
       "    </tr>\n",
       "    <tr>\n",
       "      <td>4</td>\n",
       "      <td>195007</td>\n",
       "      <td>24</td>\n",
       "      <td>1440</td>\n",
       "      <td>195007</td>\n",
       "      <td>24</td>\n",
       "      <td>1440</td>\n",
       "      <td>NaN</td>\n",
       "      <td>10104929</td>\n",
       "      <td>PENNSYLVANIA</td>\n",
       "      <td>42.0</td>\n",
       "      <td>1950</td>\n",
       "      <td>July</td>\n",
       "      <td>Tornado</td>\n",
       "      <td>C</td>\n",
       "      <td>39</td>\n",
       "      <td>CRAWFORD</td>\n",
       "      <td>NaN</td>\n",
       "      <td>24-JUL-50 14:40:00</td>\n",
       "      <td>CST</td>\n",
       "      <td>24-JUL-50 14:40:00</td>\n",
       "      <td>0</td>\n",
       "      <td>0</td>\n",
       "      <td>0</td>\n",
       "      <td>0</td>\n",
       "      <td>2.5K</td>\n",
       "      <td>0</td>\n",
       "      <td>NaN</td>\n",
       "      <td>0.0</td>\n",
       "      <td>NaN</td>\n",
       "      <td>NaN</td>\n",
       "      <td>NaN</td>\n",
       "      <td>F0</td>\n",
       "      <td>0.0</td>\n",
       "      <td>33.0</td>\n",
       "      <td>NaN</td>\n",
       "      <td>NaN</td>\n",
       "      <td>NaN</td>\n",
       "      <td>NaN</td>\n",
       "      <td>0.0</td>\n",
       "      <td>NaN</td>\n",
       "      <td>NaN</td>\n",
       "      <td>0.0</td>\n",
       "      <td>NaN</td>\n",
       "      <td>NaN</td>\n",
       "      <td>41.63</td>\n",
       "      <td>-79.68</td>\n",
       "      <td>NaN</td>\n",
       "      <td>NaN</td>\n",
       "      <td>NaN</td>\n",
       "      <td>NaN</td>\n",
       "      <td>PUB</td>\n",
       "      <td>StormEvents_details-ftp_v1.0_d1950_c20170120.csv</td>\n",
       "    </tr>\n",
       "  </tbody>\n",
       "</table>\n",
       "</div>"
      ],
      "text/plain": [
       "   BEGIN_YEARMONTH  BEGIN_DAY  BEGIN_TIME  END_YEARMONTH  END_DAY  END_TIME  EPISODE_ID  EVENT_ID         STATE  STATE_FIPS  YEAR MONTH_NAME EVENT_TYPE CZ_TYPE  CZ_FIPS   CZ_NAME  WFO     BEGIN_DATE_TIME CZ_TIMEZONE       END_DATE_TIME  INJURIES_DIRECT  INJURIES_INDIRECT  DEATHS_DIRECT  DEATHS_INDIRECT DAMAGE_PROPERTY DAMAGE_CROPS SOURCE  MAGNITUDE MAGNITUDE_TYPE FLOOD_CAUSE  CATEGORY TOR_F_SCALE  TOR_LENGTH  TOR_WIDTH TOR_OTHER_WFO TOR_OTHER_CZ_STATE  TOR_OTHER_CZ_FIPS TOR_OTHER_CZ_NAME  BEGIN_RANGE BEGIN_AZIMUTH BEGIN_LOCATION  END_RANGE END_AZIMUTH END_LOCATION  BEGIN_LAT  BEGIN_LON  END_LAT  END_LON EPISODE_NARRATIVE EVENT_NARRATIVE DATA_SOURCE                                          filename\n",
       "0           195004         28        1445         195004       28      1445         NaN  10096222      OKLAHOMA        40.0  1950      April    Tornado       C      149   WASHITA  NaN  28-APR-50 14:45:00         CST  28-APR-50 14:45:00                0                  0              0                0            250K            0    NaN        0.0            NaN         NaN       NaN          F3         3.4      400.0           NaN                NaN                NaN               NaN          0.0           NaN            NaN        0.0         NaN          NaN      35.12     -99.20    35.17   -99.20               NaN             NaN         PUB  StormEvents_details-ftp_v1.0_d1950_c20170120.csv\n",
       "1           195004         29        1530         195004       29      1530         NaN  10120412         TEXAS        48.0  1950      April    Tornado       C       93  COMANCHE  NaN  29-APR-50 15:30:00         CST  29-APR-50 15:30:00                0                  0              0                0             25K            0    NaN        0.0            NaN         NaN       NaN          F1        11.5      200.0           NaN                NaN                NaN               NaN          0.0           NaN            NaN        0.0         NaN          NaN      31.90     -98.60    31.73   -98.60               NaN             NaN         PUB  StormEvents_details-ftp_v1.0_d1950_c20170120.csv\n",
       "2           195007          5        1800         195007        5      1800         NaN  10104927  PENNSYLVANIA        42.0  1950       July    Tornado       C       77    LEHIGH  NaN  05-JUL-50 18:00:00         CST  05-JUL-50 18:00:00                2                  0              0                0             25K            0    NaN        0.0            NaN         NaN       NaN          F2        12.9       33.0           NaN                NaN                NaN               NaN          0.0           NaN            NaN        0.0         NaN          NaN      40.58     -75.70    40.65   -75.47               NaN             NaN         PUB  StormEvents_details-ftp_v1.0_d1950_c20170120.csv\n",
       "3           195007          5        1830         195007        5      1830         NaN  10104928  PENNSYLVANIA        42.0  1950       July    Tornado       C       43   DAUPHIN  NaN  05-JUL-50 18:30:00         CST  05-JUL-50 18:30:00                0                  0              0                0            2.5K            0    NaN        0.0            NaN         NaN       NaN          F2         0.0       13.0           NaN                NaN                NaN               NaN          0.0           NaN            NaN        0.0         NaN          NaN      40.60     -76.75      NaN      NaN               NaN             NaN         PUB  StormEvents_details-ftp_v1.0_d1950_c20170120.csv\n",
       "4           195007         24        1440         195007       24      1440         NaN  10104929  PENNSYLVANIA        42.0  1950       July    Tornado       C       39  CRAWFORD  NaN  24-JUL-50 14:40:00         CST  24-JUL-50 14:40:00                0                  0              0                0            2.5K            0    NaN        0.0            NaN         NaN       NaN          F0         0.0       33.0           NaN                NaN                NaN               NaN          0.0           NaN            NaN        0.0         NaN          NaN      41.63     -79.68      NaN      NaN               NaN             NaN         PUB  StormEvents_details-ftp_v1.0_d1950_c20170120.csv"
      ]
     },
     "execution_count": 5,
     "metadata": {},
     "output_type": "execute_result"
    }
   ],
   "source": [
    "weather_df.head()"
   ]
  },
  {
   "cell_type": "markdown",
   "metadata": {},
   "source": [
    "Below I display the types of server weather documented in the documents. We will only be pulling tornadeos for this excercise. "
   ]
  },
  {
   "cell_type": "code",
   "execution_count": 7,
   "metadata": {},
   "outputs": [
    {
     "data": {
      "text/plain": [
       "Astronomical Low Tide                547\n",
       "Avalanche                            654\n",
       "Blizzard                           13890\n",
       "Coastal Flood                       3084\n",
       "Cold/Wind Chill                    14190\n",
       "Debris Flow                         1146\n",
       "Dense Fog                          13104\n",
       "Dense Smoke                           84\n",
       "Drought                            55403\n",
       "Dust Devil                           227\n",
       "Dust Storm                          1122\n",
       "Excessive Heat                      8360\n",
       "Extreme Cold/Wind Chill            12219\n",
       "Flash Flood                        84931\n",
       "Flood                              55380\n",
       "Freezing Fog                         409\n",
       "Frost/Freeze                       11960\n",
       "Funnel Cloud                        8591\n",
       "HAIL FLOODING                          1\n",
       "HAIL/ICY ROADS                         1\n",
       "Hail                              367881\n",
       "Heat                               21009\n",
       "Heavy Rain                         25129\n",
       "Heavy Snow                         61552\n",
       "Heavy Wind                             4\n",
       "High Snow                              1\n",
       "High Surf                           9095\n",
       "High Wind                          69237\n",
       "Hurricane                            177\n",
       "Hurricane (Typhoon)                 1749\n",
       "Ice Storm                          11126\n",
       "Lake-Effect Snow                    2291\n",
       "Lakeshore Flood                      176\n",
       "Landslide                            372\n",
       "Lightning                          16672\n",
       "Marine Dense Fog                       8\n",
       "Marine Hail                          709\n",
       "Marine High Wind                     474\n",
       "Marine Hurricane/Typhoon              50\n",
       "Marine Lightning                       1\n",
       "Marine Strong Wind                   140\n",
       "Marine Thunderstorm Wind           27844\n",
       "Marine Tropical Depression            11\n",
       "Marine Tropical Storm                170\n",
       "Northern Lights                        8\n",
       "OTHER                                  1\n",
       "Rip Current                         1336\n",
       "Seiche                                65\n",
       "Sleet                                726\n",
       "Sneakerwave                           17\n",
       "Storm Surge/Tide                    1326\n",
       "Strong Wind                        21132\n",
       "THUNDERSTORM WIND/ TREE                1\n",
       "THUNDERSTORM WIND/ TREES               3\n",
       "THUNDERSTORM WINDS FUNNEL CLOU         2\n",
       "THUNDERSTORM WINDS HEAVY RAIN          1\n",
       "THUNDERSTORM WINDS LIGHTNING           2\n",
       "THUNDERSTORM WINDS/ FLOOD              2\n",
       "THUNDERSTORM WINDS/FLASH FLOOD         1\n",
       "THUNDERSTORM WINDS/FLOODING            1\n",
       "THUNDERSTORM WINDS/HEAVY RAIN          1\n",
       "TORNADO/WATERSPOUT                     1\n",
       "TORNADOES, TSTM WIND, HAIL             1\n",
       "Thunderstorm Wind                 448492\n",
       "Tornado                            70752\n",
       "Tropical Depression                  409\n",
       "Tropical Storm                      5145\n",
       "Tsunami                               33\n",
       "Volcanic Ash                          70\n",
       "Volcanic Ashfall                      70\n",
       "Waterspout                          5081\n",
       "Wildfire                            7121\n",
       "Winter Storm                       73040\n",
       "Winter Weather                     59715\n",
       "Name: EVENT_TYPE, dtype: int64"
      ]
     },
     "execution_count": 7,
     "metadata": {},
     "output_type": "execute_result"
    }
   ],
   "source": [
    "pd.set_option('display.max_rows', 500)\n",
    "weather_df.EVENT_TYPE.value_counts().sort_index()"
   ]
  },
  {
   "cell_type": "markdown",
   "metadata": {},
   "source": [
    "Checking for null values"
   ]
  },
  {
   "cell_type": "code",
   "execution_count": 6,
   "metadata": {},
   "outputs": [
    {
     "data": {
      "text/plain": [
       "BEGIN_YEARMONTH             0\n",
       "BEGIN_DAY                   0\n",
       "BEGIN_TIME                  0\n",
       "END_YEARMONTH               0\n",
       "END_DAY                     0\n",
       "END_TIME                    0\n",
       "EPISODE_ID             232239\n",
       "EVENT_ID                    0\n",
       "STATE                       1\n",
       "STATE_FIPS                  1\n",
       "YEAR                        0\n",
       "MONTH_NAME                  0\n",
       "EVENT_TYPE                  0\n",
       "CZ_TYPE                     0\n",
       "CZ_FIPS                     0\n",
       "CZ_NAME                  1557\n",
       "WFO                    125573\n",
       "BEGIN_DATE_TIME             0\n",
       "CZ_TIMEZONE                 0\n",
       "END_DATE_TIME               0\n",
       "INJURIES_DIRECT             0\n",
       "INJURIES_INDIRECT           0\n",
       "DEATHS_DIRECT               0\n",
       "DEATHS_INDIRECT             0\n",
       "DAMAGE_PROPERTY        520309\n",
       "DAMAGE_CROPS           632146\n",
       "SOURCE                 345865\n",
       "MAGNITUDE              662149\n",
       "MAGNITUDE_TYPE        1216546\n",
       "FLOOD_CAUSE           1510735\n",
       "CATEGORY              1595400\n",
       "TOR_F_SCALE           1526949\n",
       "TOR_LENGTH            1330303\n",
       "TOR_WIDTH             1330303\n",
       "TOR_OTHER_WFO         1593470\n",
       "TOR_OTHER_CZ_STATE    1593470\n",
       "TOR_OTHER_CZ_FIPS     1593470\n",
       "TOR_OTHER_CZ_NAME     1593470\n",
       "BEGIN_RANGE            721618\n",
       "BEGIN_AZIMUTH          940338\n",
       "BEGIN_LOCATION         689430\n",
       "END_RANGE              721995\n",
       "END_AZIMUTH            953419\n",
       "END_LOCATION           728786\n",
       "BEGIN_LAT              605054\n",
       "BEGIN_LON              605054\n",
       "END_LAT                782544\n",
       "END_LON                782543\n",
       "EPISODE_NARRATIVE      479108\n",
       "EVENT_NARRATIVE        824078\n",
       "DATA_SOURCE                 3\n",
       "filename                    0\n",
       "dtype: int64"
      ]
     },
     "execution_count": 6,
     "metadata": {},
     "output_type": "execute_result"
    }
   ],
   "source": [
    "weather_df.isna().sum()"
   ]
  },
  {
   "cell_type": "markdown",
   "metadata": {},
   "source": [
    "Only look at tornado data."
   ]
  },
  {
   "cell_type": "code",
   "execution_count": 17,
   "metadata": {},
   "outputs": [],
   "source": [
    "t_df = weather_df[weather_df.EVENT_TYPE==\"Tornado\"][['YEAR', 'INJURIES_DIRECT', 'INJURIES_INDIRECT', 'DEATHS_DIRECT', 'DEATHS_INDIRECT', 'DAMAGE_PROPERTY', 'DAMAGE_CROPS',  'TOR_F_SCALE', 'TOR_LENGTH', 'TOR_WIDTH']]"
   ]
  },
  {
   "cell_type": "code",
   "execution_count": 12,
   "metadata": {},
   "outputs": [
    {
     "data": {
      "text/html": [
       "<div>\n",
       "<style scoped>\n",
       "    .dataframe tbody tr th:only-of-type {\n",
       "        vertical-align: middle;\n",
       "    }\n",
       "\n",
       "    .dataframe tbody tr th {\n",
       "        vertical-align: top;\n",
       "    }\n",
       "\n",
       "    .dataframe thead th {\n",
       "        text-align: right;\n",
       "    }\n",
       "</style>\n",
       "<table border=\"1\" class=\"dataframe\">\n",
       "  <thead>\n",
       "    <tr style=\"text-align: right;\">\n",
       "      <th></th>\n",
       "      <th>YEAR</th>\n",
       "      <th>INJURIES_DIRECT</th>\n",
       "      <th>INJURIES_INDIRECT</th>\n",
       "      <th>DEATHS_DIRECT</th>\n",
       "      <th>DEATHS_INDIRECT</th>\n",
       "      <th>DAMAGE_PROPERTY</th>\n",
       "      <th>DAMAGE_CROPS</th>\n",
       "      <th>TOR_F_SCALE</th>\n",
       "      <th>TOR_LENGTH</th>\n",
       "      <th>TOR_WIDTH</th>\n",
       "    </tr>\n",
       "  </thead>\n",
       "  <tbody>\n",
       "    <tr>\n",
       "      <td>0</td>\n",
       "      <td>1950</td>\n",
       "      <td>0</td>\n",
       "      <td>0</td>\n",
       "      <td>0</td>\n",
       "      <td>0</td>\n",
       "      <td>250K</td>\n",
       "      <td>0</td>\n",
       "      <td>F3</td>\n",
       "      <td>3.4</td>\n",
       "      <td>400.0</td>\n",
       "    </tr>\n",
       "    <tr>\n",
       "      <td>1</td>\n",
       "      <td>1950</td>\n",
       "      <td>0</td>\n",
       "      <td>0</td>\n",
       "      <td>0</td>\n",
       "      <td>0</td>\n",
       "      <td>25K</td>\n",
       "      <td>0</td>\n",
       "      <td>F1</td>\n",
       "      <td>11.5</td>\n",
       "      <td>200.0</td>\n",
       "    </tr>\n",
       "    <tr>\n",
       "      <td>2</td>\n",
       "      <td>1950</td>\n",
       "      <td>2</td>\n",
       "      <td>0</td>\n",
       "      <td>0</td>\n",
       "      <td>0</td>\n",
       "      <td>25K</td>\n",
       "      <td>0</td>\n",
       "      <td>F2</td>\n",
       "      <td>12.9</td>\n",
       "      <td>33.0</td>\n",
       "    </tr>\n",
       "    <tr>\n",
       "      <td>3</td>\n",
       "      <td>1950</td>\n",
       "      <td>0</td>\n",
       "      <td>0</td>\n",
       "      <td>0</td>\n",
       "      <td>0</td>\n",
       "      <td>2.5K</td>\n",
       "      <td>0</td>\n",
       "      <td>F2</td>\n",
       "      <td>0.0</td>\n",
       "      <td>13.0</td>\n",
       "    </tr>\n",
       "    <tr>\n",
       "      <td>4</td>\n",
       "      <td>1950</td>\n",
       "      <td>0</td>\n",
       "      <td>0</td>\n",
       "      <td>0</td>\n",
       "      <td>0</td>\n",
       "      <td>2.5K</td>\n",
       "      <td>0</td>\n",
       "      <td>F0</td>\n",
       "      <td>0.0</td>\n",
       "      <td>33.0</td>\n",
       "    </tr>\n",
       "    <tr>\n",
       "      <td>5</td>\n",
       "      <td>1950</td>\n",
       "      <td>0</td>\n",
       "      <td>0</td>\n",
       "      <td>0</td>\n",
       "      <td>0</td>\n",
       "      <td>2.5K</td>\n",
       "      <td>0</td>\n",
       "      <td>F1</td>\n",
       "      <td>1.0</td>\n",
       "      <td>33.0</td>\n",
       "    </tr>\n",
       "    <tr>\n",
       "      <td>6</td>\n",
       "      <td>1950</td>\n",
       "      <td>1</td>\n",
       "      <td>0</td>\n",
       "      <td>0</td>\n",
       "      <td>0</td>\n",
       "      <td>250K</td>\n",
       "      <td>0</td>\n",
       "      <td>F3</td>\n",
       "      <td>4.7</td>\n",
       "      <td>100.0</td>\n",
       "    </tr>\n",
       "    <tr>\n",
       "      <td>7</td>\n",
       "      <td>1950</td>\n",
       "      <td>0</td>\n",
       "      <td>0</td>\n",
       "      <td>0</td>\n",
       "      <td>0</td>\n",
       "      <td>250K</td>\n",
       "      <td>0</td>\n",
       "      <td>F3</td>\n",
       "      <td>11.2</td>\n",
       "      <td>100.0</td>\n",
       "    </tr>\n",
       "    <tr>\n",
       "      <td>8</td>\n",
       "      <td>1950</td>\n",
       "      <td>6</td>\n",
       "      <td>0</td>\n",
       "      <td>0</td>\n",
       "      <td>0</td>\n",
       "      <td>250K</td>\n",
       "      <td>0</td>\n",
       "      <td>F2</td>\n",
       "      <td>6.8</td>\n",
       "      <td>100.0</td>\n",
       "    </tr>\n",
       "    <tr>\n",
       "      <td>9</td>\n",
       "      <td>1950</td>\n",
       "      <td>0</td>\n",
       "      <td>0</td>\n",
       "      <td>0</td>\n",
       "      <td>0</td>\n",
       "      <td>.25K</td>\n",
       "      <td>0</td>\n",
       "      <td>F0</td>\n",
       "      <td>0.0</td>\n",
       "      <td>33.0</td>\n",
       "    </tr>\n",
       "  </tbody>\n",
       "</table>\n",
       "</div>"
      ],
      "text/plain": [
       "   YEAR  INJURIES_DIRECT  INJURIES_INDIRECT  DEATHS_DIRECT  DEATHS_INDIRECT DAMAGE_PROPERTY DAMAGE_CROPS TOR_F_SCALE  TOR_LENGTH  TOR_WIDTH\n",
       "0  1950                0                  0              0                0            250K            0          F3         3.4      400.0\n",
       "1  1950                0                  0              0                0             25K            0          F1        11.5      200.0\n",
       "2  1950                2                  0              0                0             25K            0          F2        12.9       33.0\n",
       "3  1950                0                  0              0                0            2.5K            0          F2         0.0       13.0\n",
       "4  1950                0                  0              0                0            2.5K            0          F0         0.0       33.0\n",
       "5  1950                0                  0              0                0            2.5K            0          F1         1.0       33.0\n",
       "6  1950                1                  0              0                0            250K            0          F3         4.7      100.0\n",
       "7  1950                0                  0              0                0            250K            0          F3        11.2      100.0\n",
       "8  1950                6                  0              0                0            250K            0          F2         6.8      100.0\n",
       "9  1950                0                  0              0                0            .25K            0          F0         0.0       33.0"
      ]
     },
     "execution_count": 12,
     "metadata": {},
     "output_type": "execute_result"
    }
   ],
   "source": [
    "t_df.head(10)"
   ]
  },
  {
   "cell_type": "code",
   "execution_count": 13,
   "metadata": {},
   "outputs": [
    {
     "data": {
      "text/html": [
       "<div>\n",
       "<style scoped>\n",
       "    .dataframe tbody tr th:only-of-type {\n",
       "        vertical-align: middle;\n",
       "    }\n",
       "\n",
       "    .dataframe tbody tr th {\n",
       "        vertical-align: top;\n",
       "    }\n",
       "\n",
       "    .dataframe thead th {\n",
       "        text-align: right;\n",
       "    }\n",
       "</style>\n",
       "<table border=\"1\" class=\"dataframe\">\n",
       "  <thead>\n",
       "    <tr style=\"text-align: right;\">\n",
       "      <th></th>\n",
       "      <th>YEAR</th>\n",
       "      <th>INJURIES_DIRECT</th>\n",
       "      <th>INJURIES_INDIRECT</th>\n",
       "      <th>DEATHS_DIRECT</th>\n",
       "      <th>DEATHS_INDIRECT</th>\n",
       "      <th>DAMAGE_PROPERTY</th>\n",
       "      <th>DAMAGE_CROPS</th>\n",
       "      <th>TOR_F_SCALE</th>\n",
       "      <th>TOR_LENGTH</th>\n",
       "      <th>TOR_WIDTH</th>\n",
       "    </tr>\n",
       "  </thead>\n",
       "  <tbody>\n",
       "    <tr>\n",
       "      <td>1595615</td>\n",
       "      <td>2019</td>\n",
       "      <td>0</td>\n",
       "      <td>0</td>\n",
       "      <td>0</td>\n",
       "      <td>0</td>\n",
       "      <td>NaN</td>\n",
       "      <td>NaN</td>\n",
       "      <td>EF0</td>\n",
       "      <td>5.90</td>\n",
       "      <td>50.0</td>\n",
       "    </tr>\n",
       "    <tr>\n",
       "      <td>1595616</td>\n",
       "      <td>2019</td>\n",
       "      <td>0</td>\n",
       "      <td>0</td>\n",
       "      <td>0</td>\n",
       "      <td>0</td>\n",
       "      <td>0.00K</td>\n",
       "      <td>0.00K</td>\n",
       "      <td>EFU</td>\n",
       "      <td>2.84</td>\n",
       "      <td>50.0</td>\n",
       "    </tr>\n",
       "    <tr>\n",
       "      <td>1595628</td>\n",
       "      <td>2019</td>\n",
       "      <td>0</td>\n",
       "      <td>0</td>\n",
       "      <td>0</td>\n",
       "      <td>0</td>\n",
       "      <td>0.00K</td>\n",
       "      <td>0.00K</td>\n",
       "      <td>EF0</td>\n",
       "      <td>0.65</td>\n",
       "      <td>25.0</td>\n",
       "    </tr>\n",
       "    <tr>\n",
       "      <td>1595635</td>\n",
       "      <td>2019</td>\n",
       "      <td>0</td>\n",
       "      <td>0</td>\n",
       "      <td>0</td>\n",
       "      <td>0</td>\n",
       "      <td>NaN</td>\n",
       "      <td>NaN</td>\n",
       "      <td>EF0</td>\n",
       "      <td>0.51</td>\n",
       "      <td>20.0</td>\n",
       "    </tr>\n",
       "    <tr>\n",
       "      <td>1595670</td>\n",
       "      <td>2019</td>\n",
       "      <td>0</td>\n",
       "      <td>0</td>\n",
       "      <td>0</td>\n",
       "      <td>0</td>\n",
       "      <td>NaN</td>\n",
       "      <td>NaN</td>\n",
       "      <td>EF0</td>\n",
       "      <td>2.58</td>\n",
       "      <td>20.0</td>\n",
       "    </tr>\n",
       "    <tr>\n",
       "      <td>1595671</td>\n",
       "      <td>2019</td>\n",
       "      <td>0</td>\n",
       "      <td>0</td>\n",
       "      <td>0</td>\n",
       "      <td>0</td>\n",
       "      <td>NaN</td>\n",
       "      <td>NaN</td>\n",
       "      <td>EF0</td>\n",
       "      <td>3.20</td>\n",
       "      <td>40.0</td>\n",
       "    </tr>\n",
       "    <tr>\n",
       "      <td>1595672</td>\n",
       "      <td>2019</td>\n",
       "      <td>0</td>\n",
       "      <td>0</td>\n",
       "      <td>0</td>\n",
       "      <td>0</td>\n",
       "      <td>0.00K</td>\n",
       "      <td>0.00K</td>\n",
       "      <td>EF0</td>\n",
       "      <td>0.10</td>\n",
       "      <td>10.0</td>\n",
       "    </tr>\n",
       "    <tr>\n",
       "      <td>1595673</td>\n",
       "      <td>2019</td>\n",
       "      <td>0</td>\n",
       "      <td>0</td>\n",
       "      <td>0</td>\n",
       "      <td>0</td>\n",
       "      <td>NaN</td>\n",
       "      <td>NaN</td>\n",
       "      <td>EF0</td>\n",
       "      <td>0.19</td>\n",
       "      <td>10.0</td>\n",
       "    </tr>\n",
       "    <tr>\n",
       "      <td>1595688</td>\n",
       "      <td>2019</td>\n",
       "      <td>0</td>\n",
       "      <td>0</td>\n",
       "      <td>0</td>\n",
       "      <td>0</td>\n",
       "      <td>25.00K</td>\n",
       "      <td>0.00K</td>\n",
       "      <td>EF1</td>\n",
       "      <td>0.45</td>\n",
       "      <td>400.0</td>\n",
       "    </tr>\n",
       "    <tr>\n",
       "      <td>1595718</td>\n",
       "      <td>2019</td>\n",
       "      <td>0</td>\n",
       "      <td>0</td>\n",
       "      <td>0</td>\n",
       "      <td>0</td>\n",
       "      <td>60.00K</td>\n",
       "      <td>0.00K</td>\n",
       "      <td>EF0</td>\n",
       "      <td>2.82</td>\n",
       "      <td>150.0</td>\n",
       "    </tr>\n",
       "  </tbody>\n",
       "</table>\n",
       "</div>"
      ],
      "text/plain": [
       "         YEAR  INJURIES_DIRECT  INJURIES_INDIRECT  DEATHS_DIRECT  DEATHS_INDIRECT DAMAGE_PROPERTY DAMAGE_CROPS TOR_F_SCALE  TOR_LENGTH  TOR_WIDTH\n",
       "1595615  2019                0                  0              0                0             NaN          NaN         EF0        5.90       50.0\n",
       "1595616  2019                0                  0              0                0           0.00K        0.00K         EFU        2.84       50.0\n",
       "1595628  2019                0                  0              0                0           0.00K        0.00K         EF0        0.65       25.0\n",
       "1595635  2019                0                  0              0                0             NaN          NaN         EF0        0.51       20.0\n",
       "1595670  2019                0                  0              0                0             NaN          NaN         EF0        2.58       20.0\n",
       "1595671  2019                0                  0              0                0             NaN          NaN         EF0        3.20       40.0\n",
       "1595672  2019                0                  0              0                0           0.00K        0.00K         EF0        0.10       10.0\n",
       "1595673  2019                0                  0              0                0             NaN          NaN         EF0        0.19       10.0\n",
       "1595688  2019                0                  0              0                0          25.00K        0.00K         EF1        0.45      400.0\n",
       "1595718  2019                0                  0              0                0          60.00K        0.00K         EF0        2.82      150.0"
      ]
     },
     "execution_count": 13,
     "metadata": {},
     "output_type": "execute_result"
    }
   ],
   "source": [
    "t_df.tail(10)"
   ]
  },
  {
   "cell_type": "markdown",
   "metadata": {},
   "source": [
    "Showing all variables that are missing. "
   ]
  },
  {
   "cell_type": "code",
   "execution_count": 18,
   "metadata": {},
   "outputs": [
    {
     "data": {
      "text/plain": [
       "YEAR                     0\n",
       "INJURIES_DIRECT          0\n",
       "INJURIES_INDIRECT        0\n",
       "DEATHS_DIRECT            0\n",
       "DEATHS_INDIRECT          0\n",
       "DAMAGE_PROPERTY       8842\n",
       "DAMAGE_CROPS         15288\n",
       "TOR_F_SCALE           1970\n",
       "TOR_LENGTH              28\n",
       "TOR_WIDTH               28\n",
       "dtype: int64"
      ]
     },
     "execution_count": 18,
     "metadata": {},
     "output_type": "execute_result"
    }
   ],
   "source": [
    "t_df.isna().sum()"
   ]
  },
  {
   "cell_type": "markdown",
   "metadata": {},
   "source": [
    "Since we are doing a year over year comparison, I will take the means of the variables, but first I will take care of the missing values. The Fujita scale, I will transform those so they have their own column, EF0 (total), etc..."
   ]
  },
  {
   "cell_type": "markdown",
   "metadata": {},
   "source": [
    "Lets start with injuries direct, first we will take the mean of the injuries and check the scatter plot. "
   ]
  },
  {
   "cell_type": "code",
   "execution_count": 19,
   "metadata": {},
   "outputs": [],
   "source": [
    "tornado = t_df.groupby('YEAR',as_index = False).agg({\"INJURIES_DIRECT\": \"mean\"})"
   ]
  },
  {
   "cell_type": "code",
   "execution_count": 20,
   "metadata": {},
   "outputs": [
    {
     "data": {
      "image/png": "[encoded data removed]",
      "text/plain": [
       "<Figure size 432x288 with 1 Axes>"
      ]
     },
     "metadata": {
      "needs_background": "light"
     },
     "output_type": "display_data"
    }
   ],
   "source": [
    "tornado.INJURIES_DIRECT.plot.hist(grid=True, bins=20, rwidth=0.9,color='#607c8e')\n",
    "plt.title('Average Injuries Directly Related to Tornado')\n",
    "plt.xlabel('Direct Injury')\n",
    "plt.ylabel('Counts')\n",
    "plt.grid(axis='y', alpha=0.75)"
   ]
  },
  {
   "cell_type": "code",
   "execution_count": 23,
   "metadata": {},
   "outputs": [
    {
     "data": {
      "image/png": "[encoded data removed]",
      "text/plain": [
       "<Figure size 432x288 with 1 Axes>"
      ]
     },
     "metadata": {
      "needs_background": "light"
     },
     "output_type": "display_data"
    }
   ],
   "source": [
    "thinkplot.Scatter(tornado.YEAR, tornado.INJURIES_DIRECT, alpha=1)\n",
    "thinkplot.Config(xlabel='Year',\n",
    "                 ylabel='Avg Directly Related Injuries',\n",
    "                 legend=False)"
   ]
  },
  {
   "cell_type": "markdown",
   "metadata": {},
   "source": [
    "It doesn't look like there is much changing with the data. It looks like it is spread pretty wid at the beginning ad then it clusters closer together. I will include it for now, but will most likely drop when runing my test. It just seems like the line is pretty flat. "
   ]
  },
  {
   "cell_type": "code",
   "execution_count": 24,
   "metadata": {},
   "outputs": [],
   "source": [
    "tornado['INJURIES_INDIRECT'] = (t_df.groupby('YEAR',as_index = False).agg({\"INJURIES_INDIRECT\": \"mean\"})).INJURIES_INDIRECT"
   ]
  },
  {
   "cell_type": "code",
   "execution_count": 25,
   "metadata": {},
   "outputs": [
    {
     "data": {
      "image/png": "[encoded data removed]",
      "text/plain": [
       "<Figure size 432x288 with 1 Axes>"
      ]
     },
     "metadata": {
      "needs_background": "light"
     },
     "output_type": "display_data"
    }
   ],
   "source": [
    "tornado.INJURIES_INDIRECT.plot.hist(grid=True, bins=20, rwidth=0.9,color='#607c8e')\n",
    "plt.title('Average Injuries Indirectly Related to Tornado')\n",
    "plt.xlabel('Indirect Injury')\n",
    "plt.ylabel('Counts')\n",
    "plt.grid(axis='y', alpha=0.75)"
   ]
  },
  {
   "cell_type": "code",
   "execution_count": 26,
   "metadata": {},
   "outputs": [
    {
     "data": {
      "image/png": "[encoded data removed]",
      "text/plain": [
       "<Figure size 432x288 with 1 Axes>"
      ]
     },
     "metadata": {
      "needs_background": "light"
     },
     "output_type": "display_data"
    }
   ],
   "source": [
    "thinkplot.Scatter(tornado.YEAR, tornado.INJURIES_INDIRECT, alpha=1)\n",
    "thinkplot.Config(xlabel='Year',\n",
    "                 ylabel='Avg Indirectly Related Injuries',\n",
    "                 legend=False)"
   ]
  },
  {
   "cell_type": "markdown",
   "metadata": {},
   "source": [
    "Looks like this is a new type of variable that was added, I am going to drop, cause I am not entirely show that it would be helpful in my final analysis.  "
   ]
  },
  {
   "cell_type": "code",
   "execution_count": 27,
   "metadata": {},
   "outputs": [],
   "source": [
    "tornado['DEATHS_DIRECT'] = (t_df.groupby('YEAR',as_index = False).agg({\"DEATHS_DIRECT\": \"mean\"})).DEATHS_DIRECT"
   ]
  },
  {
   "cell_type": "code",
   "execution_count": 28,
   "metadata": {},
   "outputs": [
    {
     "data": {
      "image/png": "[encoded data removed]",
      "text/plain": [
       "<Figure size 432x288 with 1 Axes>"
      ]
     },
     "metadata": {
      "needs_background": "light"
     },
     "output_type": "display_data"
    }
   ],
   "source": [
    "tornado.DEATHS_DIRECT.plot.hist(grid=True, bins=20, rwidth=0.9,color='#607c8e')\n",
    "plt.title('Average Deaths Directly Related to Tornado')\n",
    "plt.xlabel('Direct Deaths')\n",
    "plt.ylabel('Counts')\n",
    "plt.grid(axis='y', alpha=0.75)"
   ]
  },
  {
   "cell_type": "code",
   "execution_count": 29,
   "metadata": {},
   "outputs": [
    {
     "data": {
      "image/png": "[encoded data removed]",
      "text/plain": [
       "<Figure size 432x288 with 1 Axes>"
      ]
     },
     "metadata": {
      "needs_background": "light"
     },
     "output_type": "display_data"
    }
   ],
   "source": [
    "thinkplot.Scatter(tornado.YEAR, tornado.DEATHS_DIRECT, alpha=1)\n",
    "thinkplot.Config(xlabel='Year',\n",
    "                 ylabel='Avg Direct Deaths',\n",
    "                 legend=False)"
   ]
  },
  {
   "cell_type": "markdown",
   "metadata": {},
   "source": [
    "This scatter plot looks similar to the injuries, the tail looks pretty spread out with some outliers. I will probably drop these values later, but for now I will leave them to see what the result brings us. "
   ]
  },
  {
   "cell_type": "code",
   "execution_count": 30,
   "metadata": {},
   "outputs": [],
   "source": [
    "tornado['DEATHS_INDIRECT'] = (t_df.groupby('YEAR',as_index = False).agg({\"DEATHS_INDIRECT\": \"mean\"})).DEATHS_INDIRECT"
   ]
  },
  {
   "cell_type": "code",
   "execution_count": 31,
   "metadata": {},
   "outputs": [
    {
     "data": {
      "image/png": "[encoded data removed]",
      "text/plain": [
       "<Figure size 432x288 with 1 Axes>"
      ]
     },
     "metadata": {
      "needs_background": "light"
     },
     "output_type": "display_data"
    }
   ],
   "source": [
    "tornado.DEATHS_INDIRECT.plot.hist(grid=True, bins=20, rwidth=0.9,color='#607c8e')\n",
    "plt.title('Average Deaths Indirectly Related to Tornado')\n",
    "plt.xlabel('Indirect Deaths')\n",
    "plt.ylabel('Counts')\n",
    "plt.grid(axis='y', alpha=0.75)"
   ]
  },
  {
   "cell_type": "code",
   "execution_count": 32,
   "metadata": {},
   "outputs": [
    {
     "data": {
      "image/png": "[encoded data removed]",
      "text/plain": [
       "<Figure size 432x288 with 1 Axes>"
      ]
     },
     "metadata": {
      "needs_background": "light"
     },
     "output_type": "display_data"
    }
   ],
   "source": [
    "thinkplot.Scatter(tornado.YEAR, tornado.DEATHS_INDIRECT, alpha=1)\n",
    "thinkplot.Config(xlabel='Year',\n",
    "                 ylabel='Avg inDirect Deaths',\n",
    "                 legend=False)"
   ]
  },
  {
   "cell_type": "markdown",
   "metadata": {},
   "source": [
    "DAMAGE_crops is up next, notice that they are listed with K's, M's and there is a B's. I will first show the values than transform them and aggregate it by year. "
   ]
  },
  {
   "cell_type": "code",
   "execution_count": 34,
   "metadata": {},
   "outputs": [
    {
     "data": {
      "text/plain": [
       "0           33979\n",
       "0.00K       14528\n",
       "0            4582\n",
       "0K            333\n",
       "5K            163\n",
       "5.00K         127\n",
       "10.00K        120\n",
       "50K           101\n",
       "10K            89\n",
       "1K             88\n",
       "2.00K          83\n",
       "1.00K          76\n",
       "2K             72\n",
       "100.00K        71\n",
       "50.00K         51\n",
       ".5K            51\n",
       "100K           43\n",
       "20K            42\n",
       "20.00K         40\n",
       "15K            36\n",
       "25K            33\n",
       "500.00K        33\n",
       "500K           30\n",
       ".05K           29\n",
       "25.00K         28\n",
       "200.00K        27\n",
       "250.00K        27\n",
       "3.00K          26\n",
       "3K             25\n",
       "30K            22\n",
       "15.00K         22\n",
       "4.00K          22\n",
       "1M             19\n",
       "150.00K        19\n",
       "0.50K          17\n",
       "30.00K         15\n",
       "300.00K        15\n",
       "75K            15\n",
       "0M             14\n",
       "4K             14\n",
       "250K           13\n",
       "200K           13\n",
       "75.00K         11\n",
       "0.10K           9\n",
       "400.00K         9\n",
       ".1K             8\n",
       "2.00M           8\n",
       "40.00K          8\n",
       "40K             8\n",
       "150K            7\n",
       "7.00K           7\n",
       "700.00K         7\n",
       "400K            7\n",
       "12.00K          6\n",
       "2M              6\n",
       "1.00M           6\n",
       "80K             6\n",
       ".1M             6\n",
       "60.00K          6\n",
       "300K            6\n",
       "8K              5\n",
       "800.00K         5\n",
       "12K             4\n",
       ".2K             4\n",
       "6.00K           4\n",
       "1.50K           4\n",
       "600.00K         4\n",
       "8.00K           4\n",
       "5M              4\n",
       "4.00M           3\n",
       "1.5K            3\n",
       "0.20K           3\n",
       "0.50M           3\n",
       "35.00K          3\n",
       "6K              3\n",
       "70K             3\n",
       "3M              3\n",
       "700K            3\n",
       "35K             3\n",
       ".01M            2\n",
       "60K             2\n",
       "155.00K         2\n",
       "500             2\n",
       "2.5K            2\n",
       "3.00M           2\n",
       "0.80K           2\n",
       ".3M             2\n",
       "45K             2\n",
       "750.00K         2\n",
       "11.00K          2\n",
       ".35M            2\n",
       "3.5K            2\n",
       "350.00K         2\n",
       "2.2M            2\n",
       ".5M             2\n",
       "50M             2\n",
       "1.5M            2\n",
       "70M             1\n",
       "600K            1\n",
       "330K            1\n",
       "13.00K          1\n",
       "240.00K         1\n",
       ".4M             1\n",
       "0.70K           1\n",
       "2.20M           1\n",
       "21.00K          1\n",
       "1.4M            1\n",
       "65.00K          1\n",
       "120K            1\n",
       "1.70M           1\n",
       ".01K            1\n",
       "140.00K         1\n",
       "13.00M          1\n",
       "1000.00K        1\n",
       "4.50K           1\n",
       "90K             1\n",
       "261K            1\n",
       "4M              1\n",
       "1.77M           1\n",
       "00              1\n",
       ".9M             1\n",
       "175.00K         1\n",
       "32K             1\n",
       "78.00K          1\n",
       "7.50M           1\n",
       "2.2K            1\n",
       "18.00K          1\n",
       "43K             1\n",
       "1.04M           1\n",
       "0.25K           1\n",
       "6.50M           1\n",
       "900.00K         1\n",
       "90.00K          1\n",
       "1.12M           1\n",
       "9.00K           1\n",
       "600             1\n",
       "70.00K          1\n",
       "22.00K          1\n",
       ".15M            1\n",
       "800K            1\n",
       "1.3M            1\n",
       "24.00K          1\n",
       "1.20M           1\n",
       "630.00K         1\n",
       "140K            1\n",
       "425.00K         1\n",
       "6.00M           1\n",
       "750K            1\n",
       "3.5M            1\n",
       ".02M            1\n",
       "7.5K            1\n",
       "45.00K          1\n",
       ".25M            1\n",
       "6.5M            1\n",
       ".6M             1\n",
       "3.50K           1\n",
       "402.00K         1\n",
       "110.00K         1\n",
       ".14M            1\n",
       "22K             1\n",
       ".23M            1\n",
       "112.00K         1\n",
       "49.50K          1\n",
       "330.00K         1\n",
       "0.75K           1\n",
       "12.50K          1\n",
       ".7K             1\n",
       ".11M            1\n",
       "193.9K          1\n",
       "80.00K          1\n",
       "90.70K          1\n",
       "55.00K          1\n",
       "125K            1\n",
       "Name: DAMAGE_CROPS, dtype: int64"
      ]
     },
     "execution_count": 34,
     "metadata": {},
     "output_type": "execute_result"
    }
   ],
   "source": [
    "t_df.DAMAGE_CROPS.value_counts()"
   ]
  },
  {
   "cell_type": "code",
   "execution_count": 35,
   "metadata": {},
   "outputs": [
    {
     "name": "stderr",
     "output_type": "stream",
     "text": [
      "C:\\Users\\alero\\AppData\\Local\\Continuum\\anaconda3\\lib\\site-packages\\ipykernel_launcher.py:1: UserWarning:\n",
      "\n",
      "Pandas doesn't allow columns to be created via a new attribute name - see https://pandas.pydata.org/pandas-docs/stable/indexing.html#attribute-access\n",
      "\n"
     ]
    }
   ],
   "source": [
    "t_df.DAMAGE_CROPS_t  = (t_df.DAMAGE_CROPS.replace(r'[KMB]+$', '', regex=True).astype(float) * t_df.DAMAGE_CROPS.str.extract(r'[\\d\\.]+([KMB]+)', expand=False).fillna(1).replace(['K','M','B'], [10**3, 10**6,10**9]).astype(int))"
   ]
  },
  {
   "cell_type": "code",
   "execution_count": 36,
   "metadata": {},
   "outputs": [
    {
     "data": {
      "text/plain": [
       "0.0           53437\n",
       "5000.0          290\n",
       "10000.0         211\n",
       "1000.0          164\n",
       "2000.0          155\n",
       "50000.0         152\n",
       "100000.0        120\n",
       "20000.0          83\n",
       "500.0            70\n",
       "500000.0         68\n",
       "25000.0          61\n",
       "15000.0          58\n",
       "3000.0           51\n",
       "250000.0         41\n",
       "200000.0         40\n",
       "30000.0          37\n",
       "4000.0           36\n",
       "50.0             29\n",
       "150000.0         27\n",
       "1000000.0        26\n",
       "75000.0          26\n",
       "300000.0         23\n",
       "100.0            17\n",
       "400000.0         17\n",
       "40000.0          16\n",
       "2000000.0        14\n",
       "700000.0         10\n",
       "12000.0          10\n",
       "8000.0            9\n",
       "60000.0           8\n",
       "1500.0            7\n",
       "80000.0           7\n",
       "7000.0            7\n",
       "6000.0            7\n",
       "200.0             7\n",
       "800000.0          6\n",
       "600000.0          6\n",
       "35000.0           6\n",
       "3000000.0         5\n",
       "350000.0          4\n",
       "70000.0           4\n",
       "5000000.0         4\n",
       "4000000.0         4\n",
       "2200000.0         3\n",
       "3500.0            3\n",
       "750000.0          3\n",
       "45000.0           3\n",
       "140000.0          3\n",
       "11000.0           2\n",
       "1500000.0         2\n",
       "6500000.0         2\n",
       "700.0             2\n",
       "900000.0          2\n",
       "330000.0          2\n",
       "800.0             2\n",
       "50000000.0        2\n",
       "22000.0           2\n",
       "2500.0            2\n",
       "110000.0          2\n",
       "155000.0          2\n",
       "90000.0           2\n",
       "12500.0           1\n",
       "10.0              1\n",
       "1120000.0         1\n",
       "70000000.0        1\n",
       "240000.0          1\n",
       "7500000.0         1\n",
       "402000.0          1\n",
       "24000.0           1\n",
       "21000.0           1\n",
       "1040000.0         1\n",
       "6000000.0         1\n",
       "1300000.0         1\n",
       "600.0             1\n",
       "49500.0           1\n",
       "4500.0            1\n",
       "7500.0            1\n",
       "425000.0          1\n",
       "261000.0          1\n",
       "230000.0          1\n",
       "13000000.0        1\n",
       "32000.0           1\n",
       "125000.0          1\n",
       "750.0             1\n",
       "65000.0           1\n",
       "1770000.0         1\n",
       "1700000.0         1\n",
       "1400000.0         1\n",
       "18000.0           1\n",
       "78000.0           1\n",
       "175000.0          1\n",
       "13000.0           1\n",
       "250.0             1\n",
       "2200.0            1\n",
       "193900.0          1\n",
       "630000.0          1\n",
       "90700.0           1\n",
       "9000.0            1\n",
       "1200000.0         1\n",
       "112000.0          1\n",
       "43000.0           1\n",
       "55000.0           1\n",
       "120000.0          1\n",
       "3500000.0         1\n",
       "Name: DAMAGE_CROPS, dtype: int64"
      ]
     },
     "execution_count": 36,
     "metadata": {},
     "output_type": "execute_result"
    }
   ],
   "source": [
    "t_df.DAMAGE_CROPS_t.value_counts()"
   ]
  },
  {
   "cell_type": "code",
   "execution_count": 37,
   "metadata": {},
   "outputs": [
    {
     "data": {
      "text/plain": [
       "1950     223\n",
       "1951     269\n",
       "1952     272\n",
       "1953     492\n",
       "1954     609\n",
       "1955     632\n",
       "1956     567\n",
       "1957     930\n",
       "1958     608\n",
       "1959     630\n",
       "1960     645\n",
       "1961     772\n",
       "1962     673\n",
       "1963     493\n",
       "1964     760\n",
       "1965     990\n",
       "1966     606\n",
       "1967     966\n",
       "1968     715\n",
       "1969     650\n",
       "1970     700\n",
       "1971     963\n",
       "1972     776\n",
       "1973    1198\n",
       "1974    1120\n",
       "1975     962\n",
       "1976     935\n",
       "1977     922\n",
       "1978     875\n",
       "1979     918\n",
       "1980     972\n",
       "1981     830\n",
       "1982    1180\n",
       "1983     995\n",
       "1984    1020\n",
       "1985     773\n",
       "1986     849\n",
       "1987     695\n",
       "1988     773\n",
       "1989     921\n",
       "1990    1264\n",
       "1991    1208\n",
       "1992    1404\n",
       "1993     553\n",
       "1994     830\n",
       "1995    1150\n",
       "1996     104\n",
       "1997     186\n",
       "1998     201\n",
       "1999     129\n",
       "2000     149\n",
       "2001     162\n",
       "2002     103\n",
       "2003     178\n",
       "2004     191\n",
       "2005     121\n",
       "2006     265\n",
       "2007    1043\n",
       "2008    1643\n",
       "2009    1025\n",
       "2010    1142\n",
       "2011    1693\n",
       "2012     771\n",
       "2013     860\n",
       "2014     752\n",
       "2015    1080\n",
       "2016     861\n",
       "2017    1236\n",
       "2018     962\n",
       "2019    1292\n",
       "Name: YEAR, dtype: int64"
      ]
     },
     "execution_count": 37,
     "metadata": {},
     "output_type": "execute_result"
    }
   ],
   "source": [
    "t_df[t_df.DAMAGE_CROPS_t==0].YEAR.value_counts().sort_index()"
   ]
  },
  {
   "cell_type": "code",
   "execution_count": 38,
   "metadata": {},
   "outputs": [
    {
     "data": {
      "text/plain": [
       "1996    1093\n",
       "1997     936\n",
       "1998    1189\n",
       "1999    1347\n",
       "2000     966\n",
       "2001    1128\n",
       "2002     899\n",
       "2003    1303\n",
       "2004    1626\n",
       "2005    1111\n",
       "2006     958\n",
       "2007     141\n",
       "2008     174\n",
       "2009     172\n",
       "2010     222\n",
       "2011     276\n",
       "2012     257\n",
       "2013     113\n",
       "2014     187\n",
       "2015     183\n",
       "2016     184\n",
       "2017     331\n",
       "2018     236\n",
       "2019     256\n",
       "Name: YEAR, dtype: int64"
      ]
     },
     "execution_count": 38,
     "metadata": {},
     "output_type": "execute_result"
    }
   ],
   "source": [
    "t_df[t_df.DAMAGE_CROPS.isna()].YEAR.value_counts().sort_index()"
   ]
  },
  {
   "cell_type": "markdown",
   "metadata": {},
   "source": [
    "I am going to set the values as zero, assuming that the data was just not entered. "
   ]
  },
  {
   "cell_type": "code",
   "execution_count": 39,
   "metadata": {},
   "outputs": [],
   "source": [
    "t_df[\"DAMAGE_CROPS\"].fillna(\"0\", inplace = True)\n",
    "t_df[\"DAMAGE_CROPS_t\"]  = (t_df.DAMAGE_CROPS.replace(r'[KMB]+$', '', regex=True).astype(float) * t_df.DAMAGE_CROPS.str.extract(r'[\\d\\.]+([KMB]+)', expand=False).fillna(1).replace(['K','M','B'], [10**3, 10**6,10**9]).astype(int))"
   ]
  },
  {
   "cell_type": "code",
   "execution_count": 40,
   "metadata": {},
   "outputs": [
    {
     "data": {
      "text/plain": [
       "0.0           53437\n",
       "5000.0          290\n",
       "10000.0         211\n",
       "1000.0          164\n",
       "2000.0          155\n",
       "50000.0         152\n",
       "100000.0        120\n",
       "20000.0          83\n",
       "500.0            70\n",
       "500000.0         68\n",
       "25000.0          61\n",
       "15000.0          58\n",
       "3000.0           51\n",
       "250000.0         41\n",
       "200000.0         40\n",
       "30000.0          37\n",
       "4000.0           36\n",
       "50.0             29\n",
       "150000.0         27\n",
       "1000000.0        26\n",
       "75000.0          26\n",
       "300000.0         23\n",
       "100.0            17\n",
       "400000.0         17\n",
       "40000.0          16\n",
       "2000000.0        14\n",
       "700000.0         10\n",
       "12000.0          10\n",
       "8000.0            9\n",
       "60000.0           8\n",
       "1500.0            7\n",
       "80000.0           7\n",
       "7000.0            7\n",
       "6000.0            7\n",
       "200.0             7\n",
       "800000.0          6\n",
       "600000.0          6\n",
       "35000.0           6\n",
       "3000000.0         5\n",
       "350000.0          4\n",
       "70000.0           4\n",
       "5000000.0         4\n",
       "4000000.0         4\n",
       "2200000.0         3\n",
       "3500.0            3\n",
       "750000.0          3\n",
       "45000.0           3\n",
       "140000.0          3\n",
       "11000.0           2\n",
       "1500000.0         2\n",
       "6500000.0         2\n",
       "700.0             2\n",
       "900000.0          2\n",
       "330000.0          2\n",
       "800.0             2\n",
       "50000000.0        2\n",
       "22000.0           2\n",
       "2500.0            2\n",
       "110000.0          2\n",
       "155000.0          2\n",
       "90000.0           2\n",
       "12500.0           1\n",
       "10.0              1\n",
       "1120000.0         1\n",
       "70000000.0        1\n",
       "240000.0          1\n",
       "7500000.0         1\n",
       "402000.0          1\n",
       "24000.0           1\n",
       "21000.0           1\n",
       "1040000.0         1\n",
       "6000000.0         1\n",
       "1300000.0         1\n",
       "600.0             1\n",
       "49500.0           1\n",
       "4500.0            1\n",
       "7500.0            1\n",
       "425000.0          1\n",
       "261000.0          1\n",
       "230000.0          1\n",
       "13000000.0        1\n",
       "32000.0           1\n",
       "125000.0          1\n",
       "750.0             1\n",
       "65000.0           1\n",
       "1770000.0         1\n",
       "1700000.0         1\n",
       "1400000.0         1\n",
       "18000.0           1\n",
       "78000.0           1\n",
       "175000.0          1\n",
       "13000.0           1\n",
       "250.0             1\n",
       "2200.0            1\n",
       "193900.0          1\n",
       "630000.0          1\n",
       "90700.0           1\n",
       "9000.0            1\n",
       "1200000.0         1\n",
       "112000.0          1\n",
       "43000.0           1\n",
       "55000.0           1\n",
       "120000.0          1\n",
       "3500000.0         1\n",
       "Name: DAMAGE_CROPS, dtype: int64"
      ]
     },
     "execution_count": 40,
     "metadata": {},
     "output_type": "execute_result"
    }
   ],
   "source": [
    "t_df.DAMAGE_CROPS_t.value_counts()"
   ]
  },
  {
   "cell_type": "code",
   "execution_count": 41,
   "metadata": {},
   "outputs": [
    {
     "data": {
      "text/plain": [
       "1996    1093\n",
       "1997     936\n",
       "1998    1189\n",
       "1999    1347\n",
       "2000     966\n",
       "2001    1128\n",
       "2002     899\n",
       "2003    1303\n",
       "2004    1626\n",
       "2005    1111\n",
       "2006     958\n",
       "2007     141\n",
       "2008     174\n",
       "2009     172\n",
       "2010     222\n",
       "2011     276\n",
       "2012     257\n",
       "2013     113\n",
       "2014     187\n",
       "2015     183\n",
       "2016     184\n",
       "2017     331\n",
       "2018     236\n",
       "2019     256\n",
       "Name: YEAR, dtype: int64"
      ]
     },
     "execution_count": 41,
     "metadata": {},
     "output_type": "execute_result"
    }
   ],
   "source": [
    "t_df[t_df.DAMAGE_CROPS_t.isna()].YEAR.value_counts().sort_index()"
   ]
  },
  {
   "cell_type": "code",
   "execution_count": 42,
   "metadata": {},
   "outputs": [],
   "source": [
    "tornado['DAMAGE_CROPS'] = (t_df.groupby('YEAR',as_index = False).agg({\"DAMAGE_CROPS_t\": \"mean\"})).DAMAGE_CROPS_t"
   ]
  },
  {
   "cell_type": "code",
   "execution_count": 43,
   "metadata": {},
   "outputs": [
    {
     "data": {
      "image/png": "[encoded data removed]",
      "text/plain": [
       "<Figure size 432x288 with 1 Axes>"
      ]
     },
     "metadata": {
      "needs_background": "light"
     },
     "output_type": "display_data"
    }
   ],
   "source": [
    "tornado.DAMAGE_CROPS.plot.hist(grid=True, bins=20, rwidth=0.9,color='#607c8e')\n",
    "plt.title('Damaged Crops')\n",
    "plt.xlabel('Damaged Crops')\n",
    "plt.ylabel('Counts')\n",
    "plt.grid(axis='y', alpha=0.75)"
   ]
  },
  {
   "cell_type": "code",
   "execution_count": 44,
   "metadata": {},
   "outputs": [
    {
     "data": {
      "image/png": "[encoded data removed]",
      "text/plain": [
       "<Figure size 432x288 with 1 Axes>"
      ]
     },
     "metadata": {
      "needs_background": "light"
     },
     "output_type": "display_data"
    }
   ],
   "source": [
    "thinkplot.Scatter(tornado.YEAR, tornado.DAMAGE_CROPS, alpha=1)\n",
    "thinkplot.Config(xlabel='Year',\n",
    "                 ylabel='Avg Damaged Crops per year',\n",
    "                 legend=False)"
   ]
  },
  {
   "cell_type": "markdown",
   "metadata": {},
   "source": [
    "I am going to do the same thing with damaged property as I did with crops. "
   ]
  },
  {
   "cell_type": "code",
   "execution_count": 45,
   "metadata": {},
   "outputs": [],
   "source": [
    "t_df[\"DAMAGE_PROPERTY\"].fillna(\"0\", inplace = True)\n",
    "t_df[\"DAMAGE_PROPERTY\"]  = t_df[\"DAMAGE_PROPERTY\"].astype(str)"
   ]
  },
  {
   "cell_type": "code",
   "execution_count": 46,
   "metadata": {},
   "outputs": [],
   "source": [
    "t_df[\"DAMAGE_PROPERTY_t\"] = (pd.to_numeric(t_df.DAMAGE_PROPERTY.replace(r'[KMB]+$', '', regex=True),errors='coerce').fillna(0) * t_df.DAMAGE_PROPERTY.str.extract(r'[\\d\\.]+([KMB]+)', expand=False).fillna(1).replace(['K','M','B'], [10**3, 10**6,10**9]).astype(int))"
   ]
  },
  {
   "cell_type": "code",
   "execution_count": 47,
   "metadata": {},
   "outputs": [
    {
     "data": {
      "text/plain": [
       "YEAR                    0\n",
       "INJURIES_DIRECT         0\n",
       "INJURIES_INDIRECT       0\n",
       "DEATHS_DIRECT           0\n",
       "DEATHS_INDIRECT         0\n",
       "DAMAGE_PROPERTY         0\n",
       "DAMAGE_CROPS            0\n",
       "TOR_F_SCALE          1970\n",
       "TOR_LENGTH             28\n",
       "TOR_WIDTH              28\n",
       "DAMAGE_CROPS_t          0\n",
       "DAMAGE_PROPERTY_t       0\n",
       "dtype: int64"
      ]
     },
     "execution_count": 47,
     "metadata": {},
     "output_type": "execute_result"
    }
   ],
   "source": [
    "t_df.isna().sum()"
   ]
  },
  {
   "cell_type": "code",
   "execution_count": 48,
   "metadata": {},
   "outputs": [],
   "source": [
    "tornado['DAMAGE_PROPERTY'] = (t_df.groupby('YEAR',as_index = False).agg({\"DAMAGE_PROPERTY_t\": \"mean\"})).DAMAGE_PROPERTY_t"
   ]
  },
  {
   "cell_type": "code",
   "execution_count": 49,
   "metadata": {},
   "outputs": [
    {
     "data": {
      "image/png": "[encoded data removed]",
      "text/plain": [
       "<Figure size 432x288 with 1 Axes>"
      ]
     },
     "metadata": {
      "needs_background": "light"
     },
     "output_type": "display_data"
    }
   ],
   "source": [
    "tornado.DAMAGE_PROPERTY.plot.hist(grid=True, bins=20, rwidth=0.9,color='#607c8e')\n",
    "plt.title('Damaged Property')\n",
    "plt.xlabel('Damaged Property')\n",
    "plt.ylabel('Counts')\n",
    "plt.grid(axis='y', alpha=0.75)"
   ]
  },
  {
   "cell_type": "code",
   "execution_count": 50,
   "metadata": {},
   "outputs": [
    {
     "data": {
      "image/png": "[encoded data removed]",
      "text/plain": [
       "<Figure size 432x288 with 1 Axes>"
      ]
     },
     "metadata": {
      "needs_background": "light"
     },
     "output_type": "display_data"
    }
   ],
   "source": [
    "thinkplot.Scatter(tornado.YEAR, tornado.DAMAGE_PROPERTY, alpha=1)\n",
    "thinkplot.Config(xlabel='Year',\n",
    "                 ylabel='Avg Damaged Property per year',\n",
    "                 legend=False)"
   ]
  },
  {
   "cell_type": "markdown",
   "metadata": {},
   "source": [
    "Damage property might look like it is moving up, but not a ton, it appears pretty flat, with possibly a few outliers."
   ]
  },
  {
   "cell_type": "markdown",
   "metadata": {},
   "source": [
    "Onto TOR_F_SCALE  we need to figure out what to do with the EFU and the missing values. "
   ]
  },
  {
   "cell_type": "markdown",
   "metadata": {},
   "source": [
    "F_scale relates to the storm rating for tornadoes. Where F0 is mild to F5 is terrible. I want to see when the naming changed from F to EF. I know there are some missing values as well. It looks like EFU relates to missing or unidentified. So we check when that changed as well. I will make the values similar so that we can update appropriately. "
   ]
  },
  {
   "cell_type": "code",
   "execution_count": 51,
   "metadata": {},
   "outputs": [],
   "source": [
    "t_df.loc[(t_df.TOR_F_SCALE.isna() ),'TOR_F_SCALE']= 'NA'"
   ]
  },
  {
   "cell_type": "code",
   "execution_count": 52,
   "metadata": {},
   "outputs": [
    {
     "data": {
      "image/png": "[encoded data removed]",
      "text/plain": [
       "<Figure size 432x288 with 1 Axes>"
      ]
     },
     "metadata": {
      "needs_background": "light"
     },
     "output_type": "display_data"
    }
   ],
   "source": [
    "hist = thinkstats2.Hist(t_df.TOR_F_SCALE, label='Fujita Scale')\n",
    "thinkplot.Hist(hist)\n",
    "thinkplot.Config(xlabel='F scale', ylabel='Count')"
   ]
  },
  {
   "cell_type": "code",
   "execution_count": 53,
   "metadata": {},
   "outputs": [
    {
     "data": {
      "text/plain": [
       "YEAR  TOR_F_SCALE\n",
       "1950  NA               6\n",
       "1951  NA              39\n",
       "1952  NA              12\n",
       "1953  NA              37\n",
       "1954  NA              40\n",
       "1955  NA              76\n",
       "1956  NA              45\n",
       "1957  NA              93\n",
       "1958  NA              83\n",
       "1959  NA              74\n",
       "1960  NA              70\n",
       "1961  NA              70\n",
       "1962  NA              66\n",
       "1963  NA              34\n",
       "1964  NA              82\n",
       "1965  NA             120\n",
       "1966  NA              84\n",
       "1967  NA             144\n",
       "1968  NA              53\n",
       "1969  NA              59\n",
       "1970  NA              77\n",
       "1971  NA              11\n",
       "1972  NA               2\n",
       "1974  NA               9\n",
       "1975  NA               6\n",
       "1976  NA              48\n",
       "1977  NA             181\n",
       "1978  NA             203\n",
       "1979  NA              38\n",
       "1980  NA              24\n",
       "1982  NA               1\n",
       "1993  NA               3\n",
       "1994  NA              11\n",
       "1995  NA              69\n",
       "2016  EFU             31\n",
       "2017  EFU             67\n",
       "2018  EFU             18\n",
       "2019  EFU            182\n",
       "dtype: int64"
      ]
     },
     "execution_count": 53,
     "metadata": {},
     "output_type": "execute_result"
    }
   ],
   "source": [
    "(t_df.query('TOR_F_SCALE.str.contains(\"EFU\") or TOR_F_SCALE.str.contains(\"NA\") ', engine = 'python')).groupby([\"YEAR\", \"TOR_F_SCALE\"]).size()"
   ]
  },
  {
   "cell_type": "markdown",
   "metadata": {},
   "source": [
    "It appears that these are missing the EFU values or unidentified. Since the f_scale is catagorical data I am going to drop the missing values and transpose the the column to 5 new columns that have the total number of category 1, 2, 3, 4, and 5 values. To do this I will need to update the naming conventions so they are all EF accross the board."
   ]
  },
  {
   "cell_type": "code",
   "execution_count": 54,
   "metadata": {},
   "outputs": [],
   "source": [
    "t_df.loc[(t_df.TOR_F_SCALE == 'F0'),'TOR_F_SCALE']= 'EF0'\n",
    "t_df.loc[(t_df.TOR_F_SCALE == 'F1'),'TOR_F_SCALE']= 'EF1'\n",
    "t_df.loc[(t_df.TOR_F_SCALE == 'F2'),'TOR_F_SCALE']= 'EF2'\n",
    "t_df.loc[(t_df.TOR_F_SCALE == 'F3'),'TOR_F_SCALE']= 'EF3'\n",
    "t_df.loc[(t_df.TOR_F_SCALE == 'F4'),'TOR_F_SCALE']= 'EF4'\n",
    "t_df.loc[(t_df.TOR_F_SCALE == 'F5'),'TOR_F_SCALE']= 'EF5'"
   ]
  },
  {
   "cell_type": "code",
   "execution_count": 55,
   "metadata": {},
   "outputs": [],
   "source": [
    "t_df2 = t_df[t_df[\"TOR_F_SCALE\"].isin([\"EF0\",\"EF1\",\"EF2\",\"EF3\",\"EF4\",\"EF5\"])]"
   ]
  },
  {
   "cell_type": "code",
   "execution_count": 56,
   "metadata": {},
   "outputs": [
    {
     "data": {
      "image/png": "[encoded data removed]",
      "text/plain": [
       "<Figure size 432x288 with 1 Axes>"
      ]
     },
     "metadata": {
      "needs_background": "light"
     },
     "output_type": "display_data"
    }
   ],
   "source": [
    "hist = thinkstats2.Hist(t_df2.TOR_F_SCALE, label='Fujita Scale')\n",
    "thinkplot.Hist(hist)\n",
    "thinkplot.Config(xlabel='F scale', ylabel='Count')"
   ]
  },
  {
   "cell_type": "code",
   "execution_count": 57,
   "metadata": {},
   "outputs": [],
   "source": [
    "f_s = (t_df2[[\"YEAR\", \"TOR_F_SCALE\"]].pivot_table(index='YEAR',columns='TOR_F_SCALE',aggfunc='size', fill_value=0))"
   ]
  },
  {
   "cell_type": "code",
   "execution_count": 58,
   "metadata": {},
   "outputs": [],
   "source": [
    "f_s.reset_index(inplace=True)\n",
    "tornado[[\"EF0\",\"EF1\",\"EF2\",\"EF3\",\"EF4\",\"EF5\"]] = f_s[[\"EF0\",\"EF1\",\"EF2\",\"EF3\",\"EF4\",\"EF5\"]]"
   ]
  },
  {
   "cell_type": "code",
   "execution_count": 59,
   "metadata": {},
   "outputs": [
    {
     "data": {
      "text/html": [
       "<div>\n",
       "<style scoped>\n",
       "    .dataframe tbody tr th:only-of-type {\n",
       "        vertical-align: middle;\n",
       "    }\n",
       "\n",
       "    .dataframe tbody tr th {\n",
       "        vertical-align: top;\n",
       "    }\n",
       "\n",
       "    .dataframe thead th {\n",
       "        text-align: right;\n",
       "    }\n",
       "</style>\n",
       "<table border=\"1\" class=\"dataframe\">\n",
       "  <thead>\n",
       "    <tr style=\"text-align: right;\">\n",
       "      <th></th>\n",
       "      <th>YEAR</th>\n",
       "      <th>INJURIES_DIRECT</th>\n",
       "      <th>INJURIES_INDIRECT</th>\n",
       "      <th>DEATHS_DIRECT</th>\n",
       "      <th>DEATHS_INDIRECT</th>\n",
       "      <th>DAMAGE_CROPS</th>\n",
       "      <th>DAMAGE_PROPERTY</th>\n",
       "      <th>EF0</th>\n",
       "      <th>EF1</th>\n",
       "      <th>EF2</th>\n",
       "      <th>EF3</th>\n",
       "      <th>EF4</th>\n",
       "      <th>EF5</th>\n",
       "    </tr>\n",
       "  </thead>\n",
       "  <tbody>\n",
       "    <tr>\n",
       "      <td>0</td>\n",
       "      <td>1950</td>\n",
       "      <td>2.955157</td>\n",
       "      <td>0.0</td>\n",
       "      <td>0.313901</td>\n",
       "      <td>0.0</td>\n",
       "      <td>0.0</td>\n",
       "      <td>1.546262e+05</td>\n",
       "      <td>13</td>\n",
       "      <td>84</td>\n",
       "      <td>75</td>\n",
       "      <td>33</td>\n",
       "      <td>12</td>\n",
       "      <td>0</td>\n",
       "    </tr>\n",
       "    <tr>\n",
       "      <td>1</td>\n",
       "      <td>1951</td>\n",
       "      <td>1.947955</td>\n",
       "      <td>0.0</td>\n",
       "      <td>0.126394</td>\n",
       "      <td>0.0</td>\n",
       "      <td>0.0</td>\n",
       "      <td>2.435167e+05</td>\n",
       "      <td>25</td>\n",
       "      <td>88</td>\n",
       "      <td>84</td>\n",
       "      <td>26</td>\n",
       "      <td>7</td>\n",
       "      <td>0</td>\n",
       "    </tr>\n",
       "    <tr>\n",
       "      <td>2</td>\n",
       "      <td>1952</td>\n",
       "      <td>7.044118</td>\n",
       "      <td>0.0</td>\n",
       "      <td>0.849265</td>\n",
       "      <td>0.0</td>\n",
       "      <td>0.0</td>\n",
       "      <td>3.466994e+05</td>\n",
       "      <td>26</td>\n",
       "      <td>84</td>\n",
       "      <td>81</td>\n",
       "      <td>43</td>\n",
       "      <td>26</td>\n",
       "      <td>0</td>\n",
       "    </tr>\n",
       "    <tr>\n",
       "      <td>3</td>\n",
       "      <td>1953</td>\n",
       "      <td>10.428862</td>\n",
       "      <td>0.0</td>\n",
       "      <td>1.054878</td>\n",
       "      <td>0.0</td>\n",
       "      <td>0.0</td>\n",
       "      <td>1.211595e+06</td>\n",
       "      <td>49</td>\n",
       "      <td>146</td>\n",
       "      <td>154</td>\n",
       "      <td>59</td>\n",
       "      <td>39</td>\n",
       "      <td>8</td>\n",
       "    </tr>\n",
       "    <tr>\n",
       "      <td>4</td>\n",
       "      <td>1954</td>\n",
       "      <td>1.174056</td>\n",
       "      <td>0.0</td>\n",
       "      <td>0.059113</td>\n",
       "      <td>0.0</td>\n",
       "      <td>0.0</td>\n",
       "      <td>1.408954e+05</td>\n",
       "      <td>72</td>\n",
       "      <td>210</td>\n",
       "      <td>214</td>\n",
       "      <td>57</td>\n",
       "      <td>16</td>\n",
       "      <td>0</td>\n",
       "    </tr>\n",
       "  </tbody>\n",
       "</table>\n",
       "</div>"
      ],
      "text/plain": [
       "   YEAR  INJURIES_DIRECT  INJURIES_INDIRECT  DEATHS_DIRECT  DEATHS_INDIRECT  DAMAGE_CROPS  DAMAGE_PROPERTY  EF0  EF1  EF2  EF3  EF4  EF5\n",
       "0  1950         2.955157                0.0       0.313901              0.0           0.0     1.546262e+05   13   84   75   33   12    0\n",
       "1  1951         1.947955                0.0       0.126394              0.0           0.0     2.435167e+05   25   88   84   26    7    0\n",
       "2  1952         7.044118                0.0       0.849265              0.0           0.0     3.466994e+05   26   84   81   43   26    0\n",
       "3  1953        10.428862                0.0       1.054878              0.0           0.0     1.211595e+06   49  146  154   59   39    8\n",
       "4  1954         1.174056                0.0       0.059113              0.0           0.0     1.408954e+05   72  210  214   57   16    0"
      ]
     },
     "execution_count": 59,
     "metadata": {},
     "output_type": "execute_result"
    }
   ],
   "source": [
    "tornado.head()"
   ]
  },
  {
   "cell_type": "code",
   "execution_count": 60,
   "metadata": {},
   "outputs": [
    {
     "data": {
      "image/png": "[encoded data removed]",
      "text/plain": [
       "<Figure size 432x288 with 1 Axes>"
      ]
     },
     "metadata": {
      "needs_background": "light"
     },
     "output_type": "display_data"
    }
   ],
   "source": [
    "tornado.EF0.plot.hist(grid=True, bins=20, rwidth=0.9,color='#607c8e')\n",
    "plt.title('EF0 – Light Damage (40 – 72 mph)')\n",
    "plt.xlabel('EF0')\n",
    "plt.ylabel('Counts')\n",
    "plt.grid(axis='y', alpha=0.75)"
   ]
  },
  {
   "cell_type": "code",
   "execution_count": 61,
   "metadata": {},
   "outputs": [
    {
     "data": {
      "image/png": "[encoded data removed]",
      "text/plain": [
       "<Figure size 432x288 with 1 Axes>"
      ]
     },
     "metadata": {
      "needs_background": "light"
     },
     "output_type": "display_data"
    }
   ],
   "source": [
    "tornado.EF1.plot.hist(grid=True, bins=20, rwidth=0.9,color='#607c8e')\n",
    "plt.title('EF1 – Moderate Damage (73 – 112 mph)')\n",
    "plt.xlabel('EF1')\n",
    "plt.ylabel('Counts')\n",
    "plt.grid(axis='y', alpha=0.75)"
   ]
  },
  {
   "cell_type": "code",
   "execution_count": 62,
   "metadata": {},
   "outputs": [
    {
     "data": {
      "image/png": "[encoded data removed]",
      "text/plain": [
       "<Figure size 432x288 with 1 Axes>"
      ]
     },
     "metadata": {
      "needs_background": "light"
     },
     "output_type": "display_data"
    }
   ],
   "source": [
    "tornado.EF2.plot.hist(grid=True, bins=20, rwidth=0.9,color='#607c8e')\n",
    "plt.title('EF2 – Significant damage (113 – 157 mph)')\n",
    "plt.xlabel('EF2')\n",
    "plt.ylabel('Counts')\n",
    "plt.grid(axis='y', alpha=0.75)"
   ]
  },
  {
   "cell_type": "code",
   "execution_count": 63,
   "metadata": {},
   "outputs": [
    {
     "data": {
      "image/png": "[encoded data removed]",
      "text/plain": [
       "<Figure size 432x288 with 1 Axes>"
      ]
     },
     "metadata": {
      "needs_background": "light"
     },
     "output_type": "display_data"
    }
   ],
   "source": [
    "tornado.EF3.plot.hist(grid=True, bins=20, rwidth=0.9,color='#607c8e')\n",
    "plt.title('EF3 – Severe Damage (158 – 206 mph)')\n",
    "plt.xlabel('EF3')\n",
    "plt.ylabel('Counts')\n",
    "plt.grid(axis='y', alpha=0.75)"
   ]
  },
  {
   "cell_type": "code",
   "execution_count": 64,
   "metadata": {},
   "outputs": [
    {
     "data": {
      "image/png": "[encoded data removed]",
      "text/plain": [
       "<Figure size 432x288 with 1 Axes>"
      ]
     },
     "metadata": {
      "needs_background": "light"
     },
     "output_type": "display_data"
    }
   ],
   "source": [
    "tornado.EF4.plot.hist(grid=True, bins=20, rwidth=0.9,color='#607c8e')\n",
    "plt.title('EF4 – Devastating Damage (207 – 260 mph)')\n",
    "plt.xlabel('EF4')\n",
    "plt.ylabel('Counts')\n",
    "plt.grid(axis='y', alpha=0.75)"
   ]
  },
  {
   "cell_type": "code",
   "execution_count": 65,
   "metadata": {},
   "outputs": [
    {
     "data": {
      "image/png": "[encoded data removed]",
      "text/plain": [
       "<Figure size 432x288 with 1 Axes>"
      ]
     },
     "metadata": {
      "needs_background": "light"
     },
     "output_type": "display_data"
    }
   ],
   "source": [
    "tornado.EF5.plot.hist(grid=True, bins=20, rwidth=0.9,color='#607c8e')\n",
    "plt.title('EF5 – Incredible Damage (261 – 318 mph)')\n",
    "plt.xlabel('EF5')\n",
    "plt.ylabel('Counts')\n",
    "plt.grid(axis='y', alpha=0.75)"
   ]
  },
  {
   "cell_type": "code",
   "execution_count": 66,
   "metadata": {},
   "outputs": [
    {
     "data": {
      "image/png": "[encoded data removed]",
      "text/plain": [
       "<Figure size 432x288 with 1 Axes>"
      ]
     },
     "metadata": {
      "needs_background": "light"
     },
     "output_type": "display_data"
    }
   ],
   "source": [
    "ax = plt.gca()\n",
    "tornado.plot(kind='line',x='YEAR',y='EF0', color='blue',ax=ax)\n",
    "tornado.plot(kind='line',x='YEAR',y='EF1', color='red', ax=ax)\n",
    "tornado.plot(kind='line',x='YEAR',y='EF2', color='green', ax=ax)\n",
    "tornado.plot(kind='line',x='YEAR',y='EF3', color='purple', ax=ax)\n",
    "tornado.plot(kind='line',x='YEAR',y='EF4', color='orange', ax=ax)\n",
    "tornado.plot(kind='line',x='YEAR',y='EF5', color='black', ax=ax)\n",
    "tornado.plot(kind='scatter',x='YEAR',y='EF0', color='blue',ax=ax)\n",
    "tornado.plot(kind='scatter',x='YEAR',y='EF1', color='red', ax=ax)\n",
    "tornado.plot(kind='scatter',x='YEAR',y='EF2', color='green', ax=ax)\n",
    "tornado.plot(kind='scatter',x='YEAR',y='EF3', color='purple', ax=ax)\n",
    "tornado.plot(kind='scatter',x='YEAR',y='EF4', color='orange', ax=ax)\n",
    "tornado.plot(kind='scatter',x='YEAR',y='EF5', color='black', ax=ax)\n",
    "plt.show()"
   ]
  },
  {
   "cell_type": "code",
   "execution_count": 67,
   "metadata": {},
   "outputs": [
    {
     "data": {
      "image/png": "[encoded data removed]",
      "text/plain": [
       "<Figure size 432x288 with 1 Axes>"
      ]
     },
     "metadata": {
      "needs_background": "light"
     },
     "output_type": "display_data"
    }
   ],
   "source": [
    "ax = plt.gca()\n",
    "tornado.plot(kind='line',x='YEAR',y='EF3', color='purple', ax=ax)\n",
    "tornado.plot(kind='line',x='YEAR',y='EF4', color='orange', ax=ax)\n",
    "tornado.plot(kind='line',x='YEAR',y='EF5', color='black', ax=ax)\n",
    "plt.show()"
   ]
  },
  {
   "cell_type": "markdown",
   "metadata": {},
   "source": [
    "Looking at the historgrams they all kind look like they have an outlier, but looking at the sccatterplots it looks like they all jump together so, I am not sure that getting rid of the outliers makes much sense. "
   ]
  },
  {
   "cell_type": "markdown",
   "metadata": {},
   "source": [
    "Lets look at lenght and width. I need to see if we still have missing values, we might dropped those when I dropped the EFU and missing values for tor_f_scale. "
   ]
  },
  {
   "cell_type": "code",
   "execution_count": 68,
   "metadata": {},
   "outputs": [
    {
     "data": {
      "text/plain": [
       "YEAR                  0\n",
       "INJURIES_DIRECT       0\n",
       "INJURIES_INDIRECT     0\n",
       "DEATHS_DIRECT         0\n",
       "DEATHS_INDIRECT       0\n",
       "DAMAGE_PROPERTY       0\n",
       "DAMAGE_CROPS          0\n",
       "TOR_F_SCALE           0\n",
       "TOR_LENGTH           28\n",
       "TOR_WIDTH            28\n",
       "DAMAGE_CROPS_t        0\n",
       "DAMAGE_PROPERTY_t     0\n",
       "dtype: int64"
      ]
     },
     "execution_count": 68,
     "metadata": {},
     "output_type": "execute_result"
    }
   ],
   "source": [
    "t_df2.isna().sum()"
   ]
  },
  {
   "cell_type": "markdown",
   "metadata": {},
   "source": [
    "Since there are so few missing I am going to drop the missing values. "
   ]
  },
  {
   "cell_type": "code",
   "execution_count": 69,
   "metadata": {},
   "outputs": [],
   "source": [
    "t_df2 = t_df2.dropna()"
   ]
  },
  {
   "cell_type": "code",
   "execution_count": 70,
   "metadata": {},
   "outputs": [
    {
     "data": {
      "text/plain": [
       "YEAR                 0\n",
       "INJURIES_DIRECT      0\n",
       "INJURIES_INDIRECT    0\n",
       "DEATHS_DIRECT        0\n",
       "DEATHS_INDIRECT      0\n",
       "DAMAGE_PROPERTY      0\n",
       "DAMAGE_CROPS         0\n",
       "TOR_F_SCALE          0\n",
       "TOR_LENGTH           0\n",
       "TOR_WIDTH            0\n",
       "DAMAGE_CROPS_t       0\n",
       "DAMAGE_PROPERTY_t    0\n",
       "dtype: int64"
      ]
     },
     "execution_count": 70,
     "metadata": {},
     "output_type": "execute_result"
    }
   ],
   "source": [
    "t_df2.isna().sum()"
   ]
  },
  {
   "cell_type": "code",
   "execution_count": 71,
   "metadata": {},
   "outputs": [],
   "source": [
    "tornado['TOR_LENGTH'] = (t_df.groupby('YEAR',as_index = False).agg({\"TOR_LENGTH\": \"mean\"})).TOR_LENGTH\n",
    "tornado['TOR_WIDTH'] = (t_df.groupby('YEAR',as_index = False).agg({\"TOR_WIDTH\": \"mean\"})).TOR_WIDTH"
   ]
  },
  {
   "cell_type": "code",
   "execution_count": 72,
   "metadata": {},
   "outputs": [
    {
     "data": {
      "image/png": "[encoded data removed]",
      "text/plain": [
       "<Figure size 432x288 with 1 Axes>"
      ]
     },
     "metadata": {
      "needs_background": "light"
     },
     "output_type": "display_data"
    }
   ],
   "source": [
    "tornado.TOR_LENGTH.plot.hist(grid=True, bins=20, rwidth=0.9,color='#607c8e')\n",
    "plt.title('Tornado Length')\n",
    "plt.xlabel('Length (miles)')\n",
    "plt.ylabel('Counts')\n",
    "plt.grid(axis='y', alpha=0.75)"
   ]
  },
  {
   "cell_type": "code",
   "execution_count": 73,
   "metadata": {},
   "outputs": [
    {
     "data": {
      "image/png": "[encoded data removed]",
      "text/plain": [
       "<Figure size 432x288 with 1 Axes>"
      ]
     },
     "metadata": {
      "needs_background": "light"
     },
     "output_type": "display_data"
    }
   ],
   "source": [
    "thinkplot.Scatter(tornado.YEAR, tornado.TOR_LENGTH, alpha=1)\n",
    "thinkplot.Config(xlabel='Year',\n",
    "                 ylabel='Avg Tornado Length per year (miles)',\n",
    "                 legend=False)"
   ]
  },
  {
   "cell_type": "markdown",
   "metadata": {},
   "source": [
    "It looks like the the tornado length has decreased over time. There may be one outlier in the mix, but I am going to proceed forward for now. "
   ]
  },
  {
   "cell_type": "code",
   "execution_count": 74,
   "metadata": {},
   "outputs": [
    {
     "data": {
      "image/png": "[encoded data removed]",
      "text/plain": [
       "<Figure size 432x288 with 1 Axes>"
      ]
     },
     "metadata": {
      "needs_background": "light"
     },
     "output_type": "display_data"
    }
   ],
   "source": [
    "tornado.TOR_WIDTH.plot.hist(grid=True, bins=20, rwidth=0.9,color='#607c8e')\n",
    "plt.title('Avg Tornado Width')\n",
    "plt.xlabel('Width (feet)')\n",
    "plt.ylabel('Counts')\n",
    "plt.grid(axis='y', alpha=0.75)"
   ]
  },
  {
   "cell_type": "code",
   "execution_count": 75,
   "metadata": {},
   "outputs": [
    {
     "data": {
      "image/png": "[encoded data removed]",
      "text/plain": [
       "<Figure size 432x288 with 1 Axes>"
      ]
     },
     "metadata": {
      "needs_background": "light"
     },
     "output_type": "display_data"
    }
   ],
   "source": [
    "thinkplot.Scatter(tornado.YEAR, tornado.TOR_WIDTH, alpha=1)\n",
    "thinkplot.Config(xlabel='Year',\n",
    "                 ylabel='Avg Tornado Width per year (feet)',\n",
    "                 legend=False)"
   ]
  },
  {
   "cell_type": "markdown",
   "metadata": {},
   "source": [
    "The width almost looks like a parabola, it appears as thought it decreased from 1950 to about 1980 and has been increasing quickly. "
   ]
  },
  {
   "cell_type": "code",
   "execution_count": 76,
   "metadata": {},
   "outputs": [
    {
     "data": {
      "text/html": [
       "<div>\n",
       "<style scoped>\n",
       "    .dataframe tbody tr th:only-of-type {\n",
       "        vertical-align: middle;\n",
       "    }\n",
       "\n",
       "    .dataframe tbody tr th {\n",
       "        vertical-align: top;\n",
       "    }\n",
       "\n",
       "    .dataframe thead th {\n",
       "        text-align: right;\n",
       "    }\n",
       "</style>\n",
       "<table border=\"1\" class=\"dataframe\">\n",
       "  <thead>\n",
       "    <tr style=\"text-align: right;\">\n",
       "      <th></th>\n",
       "      <th>YEAR</th>\n",
       "      <th>INJURIES_DIRECT</th>\n",
       "      <th>INJURIES_INDIRECT</th>\n",
       "      <th>DEATHS_DIRECT</th>\n",
       "      <th>DEATHS_INDIRECT</th>\n",
       "      <th>DAMAGE_CROPS</th>\n",
       "      <th>DAMAGE_PROPERTY</th>\n",
       "      <th>EF0</th>\n",
       "      <th>EF1</th>\n",
       "      <th>EF2</th>\n",
       "      <th>EF3</th>\n",
       "      <th>EF4</th>\n",
       "      <th>EF5</th>\n",
       "      <th>TOR_LENGTH</th>\n",
       "      <th>TOR_WIDTH</th>\n",
       "    </tr>\n",
       "  </thead>\n",
       "  <tbody>\n",
       "    <tr>\n",
       "      <td>count</td>\n",
       "      <td>70.000000</td>\n",
       "      <td>70.000000</td>\n",
       "      <td>70.000000</td>\n",
       "      <td>70.000000</td>\n",
       "      <td>70.000000</td>\n",
       "      <td>70.000000</td>\n",
       "      <td>7.000000e+01</td>\n",
       "      <td>70.000000</td>\n",
       "      <td>70.000000</td>\n",
       "      <td>70.000000</td>\n",
       "      <td>70.000000</td>\n",
       "      <td>70.000000</td>\n",
       "      <td>70.000000</td>\n",
       "      <td>70.000000</td>\n",
       "      <td>70.000000</td>\n",
       "    </tr>\n",
       "    <tr>\n",
       "      <td>mean</td>\n",
       "      <td>1984.500000</td>\n",
       "      <td>1.586791</td>\n",
       "      <td>0.002157</td>\n",
       "      <td>0.105623</td>\n",
       "      <td>0.000301</td>\n",
       "      <td>5718.961550</td>\n",
       "      <td>8.492388e+05</td>\n",
       "      <td>430.214286</td>\n",
       "      <td>328.714286</td>\n",
       "      <td>153.342857</td>\n",
       "      <td>48.314286</td>\n",
       "      <td>15.785714</td>\n",
       "      <td>1.971429</td>\n",
       "      <td>3.420354</td>\n",
       "      <td>117.441502</td>\n",
       "    </tr>\n",
       "    <tr>\n",
       "      <td>std</td>\n",
       "      <td>20.351085</td>\n",
       "      <td>1.662181</td>\n",
       "      <td>0.009841</td>\n",
       "      <td>0.163520</td>\n",
       "      <td>0.001001</td>\n",
       "      <td>15045.483374</td>\n",
       "      <td>8.004488e+05</td>\n",
       "      <td>311.031472</td>\n",
       "      <td>128.736012</td>\n",
       "      <td>59.919484</td>\n",
       "      <td>25.561261</td>\n",
       "      <td>15.089004</td>\n",
       "      <td>3.926762</td>\n",
       "      <td>1.105980</td>\n",
       "      <td>38.394459</td>\n",
       "    </tr>\n",
       "    <tr>\n",
       "      <td>min</td>\n",
       "      <td>1950.000000</td>\n",
       "      <td>0.159200</td>\n",
       "      <td>0.000000</td>\n",
       "      <td>0.008000</td>\n",
       "      <td>0.000000</td>\n",
       "      <td>0.000000</td>\n",
       "      <td>9.985250e+04</td>\n",
       "      <td>13.000000</td>\n",
       "      <td>84.000000</td>\n",
       "      <td>54.000000</td>\n",
       "      <td>11.000000</td>\n",
       "      <td>0.000000</td>\n",
       "      <td>0.000000</td>\n",
       "      <td>1.993898</td>\n",
       "      <td>69.523741</td>\n",
       "    </tr>\n",
       "    <tr>\n",
       "      <td>25%</td>\n",
       "      <td>1967.250000</td>\n",
       "      <td>0.755818</td>\n",
       "      <td>0.000000</td>\n",
       "      <td>0.034396</td>\n",
       "      <td>0.000000</td>\n",
       "      <td>0.000000</td>\n",
       "      <td>2.470710e+05</td>\n",
       "      <td>160.250000</td>\n",
       "      <td>241.500000</td>\n",
       "      <td>103.250000</td>\n",
       "      <td>28.250000</td>\n",
       "      <td>7.000000</td>\n",
       "      <td>0.000000</td>\n",
       "      <td>2.716227</td>\n",
       "      <td>90.527618</td>\n",
       "    </tr>\n",
       "    <tr>\n",
       "      <td>50%</td>\n",
       "      <td>1984.500000</td>\n",
       "      <td>1.086317</td>\n",
       "      <td>0.000000</td>\n",
       "      <td>0.058370</td>\n",
       "      <td>0.000000</td>\n",
       "      <td>0.000000</td>\n",
       "      <td>6.082973e+05</td>\n",
       "      <td>347.000000</td>\n",
       "      <td>330.500000</td>\n",
       "      <td>151.000000</td>\n",
       "      <td>42.000000</td>\n",
       "      <td>11.000000</td>\n",
       "      <td>0.000000</td>\n",
       "      <td>3.078563</td>\n",
       "      <td>106.352787</td>\n",
       "    </tr>\n",
       "    <tr>\n",
       "      <td>75%</td>\n",
       "      <td>2001.750000</td>\n",
       "      <td>1.871902</td>\n",
       "      <td>0.000000</td>\n",
       "      <td>0.103599</td>\n",
       "      <td>0.000000</td>\n",
       "      <td>5448.634113</td>\n",
       "      <td>1.188974e+06</td>\n",
       "      <td>710.750000</td>\n",
       "      <td>395.750000</td>\n",
       "      <td>188.000000</td>\n",
       "      <td>61.000000</td>\n",
       "      <td>19.500000</td>\n",
       "      <td>2.000000</td>\n",
       "      <td>4.001297</td>\n",
       "      <td>132.083105</td>\n",
       "    </tr>\n",
       "    <tr>\n",
       "      <td>max</td>\n",
       "      <td>2019.000000</td>\n",
       "      <td>10.428862</td>\n",
       "      <td>0.078592</td>\n",
       "      <td>1.054878</td>\n",
       "      <td>0.006750</td>\n",
       "      <td>86248.051948</td>\n",
       "      <td>4.669311e+06</td>\n",
       "      <td>1271.000000</td>\n",
       "      <td>780.000000</td>\n",
       "      <td>342.000000</td>\n",
       "      <td>146.000000</td>\n",
       "      <td>84.000000</td>\n",
       "      <td>25.000000</td>\n",
       "      <td>7.815244</td>\n",
       "      <td>243.468645</td>\n",
       "    </tr>\n",
       "  </tbody>\n",
       "</table>\n",
       "</div>"
      ],
      "text/plain": [
       "              YEAR  INJURIES_DIRECT  INJURIES_INDIRECT  DEATHS_DIRECT  DEATHS_INDIRECT  DAMAGE_CROPS  DAMAGE_PROPERTY          EF0         EF1         EF2         EF3        EF4        EF5  TOR_LENGTH   TOR_WIDTH\n",
       "count    70.000000        70.000000          70.000000      70.000000        70.000000     70.000000     7.000000e+01    70.000000   70.000000   70.000000   70.000000  70.000000  70.000000   70.000000   70.000000\n",
       "mean   1984.500000         1.586791           0.002157       0.105623         0.000301   5718.961550     8.492388e+05   430.214286  328.714286  153.342857   48.314286  15.785714   1.971429    3.420354  117.441502\n",
       "std      20.351085         1.662181           0.009841       0.163520         0.001001  15045.483374     8.004488e+05   311.031472  128.736012   59.919484   25.561261  15.089004   3.926762    1.105980   38.394459\n",
       "min    1950.000000         0.159200           0.000000       0.008000         0.000000      0.000000     9.985250e+04    13.000000   84.000000   54.000000   11.000000   0.000000   0.000000    1.993898   69.523741\n",
       "25%    1967.250000         0.755818           0.000000       0.034396         0.000000      0.000000     2.470710e+05   160.250000  241.500000  103.250000   28.250000   7.000000   0.000000    2.716227   90.527618\n",
       "50%    1984.500000         1.086317           0.000000       0.058370         0.000000      0.000000     6.082973e+05   347.000000  330.500000  151.000000   42.000000  11.000000   0.000000    3.078563  106.352787\n",
       "75%    2001.750000         1.871902           0.000000       0.103599         0.000000   5448.634113     1.188974e+06   710.750000  395.750000  188.000000   61.000000  19.500000   2.000000    4.001297  132.083105\n",
       "max    2019.000000        10.428862           0.078592       1.054878         0.006750  86248.051948     4.669311e+06  1271.000000  780.000000  342.000000  146.000000  84.000000  25.000000    7.815244  243.468645"
      ]
     },
     "execution_count": 76,
     "metadata": {},
     "output_type": "execute_result"
    }
   ],
   "source": [
    "tornado.describe()"
   ]
  },
  {
   "cell_type": "code",
   "execution_count": 77,
   "metadata": {},
   "outputs": [
    {
     "data": {
      "text/html": [
       "<div>\n",
       "<style scoped>\n",
       "    .dataframe tbody tr th:only-of-type {\n",
       "        vertical-align: middle;\n",
       "    }\n",
       "\n",
       "    .dataframe tbody tr th {\n",
       "        vertical-align: top;\n",
       "    }\n",
       "\n",
       "    .dataframe thead th {\n",
       "        text-align: right;\n",
       "    }\n",
       "</style>\n",
       "<table border=\"1\" class=\"dataframe\">\n",
       "  <thead>\n",
       "    <tr style=\"text-align: right;\">\n",
       "      <th></th>\n",
       "      <th>YEAR</th>\n",
       "      <th>INJURIES_DIRECT</th>\n",
       "      <th>INJURIES_INDIRECT</th>\n",
       "      <th>DEATHS_DIRECT</th>\n",
       "      <th>DEATHS_INDIRECT</th>\n",
       "      <th>DAMAGE_CROPS</th>\n",
       "      <th>DAMAGE_PROPERTY</th>\n",
       "      <th>EF0</th>\n",
       "      <th>EF1</th>\n",
       "      <th>EF2</th>\n",
       "      <th>EF3</th>\n",
       "      <th>EF4</th>\n",
       "      <th>EF5</th>\n",
       "      <th>TOR_LENGTH</th>\n",
       "      <th>TOR_WIDTH</th>\n",
       "    </tr>\n",
       "  </thead>\n",
       "  <tbody>\n",
       "    <tr>\n",
       "      <td>0</td>\n",
       "      <td>1950</td>\n",
       "      <td>0.159200</td>\n",
       "      <td>0.0</td>\n",
       "      <td>0.008000</td>\n",
       "      <td>0.0</td>\n",
       "      <td>0.0</td>\n",
       "      <td>9.985250e+04</td>\n",
       "      <td>115.0</td>\n",
       "      <td>229.0</td>\n",
       "      <td>154.0</td>\n",
       "      <td>26.0</td>\n",
       "      <td>8.0</td>\n",
       "      <td>0.0</td>\n",
       "      <td>1.993898</td>\n",
       "      <td>69.523741</td>\n",
       "    </tr>\n",
       "    <tr>\n",
       "      <td>1</td>\n",
       "      <td>1951</td>\n",
       "      <td>0.203390</td>\n",
       "      <td>NaN</td>\n",
       "      <td>0.016496</td>\n",
       "      <td>NaN</td>\n",
       "      <td>NaN</td>\n",
       "      <td>1.307921e+05</td>\n",
       "      <td>167.0</td>\n",
       "      <td>NaN</td>\n",
       "      <td>NaN</td>\n",
       "      <td>38.0</td>\n",
       "      <td>NaN</td>\n",
       "      <td>NaN</td>\n",
       "      <td>2.047149</td>\n",
       "      <td>69.671410</td>\n",
       "    </tr>\n",
       "    <tr>\n",
       "      <td>2</td>\n",
       "      <td>1952</td>\n",
       "      <td>0.301205</td>\n",
       "      <td>NaN</td>\n",
       "      <td>0.016682</td>\n",
       "      <td>NaN</td>\n",
       "      <td>NaN</td>\n",
       "      <td>1.388143e+05</td>\n",
       "      <td>742.0</td>\n",
       "      <td>NaN</td>\n",
       "      <td>NaN</td>\n",
       "      <td>NaN</td>\n",
       "      <td>NaN</td>\n",
       "      <td>NaN</td>\n",
       "      <td>2.107050</td>\n",
       "      <td>73.434286</td>\n",
       "    </tr>\n",
       "    <tr>\n",
       "      <td>3</td>\n",
       "      <td>1953</td>\n",
       "      <td>0.311862</td>\n",
       "      <td>NaN</td>\n",
       "      <td>0.017668</td>\n",
       "      <td>NaN</td>\n",
       "      <td>NaN</td>\n",
       "      <td>1.408954e+05</td>\n",
       "      <td>NaN</td>\n",
       "      <td>NaN</td>\n",
       "      <td>NaN</td>\n",
       "      <td>NaN</td>\n",
       "      <td>NaN</td>\n",
       "      <td>NaN</td>\n",
       "      <td>2.145447</td>\n",
       "      <td>74.624096</td>\n",
       "    </tr>\n",
       "    <tr>\n",
       "      <td>4</td>\n",
       "      <td>1954</td>\n",
       "      <td>0.314511</td>\n",
       "      <td>NaN</td>\n",
       "      <td>0.017976</td>\n",
       "      <td>NaN</td>\n",
       "      <td>NaN</td>\n",
       "      <td>1.546262e+05</td>\n",
       "      <td>NaN</td>\n",
       "      <td>NaN</td>\n",
       "      <td>NaN</td>\n",
       "      <td>NaN</td>\n",
       "      <td>NaN</td>\n",
       "      <td>NaN</td>\n",
       "      <td>2.225666</td>\n",
       "      <td>74.876452</td>\n",
       "    </tr>\n",
       "    <tr>\n",
       "      <td>5</td>\n",
       "      <td>1955</td>\n",
       "      <td>0.323874</td>\n",
       "      <td>NaN</td>\n",
       "      <td>0.020521</td>\n",
       "      <td>NaN</td>\n",
       "      <td>NaN</td>\n",
       "      <td>1.679112e+05</td>\n",
       "      <td>NaN</td>\n",
       "      <td>NaN</td>\n",
       "      <td>NaN</td>\n",
       "      <td>NaN</td>\n",
       "      <td>NaN</td>\n",
       "      <td>NaN</td>\n",
       "      <td>2.248161</td>\n",
       "      <td>79.010682</td>\n",
       "    </tr>\n",
       "    <tr>\n",
       "      <td>6</td>\n",
       "      <td>1956</td>\n",
       "      <td>0.399851</td>\n",
       "      <td>NaN</td>\n",
       "      <td>0.021251</td>\n",
       "      <td>NaN</td>\n",
       "      <td>NaN</td>\n",
       "      <td>1.742680e+05</td>\n",
       "      <td>NaN</td>\n",
       "      <td>NaN</td>\n",
       "      <td>NaN</td>\n",
       "      <td>NaN</td>\n",
       "      <td>NaN</td>\n",
       "      <td>NaN</td>\n",
       "      <td>2.306834</td>\n",
       "      <td>79.152318</td>\n",
       "    </tr>\n",
       "    <tr>\n",
       "      <td>7</td>\n",
       "      <td>1957</td>\n",
       "      <td>0.483402</td>\n",
       "      <td>NaN</td>\n",
       "      <td>0.023442</td>\n",
       "      <td>NaN</td>\n",
       "      <td>NaN</td>\n",
       "      <td>1.769383e+05</td>\n",
       "      <td>NaN</td>\n",
       "      <td>NaN</td>\n",
       "      <td>NaN</td>\n",
       "      <td>NaN</td>\n",
       "      <td>NaN</td>\n",
       "      <td>NaN</td>\n",
       "      <td>2.348174</td>\n",
       "      <td>79.557789</td>\n",
       "    </tr>\n",
       "    <tr>\n",
       "      <td>8</td>\n",
       "      <td>1958</td>\n",
       "      <td>0.497180</td>\n",
       "      <td>NaN</td>\n",
       "      <td>0.027273</td>\n",
       "      <td>NaN</td>\n",
       "      <td>NaN</td>\n",
       "      <td>1.832934e+05</td>\n",
       "      <td>NaN</td>\n",
       "      <td>NaN</td>\n",
       "      <td>NaN</td>\n",
       "      <td>NaN</td>\n",
       "      <td>NaN</td>\n",
       "      <td>NaN</td>\n",
       "      <td>2.356569</td>\n",
       "      <td>80.240547</td>\n",
       "    </tr>\n",
       "    <tr>\n",
       "      <td>9</td>\n",
       "      <td>1959</td>\n",
       "      <td>0.549963</td>\n",
       "      <td>NaN</td>\n",
       "      <td>0.027778</td>\n",
       "      <td>NaN</td>\n",
       "      <td>NaN</td>\n",
       "      <td>1.952090e+05</td>\n",
       "      <td>NaN</td>\n",
       "      <td>NaN</td>\n",
       "      <td>NaN</td>\n",
       "      <td>NaN</td>\n",
       "      <td>NaN</td>\n",
       "      <td>NaN</td>\n",
       "      <td>2.368234</td>\n",
       "      <td>81.742049</td>\n",
       "    </tr>\n",
       "    <tr>\n",
       "      <td>10</td>\n",
       "      <td>1960</td>\n",
       "      <td>0.556433</td>\n",
       "      <td>NaN</td>\n",
       "      <td>0.027938</td>\n",
       "      <td>NaN</td>\n",
       "      <td>NaN</td>\n",
       "      <td>2.061946e+05</td>\n",
       "      <td>NaN</td>\n",
       "      <td>NaN</td>\n",
       "      <td>NaN</td>\n",
       "      <td>NaN</td>\n",
       "      <td>NaN</td>\n",
       "      <td>NaN</td>\n",
       "      <td>2.444423</td>\n",
       "      <td>83.839286</td>\n",
       "    </tr>\n",
       "    <tr>\n",
       "      <td>11</td>\n",
       "      <td>1961</td>\n",
       "      <td>0.607583</td>\n",
       "      <td>NaN</td>\n",
       "      <td>0.028295</td>\n",
       "      <td>NaN</td>\n",
       "      <td>NaN</td>\n",
       "      <td>2.098863e+05</td>\n",
       "      <td>NaN</td>\n",
       "      <td>NaN</td>\n",
       "      <td>NaN</td>\n",
       "      <td>NaN</td>\n",
       "      <td>NaN</td>\n",
       "      <td>NaN</td>\n",
       "      <td>2.494038</td>\n",
       "      <td>84.443894</td>\n",
       "    </tr>\n",
       "    <tr>\n",
       "      <td>12</td>\n",
       "      <td>1962</td>\n",
       "      <td>0.631331</td>\n",
       "      <td>NaN</td>\n",
       "      <td>0.028807</td>\n",
       "      <td>NaN</td>\n",
       "      <td>NaN</td>\n",
       "      <td>2.121622e+05</td>\n",
       "      <td>NaN</td>\n",
       "      <td>NaN</td>\n",
       "      <td>NaN</td>\n",
       "      <td>NaN</td>\n",
       "      <td>NaN</td>\n",
       "      <td>NaN</td>\n",
       "      <td>2.498736</td>\n",
       "      <td>84.487654</td>\n",
       "    </tr>\n",
       "    <tr>\n",
       "      <td>13</td>\n",
       "      <td>1963</td>\n",
       "      <td>0.700000</td>\n",
       "      <td>NaN</td>\n",
       "      <td>0.028916</td>\n",
       "      <td>NaN</td>\n",
       "      <td>NaN</td>\n",
       "      <td>2.184090e+05</td>\n",
       "      <td>NaN</td>\n",
       "      <td>NaN</td>\n",
       "      <td>NaN</td>\n",
       "      <td>NaN</td>\n",
       "      <td>NaN</td>\n",
       "      <td>NaN</td>\n",
       "      <td>2.514330</td>\n",
       "      <td>86.232919</td>\n",
       "    </tr>\n",
       "    <tr>\n",
       "      <td>14</td>\n",
       "      <td>1964</td>\n",
       "      <td>0.708143</td>\n",
       "      <td>NaN</td>\n",
       "      <td>0.029608</td>\n",
       "      <td>NaN</td>\n",
       "      <td>NaN</td>\n",
       "      <td>2.323688e+05</td>\n",
       "      <td>NaN</td>\n",
       "      <td>NaN</td>\n",
       "      <td>NaN</td>\n",
       "      <td>NaN</td>\n",
       "      <td>NaN</td>\n",
       "      <td>NaN</td>\n",
       "      <td>2.540593</td>\n",
       "      <td>87.545738</td>\n",
       "    </tr>\n",
       "    <tr>\n",
       "      <td>15</td>\n",
       "      <td>1965</td>\n",
       "      <td>0.715232</td>\n",
       "      <td>NaN</td>\n",
       "      <td>0.031120</td>\n",
       "      <td>NaN</td>\n",
       "      <td>NaN</td>\n",
       "      <td>2.408190e+05</td>\n",
       "      <td>NaN</td>\n",
       "      <td>NaN</td>\n",
       "      <td>NaN</td>\n",
       "      <td>NaN</td>\n",
       "      <td>NaN</td>\n",
       "      <td>NaN</td>\n",
       "      <td>2.548554</td>\n",
       "      <td>88.149837</td>\n",
       "    </tr>\n",
       "    <tr>\n",
       "      <td>16</td>\n",
       "      <td>1966</td>\n",
       "      <td>0.717949</td>\n",
       "      <td>NaN</td>\n",
       "      <td>0.032285</td>\n",
       "      <td>NaN</td>\n",
       "      <td>NaN</td>\n",
       "      <td>2.412784e+05</td>\n",
       "      <td>NaN</td>\n",
       "      <td>NaN</td>\n",
       "      <td>NaN</td>\n",
       "      <td>NaN</td>\n",
       "      <td>NaN</td>\n",
       "      <td>NaN</td>\n",
       "      <td>2.709156</td>\n",
       "      <td>90.385604</td>\n",
       "    </tr>\n",
       "    <tr>\n",
       "      <td>17</td>\n",
       "      <td>1967</td>\n",
       "      <td>0.754491</td>\n",
       "      <td>NaN</td>\n",
       "      <td>0.034171</td>\n",
       "      <td>NaN</td>\n",
       "      <td>NaN</td>\n",
       "      <td>2.435167e+05</td>\n",
       "      <td>NaN</td>\n",
       "      <td>NaN</td>\n",
       "      <td>NaN</td>\n",
       "      <td>NaN</td>\n",
       "      <td>NaN</td>\n",
       "      <td>NaN</td>\n",
       "      <td>2.713768</td>\n",
       "      <td>90.398362</td>\n",
       "    </tr>\n",
       "    <tr>\n",
       "      <td>18</td>\n",
       "      <td>1968</td>\n",
       "      <td>0.759799</td>\n",
       "      <td>NaN</td>\n",
       "      <td>0.035073</td>\n",
       "      <td>NaN</td>\n",
       "      <td>NaN</td>\n",
       "      <td>2.577340e+05</td>\n",
       "      <td>NaN</td>\n",
       "      <td>NaN</td>\n",
       "      <td>NaN</td>\n",
       "      <td>NaN</td>\n",
       "      <td>NaN</td>\n",
       "      <td>NaN</td>\n",
       "      <td>2.723604</td>\n",
       "      <td>90.915385</td>\n",
       "    </tr>\n",
       "    <tr>\n",
       "      <td>19</td>\n",
       "      <td>1969</td>\n",
       "      <td>0.776938</td>\n",
       "      <td>NaN</td>\n",
       "      <td>0.035179</td>\n",
       "      <td>NaN</td>\n",
       "      <td>NaN</td>\n",
       "      <td>2.755970e+05</td>\n",
       "      <td>NaN</td>\n",
       "      <td>NaN</td>\n",
       "      <td>NaN</td>\n",
       "      <td>NaN</td>\n",
       "      <td>NaN</td>\n",
       "      <td>NaN</td>\n",
       "      <td>2.784858</td>\n",
       "      <td>91.194143</td>\n",
       "    </tr>\n",
       "    <tr>\n",
       "      <td>20</td>\n",
       "      <td>1970</td>\n",
       "      <td>0.780681</td>\n",
       "      <td>NaN</td>\n",
       "      <td>0.041397</td>\n",
       "      <td>NaN</td>\n",
       "      <td>NaN</td>\n",
       "      <td>2.938181e+05</td>\n",
       "      <td>NaN</td>\n",
       "      <td>NaN</td>\n",
       "      <td>NaN</td>\n",
       "      <td>NaN</td>\n",
       "      <td>NaN</td>\n",
       "      <td>NaN</td>\n",
       "      <td>2.850065</td>\n",
       "      <td>91.952421</td>\n",
       "    </tr>\n",
       "    <tr>\n",
       "      <td>21</td>\n",
       "      <td>1971</td>\n",
       "      <td>0.818722</td>\n",
       "      <td>NaN</td>\n",
       "      <td>0.041930</td>\n",
       "      <td>NaN</td>\n",
       "      <td>NaN</td>\n",
       "      <td>3.140979e+05</td>\n",
       "      <td>NaN</td>\n",
       "      <td>NaN</td>\n",
       "      <td>NaN</td>\n",
       "      <td>NaN</td>\n",
       "      <td>NaN</td>\n",
       "      <td>NaN</td>\n",
       "      <td>2.857470</td>\n",
       "      <td>92.301780</td>\n",
       "    </tr>\n",
       "    <tr>\n",
       "      <td>22</td>\n",
       "      <td>1972</td>\n",
       "      <td>0.836226</td>\n",
       "      <td>NaN</td>\n",
       "      <td>0.043702</td>\n",
       "      <td>NaN</td>\n",
       "      <td>NaN</td>\n",
       "      <td>3.299435e+05</td>\n",
       "      <td>NaN</td>\n",
       "      <td>NaN</td>\n",
       "      <td>NaN</td>\n",
       "      <td>NaN</td>\n",
       "      <td>NaN</td>\n",
       "      <td>NaN</td>\n",
       "      <td>2.888990</td>\n",
       "      <td>92.955932</td>\n",
       "    </tr>\n",
       "    <tr>\n",
       "      <td>23</td>\n",
       "      <td>1973</td>\n",
       "      <td>0.851109</td>\n",
       "      <td>NaN</td>\n",
       "      <td>0.044550</td>\n",
       "      <td>NaN</td>\n",
       "      <td>NaN</td>\n",
       "      <td>3.466994e+05</td>\n",
       "      <td>NaN</td>\n",
       "      <td>NaN</td>\n",
       "      <td>NaN</td>\n",
       "      <td>NaN</td>\n",
       "      <td>NaN</td>\n",
       "      <td>NaN</td>\n",
       "      <td>2.903592</td>\n",
       "      <td>93.085561</td>\n",
       "    </tr>\n",
       "    <tr>\n",
       "      <td>24</td>\n",
       "      <td>1974</td>\n",
       "      <td>0.875424</td>\n",
       "      <td>NaN</td>\n",
       "      <td>0.044577</td>\n",
       "      <td>NaN</td>\n",
       "      <td>NaN</td>\n",
       "      <td>3.624209e+05</td>\n",
       "      <td>NaN</td>\n",
       "      <td>NaN</td>\n",
       "      <td>NaN</td>\n",
       "      <td>NaN</td>\n",
       "      <td>NaN</td>\n",
       "      <td>NaN</td>\n",
       "      <td>2.906909</td>\n",
       "      <td>93.240713</td>\n",
       "    </tr>\n",
       "    <tr>\n",
       "      <td>25</td>\n",
       "      <td>1975</td>\n",
       "      <td>0.877175</td>\n",
       "      <td>NaN</td>\n",
       "      <td>0.046638</td>\n",
       "      <td>NaN</td>\n",
       "      <td>NaN</td>\n",
       "      <td>3.709590e+05</td>\n",
       "      <td>NaN</td>\n",
       "      <td>NaN</td>\n",
       "      <td>NaN</td>\n",
       "      <td>NaN</td>\n",
       "      <td>NaN</td>\n",
       "      <td>NaN</td>\n",
       "      <td>2.910550</td>\n",
       "      <td>93.966231</td>\n",
       "    </tr>\n",
       "    <tr>\n",
       "      <td>26</td>\n",
       "      <td>1976</td>\n",
       "      <td>0.879934</td>\n",
       "      <td>NaN</td>\n",
       "      <td>0.047059</td>\n",
       "      <td>NaN</td>\n",
       "      <td>NaN</td>\n",
       "      <td>3.848040e+05</td>\n",
       "      <td>NaN</td>\n",
       "      <td>NaN</td>\n",
       "      <td>NaN</td>\n",
       "      <td>NaN</td>\n",
       "      <td>NaN</td>\n",
       "      <td>NaN</td>\n",
       "      <td>2.919934</td>\n",
       "      <td>94.055921</td>\n",
       "    </tr>\n",
       "    <tr>\n",
       "      <td>27</td>\n",
       "      <td>1977</td>\n",
       "      <td>0.890039</td>\n",
       "      <td>NaN</td>\n",
       "      <td>0.050325</td>\n",
       "      <td>NaN</td>\n",
       "      <td>NaN</td>\n",
       "      <td>4.445123e+05</td>\n",
       "      <td>NaN</td>\n",
       "      <td>NaN</td>\n",
       "      <td>NaN</td>\n",
       "      <td>NaN</td>\n",
       "      <td>NaN</td>\n",
       "      <td>NaN</td>\n",
       "      <td>2.942317</td>\n",
       "      <td>94.197203</td>\n",
       "    </tr>\n",
       "    <tr>\n",
       "      <td>28</td>\n",
       "      <td>1978</td>\n",
       "      <td>0.920296</td>\n",
       "      <td>NaN</td>\n",
       "      <td>0.050686</td>\n",
       "      <td>NaN</td>\n",
       "      <td>NaN</td>\n",
       "      <td>4.663856e+05</td>\n",
       "      <td>NaN</td>\n",
       "      <td>NaN</td>\n",
       "      <td>NaN</td>\n",
       "      <td>NaN</td>\n",
       "      <td>NaN</td>\n",
       "      <td>NaN</td>\n",
       "      <td>2.947985</td>\n",
       "      <td>94.825499</td>\n",
       "    </tr>\n",
       "    <tr>\n",
       "      <td>29</td>\n",
       "      <td>1979</td>\n",
       "      <td>0.930769</td>\n",
       "      <td>NaN</td>\n",
       "      <td>0.052232</td>\n",
       "      <td>NaN</td>\n",
       "      <td>NaN</td>\n",
       "      <td>5.362031e+05</td>\n",
       "      <td>NaN</td>\n",
       "      <td>NaN</td>\n",
       "      <td>NaN</td>\n",
       "      <td>NaN</td>\n",
       "      <td>NaN</td>\n",
       "      <td>NaN</td>\n",
       "      <td>2.974386</td>\n",
       "      <td>97.343019</td>\n",
       "    </tr>\n",
       "    <tr>\n",
       "      <td>30</td>\n",
       "      <td>1980</td>\n",
       "      <td>0.931171</td>\n",
       "      <td>NaN</td>\n",
       "      <td>0.052885</td>\n",
       "      <td>NaN</td>\n",
       "      <td>NaN</td>\n",
       "      <td>5.560356e+05</td>\n",
       "      <td>NaN</td>\n",
       "      <td>NaN</td>\n",
       "      <td>NaN</td>\n",
       "      <td>NaN</td>\n",
       "      <td>NaN</td>\n",
       "      <td>NaN</td>\n",
       "      <td>2.999915</td>\n",
       "      <td>98.875603</td>\n",
       "    </tr>\n",
       "    <tr>\n",
       "      <td>31</td>\n",
       "      <td>1981</td>\n",
       "      <td>0.942308</td>\n",
       "      <td>NaN</td>\n",
       "      <td>0.053048</td>\n",
       "      <td>NaN</td>\n",
       "      <td>NaN</td>\n",
       "      <td>5.679499e+05</td>\n",
       "      <td>NaN</td>\n",
       "      <td>NaN</td>\n",
       "      <td>NaN</td>\n",
       "      <td>NaN</td>\n",
       "      <td>NaN</td>\n",
       "      <td>NaN</td>\n",
       "      <td>3.001950</td>\n",
       "      <td>100.659019</td>\n",
       "    </tr>\n",
       "    <tr>\n",
       "      <td>32</td>\n",
       "      <td>1982</td>\n",
       "      <td>0.961446</td>\n",
       "      <td>NaN</td>\n",
       "      <td>0.054237</td>\n",
       "      <td>NaN</td>\n",
       "      <td>NaN</td>\n",
       "      <td>5.868172e+05</td>\n",
       "      <td>NaN</td>\n",
       "      <td>NaN</td>\n",
       "      <td>NaN</td>\n",
       "      <td>NaN</td>\n",
       "      <td>NaN</td>\n",
       "      <td>NaN</td>\n",
       "      <td>3.011551</td>\n",
       "      <td>103.290600</td>\n",
       "    </tr>\n",
       "    <tr>\n",
       "      <td>33</td>\n",
       "      <td>1983</td>\n",
       "      <td>1.050286</td>\n",
       "      <td>NaN</td>\n",
       "      <td>0.054289</td>\n",
       "      <td>NaN</td>\n",
       "      <td>NaN</td>\n",
       "      <td>5.896398e+05</td>\n",
       "      <td>NaN</td>\n",
       "      <td>NaN</td>\n",
       "      <td>NaN</td>\n",
       "      <td>NaN</td>\n",
       "      <td>NaN</td>\n",
       "      <td>NaN</td>\n",
       "      <td>3.049588</td>\n",
       "      <td>104.179647</td>\n",
       "    </tr>\n",
       "    <tr>\n",
       "      <td>34</td>\n",
       "      <td>1984</td>\n",
       "      <td>1.081356</td>\n",
       "      <td>NaN</td>\n",
       "      <td>0.057627</td>\n",
       "      <td>NaN</td>\n",
       "      <td>NaN</td>\n",
       "      <td>5.973284e+05</td>\n",
       "      <td>NaN</td>\n",
       "      <td>NaN</td>\n",
       "      <td>NaN</td>\n",
       "      <td>NaN</td>\n",
       "      <td>NaN</td>\n",
       "      <td>NaN</td>\n",
       "      <td>3.057584</td>\n",
       "      <td>105.536364</td>\n",
       "    </tr>\n",
       "    <tr>\n",
       "      <td>35</td>\n",
       "      <td>1985</td>\n",
       "      <td>1.091278</td>\n",
       "      <td>NaN</td>\n",
       "      <td>0.059113</td>\n",
       "      <td>NaN</td>\n",
       "      <td>NaN</td>\n",
       "      <td>6.192663e+05</td>\n",
       "      <td>NaN</td>\n",
       "      <td>NaN</td>\n",
       "      <td>NaN</td>\n",
       "      <td>NaN</td>\n",
       "      <td>NaN</td>\n",
       "      <td>NaN</td>\n",
       "      <td>3.099543</td>\n",
       "      <td>107.169211</td>\n",
       "    </tr>\n",
       "    <tr>\n",
       "      <td>36</td>\n",
       "      <td>1986</td>\n",
       "      <td>1.142636</td>\n",
       "      <td>NaN</td>\n",
       "      <td>0.060571</td>\n",
       "      <td>NaN</td>\n",
       "      <td>NaN</td>\n",
       "      <td>7.040779e+05</td>\n",
       "      <td>NaN</td>\n",
       "      <td>NaN</td>\n",
       "      <td>NaN</td>\n",
       "      <td>NaN</td>\n",
       "      <td>NaN</td>\n",
       "      <td>NaN</td>\n",
       "      <td>3.122776</td>\n",
       "      <td>108.294072</td>\n",
       "    </tr>\n",
       "    <tr>\n",
       "      <td>37</td>\n",
       "      <td>1987</td>\n",
       "      <td>1.165079</td>\n",
       "      <td>NaN</td>\n",
       "      <td>0.061842</td>\n",
       "      <td>NaN</td>\n",
       "      <td>NaN</td>\n",
       "      <td>7.345833e+05</td>\n",
       "      <td>NaN</td>\n",
       "      <td>NaN</td>\n",
       "      <td>NaN</td>\n",
       "      <td>NaN</td>\n",
       "      <td>NaN</td>\n",
       "      <td>NaN</td>\n",
       "      <td>3.168427</td>\n",
       "      <td>109.766825</td>\n",
       "    </tr>\n",
       "    <tr>\n",
       "      <td>38</td>\n",
       "      <td>1988</td>\n",
       "      <td>1.174056</td>\n",
       "      <td>NaN</td>\n",
       "      <td>0.062370</td>\n",
       "      <td>NaN</td>\n",
       "      <td>NaN</td>\n",
       "      <td>7.697041e+05</td>\n",
       "      <td>NaN</td>\n",
       "      <td>NaN</td>\n",
       "      <td>NaN</td>\n",
       "      <td>NaN</td>\n",
       "      <td>NaN</td>\n",
       "      <td>NaN</td>\n",
       "      <td>3.178383</td>\n",
       "      <td>111.765591</td>\n",
       "    </tr>\n",
       "    <tr>\n",
       "      <td>39</td>\n",
       "      <td>1989</td>\n",
       "      <td>1.190329</td>\n",
       "      <td>NaN</td>\n",
       "      <td>0.062880</td>\n",
       "      <td>NaN</td>\n",
       "      <td>NaN</td>\n",
       "      <td>7.704367e+05</td>\n",
       "      <td>NaN</td>\n",
       "      <td>NaN</td>\n",
       "      <td>NaN</td>\n",
       "      <td>NaN</td>\n",
       "      <td>NaN</td>\n",
       "      <td>NaN</td>\n",
       "      <td>3.190614</td>\n",
       "      <td>111.806202</td>\n",
       "    </tr>\n",
       "    <tr>\n",
       "      <td>40</td>\n",
       "      <td>1990</td>\n",
       "      <td>1.211842</td>\n",
       "      <td>NaN</td>\n",
       "      <td>0.064995</td>\n",
       "      <td>NaN</td>\n",
       "      <td>NaN</td>\n",
       "      <td>7.862520e+05</td>\n",
       "      <td>NaN</td>\n",
       "      <td>NaN</td>\n",
       "      <td>NaN</td>\n",
       "      <td>NaN</td>\n",
       "      <td>NaN</td>\n",
       "      <td>NaN</td>\n",
       "      <td>3.220716</td>\n",
       "      <td>113.927212</td>\n",
       "    </tr>\n",
       "    <tr>\n",
       "      <td>41</td>\n",
       "      <td>1991</td>\n",
       "      <td>1.225638</td>\n",
       "      <td>NaN</td>\n",
       "      <td>0.065217</td>\n",
       "      <td>NaN</td>\n",
       "      <td>NaN</td>\n",
       "      <td>7.865171e+05</td>\n",
       "      <td>NaN</td>\n",
       "      <td>NaN</td>\n",
       "      <td>NaN</td>\n",
       "      <td>NaN</td>\n",
       "      <td>NaN</td>\n",
       "      <td>NaN</td>\n",
       "      <td>3.263664</td>\n",
       "      <td>116.444444</td>\n",
       "    </tr>\n",
       "    <tr>\n",
       "      <td>42</td>\n",
       "      <td>1992</td>\n",
       "      <td>1.262987</td>\n",
       "      <td>NaN</td>\n",
       "      <td>0.065270</td>\n",
       "      <td>NaN</td>\n",
       "      <td>NaN</td>\n",
       "      <td>8.245282e+05</td>\n",
       "      <td>NaN</td>\n",
       "      <td>NaN</td>\n",
       "      <td>NaN</td>\n",
       "      <td>NaN</td>\n",
       "      <td>NaN</td>\n",
       "      <td>NaN</td>\n",
       "      <td>3.275196</td>\n",
       "      <td>118.137931</td>\n",
       "    </tr>\n",
       "    <tr>\n",
       "      <td>43</td>\n",
       "      <td>1993</td>\n",
       "      <td>1.278075</td>\n",
       "      <td>NaN</td>\n",
       "      <td>0.067358</td>\n",
       "      <td>NaN</td>\n",
       "      <td>NaN</td>\n",
       "      <td>8.593802e+05</td>\n",
       "      <td>NaN</td>\n",
       "      <td>NaN</td>\n",
       "      <td>NaN</td>\n",
       "      <td>NaN</td>\n",
       "      <td>NaN</td>\n",
       "      <td>NaN</td>\n",
       "      <td>3.380977</td>\n",
       "      <td>119.606213</td>\n",
       "    </tr>\n",
       "    <tr>\n",
       "      <td>44</td>\n",
       "      <td>1994</td>\n",
       "      <td>1.320051</td>\n",
       "      <td>NaN</td>\n",
       "      <td>0.071318</td>\n",
       "      <td>NaN</td>\n",
       "      <td>NaN</td>\n",
       "      <td>8.931514e+05</td>\n",
       "      <td>NaN</td>\n",
       "      <td>NaN</td>\n",
       "      <td>NaN</td>\n",
       "      <td>NaN</td>\n",
       "      <td>NaN</td>\n",
       "      <td>NaN</td>\n",
       "      <td>3.432381</td>\n",
       "      <td>122.402850</td>\n",
       "    </tr>\n",
       "    <tr>\n",
       "      <td>45</td>\n",
       "      <td>1995</td>\n",
       "      <td>1.378936</td>\n",
       "      <td>NaN</td>\n",
       "      <td>0.074290</td>\n",
       "      <td>NaN</td>\n",
       "      <td>NaN</td>\n",
       "      <td>9.227570e+05</td>\n",
       "      <td>NaN</td>\n",
       "      <td>NaN</td>\n",
       "      <td>NaN</td>\n",
       "      <td>NaN</td>\n",
       "      <td>NaN</td>\n",
       "      <td>NaN</td>\n",
       "      <td>3.447166</td>\n",
       "      <td>123.806579</td>\n",
       "    </tr>\n",
       "    <tr>\n",
       "      <td>46</td>\n",
       "      <td>1996</td>\n",
       "      <td>1.408031</td>\n",
       "      <td>NaN</td>\n",
       "      <td>0.084892</td>\n",
       "      <td>NaN</td>\n",
       "      <td>NaN</td>\n",
       "      <td>9.445229e+05</td>\n",
       "      <td>NaN</td>\n",
       "      <td>NaN</td>\n",
       "      <td>NaN</td>\n",
       "      <td>NaN</td>\n",
       "      <td>NaN</td>\n",
       "      <td>NaN</td>\n",
       "      <td>3.448033</td>\n",
       "      <td>123.844286</td>\n",
       "    </tr>\n",
       "    <tr>\n",
       "      <td>47</td>\n",
       "      <td>1997</td>\n",
       "      <td>1.464748</td>\n",
       "      <td>NaN</td>\n",
       "      <td>0.085023</td>\n",
       "      <td>NaN</td>\n",
       "      <td>NaN</td>\n",
       "      <td>9.538878e+05</td>\n",
       "      <td>NaN</td>\n",
       "      <td>NaN</td>\n",
       "      <td>NaN</td>\n",
       "      <td>NaN</td>\n",
       "      <td>NaN</td>\n",
       "      <td>NaN</td>\n",
       "      <td>3.472391</td>\n",
       "      <td>127.698039</td>\n",
       "    </tr>\n",
       "    <tr>\n",
       "      <td>48</td>\n",
       "      <td>1998</td>\n",
       "      <td>1.465190</td>\n",
       "      <td>NaN</td>\n",
       "      <td>0.091503</td>\n",
       "      <td>NaN</td>\n",
       "      <td>NaN</td>\n",
       "      <td>1.001915e+06</td>\n",
       "      <td>NaN</td>\n",
       "      <td>NaN</td>\n",
       "      <td>NaN</td>\n",
       "      <td>NaN</td>\n",
       "      <td>NaN</td>\n",
       "      <td>NaN</td>\n",
       "      <td>3.524418</td>\n",
       "      <td>128.411392</td>\n",
       "    </tr>\n",
       "    <tr>\n",
       "      <td>49</td>\n",
       "      <td>1999</td>\n",
       "      <td>1.510526</td>\n",
       "      <td>NaN</td>\n",
       "      <td>0.092063</td>\n",
       "      <td>NaN</td>\n",
       "      <td>NaN</td>\n",
       "      <td>1.030764e+06</td>\n",
       "      <td>NaN</td>\n",
       "      <td>NaN</td>\n",
       "      <td>NaN</td>\n",
       "      <td>NaN</td>\n",
       "      <td>NaN</td>\n",
       "      <td>NaN</td>\n",
       "      <td>3.670233</td>\n",
       "      <td>129.853616</td>\n",
       "    </tr>\n",
       "    <tr>\n",
       "      <td>50</td>\n",
       "      <td>2000</td>\n",
       "      <td>1.514553</td>\n",
       "      <td>NaN</td>\n",
       "      <td>0.096053</td>\n",
       "      <td>NaN</td>\n",
       "      <td>NaN</td>\n",
       "      <td>1.086891e+06</td>\n",
       "      <td>NaN</td>\n",
       "      <td>NaN</td>\n",
       "      <td>NaN</td>\n",
       "      <td>NaN</td>\n",
       "      <td>NaN</td>\n",
       "      <td>NaN</td>\n",
       "      <td>3.785571</td>\n",
       "      <td>130.457249</td>\n",
       "    </tr>\n",
       "    <tr>\n",
       "      <td>51</td>\n",
       "      <td>2001</td>\n",
       "      <td>1.680466</td>\n",
       "      <td>NaN</td>\n",
       "      <td>0.101538</td>\n",
       "      <td>NaN</td>\n",
       "      <td>NaN</td>\n",
       "      <td>1.122356e+06</td>\n",
       "      <td>NaN</td>\n",
       "      <td>NaN</td>\n",
       "      <td>NaN</td>\n",
       "      <td>NaN</td>\n",
       "      <td>NaN</td>\n",
       "      <td>NaN</td>\n",
       "      <td>3.941818</td>\n",
       "      <td>131.574386</td>\n",
       "    </tr>\n",
       "    <tr>\n",
       "      <td>52</td>\n",
       "      <td>2002</td>\n",
       "      <td>1.935714</td>\n",
       "      <td>NaN</td>\n",
       "      <td>0.104286</td>\n",
       "      <td>NaN</td>\n",
       "      <td>NaN</td>\n",
       "      <td>1.211181e+06</td>\n",
       "      <td>NaN</td>\n",
       "      <td>NaN</td>\n",
       "      <td>NaN</td>\n",
       "      <td>NaN</td>\n",
       "      <td>NaN</td>\n",
       "      <td>NaN</td>\n",
       "      <td>4.021123</td>\n",
       "      <td>132.252679</td>\n",
       "    </tr>\n",
       "    <tr>\n",
       "      <td>53</td>\n",
       "      <td>2003</td>\n",
       "      <td>1.947955</td>\n",
       "      <td>NaN</td>\n",
       "      <td>0.110197</td>\n",
       "      <td>NaN</td>\n",
       "      <td>NaN</td>\n",
       "      <td>1.211595e+06</td>\n",
       "      <td>NaN</td>\n",
       "      <td>NaN</td>\n",
       "      <td>NaN</td>\n",
       "      <td>NaN</td>\n",
       "      <td>NaN</td>\n",
       "      <td>NaN</td>\n",
       "      <td>4.046462</td>\n",
       "      <td>138.825112</td>\n",
       "    </tr>\n",
       "    <tr>\n",
       "      <td>54</td>\n",
       "      <td>2004</td>\n",
       "      <td>2.005008</td>\n",
       "      <td>NaN</td>\n",
       "      <td>0.118012</td>\n",
       "      <td>NaN</td>\n",
       "      <td>NaN</td>\n",
       "      <td>1.218978e+06</td>\n",
       "      <td>NaN</td>\n",
       "      <td>NaN</td>\n",
       "      <td>NaN</td>\n",
       "      <td>NaN</td>\n",
       "      <td>NaN</td>\n",
       "      <td>NaN</td>\n",
       "      <td>4.151711</td>\n",
       "      <td>142.087251</td>\n",
       "    </tr>\n",
       "    <tr>\n",
       "      <td>55</td>\n",
       "      <td>2005</td>\n",
       "      <td>2.016923</td>\n",
       "      <td>NaN</td>\n",
       "      <td>0.119608</td>\n",
       "      <td>NaN</td>\n",
       "      <td>NaN</td>\n",
       "      <td>1.234627e+06</td>\n",
       "      <td>NaN</td>\n",
       "      <td>NaN</td>\n",
       "      <td>NaN</td>\n",
       "      <td>NaN</td>\n",
       "      <td>NaN</td>\n",
       "      <td>NaN</td>\n",
       "      <td>4.243718</td>\n",
       "      <td>149.501134</td>\n",
       "    </tr>\n",
       "    <tr>\n",
       "      <td>56</td>\n",
       "      <td>2006</td>\n",
       "      <td>2.124731</td>\n",
       "      <td>NaN</td>\n",
       "      <td>0.121604</td>\n",
       "      <td>NaN</td>\n",
       "      <td>NaN</td>\n",
       "      <td>1.247798e+06</td>\n",
       "      <td>NaN</td>\n",
       "      <td>NaN</td>\n",
       "      <td>NaN</td>\n",
       "      <td>NaN</td>\n",
       "      <td>NaN</td>\n",
       "      <td>NaN</td>\n",
       "      <td>4.258097</td>\n",
       "      <td>150.417077</td>\n",
       "    </tr>\n",
       "    <tr>\n",
       "      <td>57</td>\n",
       "      <td>2007</td>\n",
       "      <td>2.219462</td>\n",
       "      <td>NaN</td>\n",
       "      <td>0.126394</td>\n",
       "      <td>NaN</td>\n",
       "      <td>NaN</td>\n",
       "      <td>1.309107e+06</td>\n",
       "      <td>NaN</td>\n",
       "      <td>NaN</td>\n",
       "      <td>NaN</td>\n",
       "      <td>NaN</td>\n",
       "      <td>NaN</td>\n",
       "      <td>NaN</td>\n",
       "      <td>4.407099</td>\n",
       "      <td>153.792103</td>\n",
       "    </tr>\n",
       "    <tr>\n",
       "      <td>58</td>\n",
       "      <td>2008</td>\n",
       "      <td>2.389771</td>\n",
       "      <td>NaN</td>\n",
       "      <td>0.146384</td>\n",
       "      <td>NaN</td>\n",
       "      <td>NaN</td>\n",
       "      <td>1.454353e+06</td>\n",
       "      <td>NaN</td>\n",
       "      <td>NaN</td>\n",
       "      <td>NaN</td>\n",
       "      <td>NaN</td>\n",
       "      <td>NaN</td>\n",
       "      <td>NaN</td>\n",
       "      <td>4.411184</td>\n",
       "      <td>165.021600</td>\n",
       "    </tr>\n",
       "    <tr>\n",
       "      <td>59</td>\n",
       "      <td>2009</td>\n",
       "      <td>2.450000</td>\n",
       "      <td>NaN</td>\n",
       "      <td>0.161716</td>\n",
       "      <td>NaN</td>\n",
       "      <td>NaN</td>\n",
       "      <td>1.558314e+06</td>\n",
       "      <td>NaN</td>\n",
       "      <td>NaN</td>\n",
       "      <td>NaN</td>\n",
       "      <td>NaN</td>\n",
       "      <td>NaN</td>\n",
       "      <td>NaN</td>\n",
       "      <td>4.443494</td>\n",
       "      <td>168.081818</td>\n",
       "    </tr>\n",
       "    <tr>\n",
       "      <td>60</td>\n",
       "      <td>2010</td>\n",
       "      <td>2.643684</td>\n",
       "      <td>NaN</td>\n",
       "      <td>0.165109</td>\n",
       "      <td>NaN</td>\n",
       "      <td>NaN</td>\n",
       "      <td>1.722071e+06</td>\n",
       "      <td>NaN</td>\n",
       "      <td>NaN</td>\n",
       "      <td>NaN</td>\n",
       "      <td>NaN</td>\n",
       "      <td>NaN</td>\n",
       "      <td>NaN</td>\n",
       "      <td>4.628687</td>\n",
       "      <td>168.776423</td>\n",
       "    </tr>\n",
       "    <tr>\n",
       "      <td>61</td>\n",
       "      <td>2011</td>\n",
       "      <td>2.827622</td>\n",
       "      <td>NaN</td>\n",
       "      <td>0.183217</td>\n",
       "      <td>NaN</td>\n",
       "      <td>NaN</td>\n",
       "      <td>1.733052e+06</td>\n",
       "      <td>NaN</td>\n",
       "      <td>NaN</td>\n",
       "      <td>NaN</td>\n",
       "      <td>NaN</td>\n",
       "      <td>NaN</td>\n",
       "      <td>NaN</td>\n",
       "      <td>4.859247</td>\n",
       "      <td>169.449335</td>\n",
       "    </tr>\n",
       "    <tr>\n",
       "      <td>62</td>\n",
       "      <td>2012</td>\n",
       "      <td>2.955157</td>\n",
       "      <td>NaN</td>\n",
       "      <td>0.204114</td>\n",
       "      <td>NaN</td>\n",
       "      <td>NaN</td>\n",
       "      <td>1.780272e+06</td>\n",
       "      <td>NaN</td>\n",
       "      <td>NaN</td>\n",
       "      <td>NaN</td>\n",
       "      <td>NaN</td>\n",
       "      <td>NaN</td>\n",
       "      <td>NaN</td>\n",
       "      <td>5.056487</td>\n",
       "      <td>173.338235</td>\n",
       "    </tr>\n",
       "    <tr>\n",
       "      <td>63</td>\n",
       "      <td>2013</td>\n",
       "      <td>3.283224</td>\n",
       "      <td>NaN</td>\n",
       "      <td>0.207527</td>\n",
       "      <td>NaN</td>\n",
       "      <td>NaN</td>\n",
       "      <td>1.882470e+06</td>\n",
       "      <td>NaN</td>\n",
       "      <td>NaN</td>\n",
       "      <td>NaN</td>\n",
       "      <td>NaN</td>\n",
       "      <td>NaN</td>\n",
       "      <td>NaN</td>\n",
       "      <td>5.059464</td>\n",
       "      <td>174.878057</td>\n",
       "    </tr>\n",
       "    <tr>\n",
       "      <td>64</td>\n",
       "      <td>2014</td>\n",
       "      <td>3.349835</td>\n",
       "      <td>NaN</td>\n",
       "      <td>0.266635</td>\n",
       "      <td>NaN</td>\n",
       "      <td>NaN</td>\n",
       "      <td>1.911022e+06</td>\n",
       "      <td>NaN</td>\n",
       "      <td>NaN</td>\n",
       "      <td>NaN</td>\n",
       "      <td>NaN</td>\n",
       "      <td>NaN</td>\n",
       "      <td>NaN</td>\n",
       "      <td>5.148187</td>\n",
       "      <td>175.388508</td>\n",
       "    </tr>\n",
       "    <tr>\n",
       "      <td>65</td>\n",
       "      <td>2015</td>\n",
       "      <td>3.527273</td>\n",
       "      <td>NaN</td>\n",
       "      <td>0.304040</td>\n",
       "      <td>NaN</td>\n",
       "      <td>NaN</td>\n",
       "      <td>2.080333e+06</td>\n",
       "      <td>NaN</td>\n",
       "      <td>NaN</td>\n",
       "      <td>NaN</td>\n",
       "      <td>NaN</td>\n",
       "      <td>NaN</td>\n",
       "      <td>NaN</td>\n",
       "      <td>5.322003</td>\n",
       "      <td>176.419905</td>\n",
       "    </tr>\n",
       "    <tr>\n",
       "      <td>66</td>\n",
       "      <td>2016</td>\n",
       "      <td>5.249495</td>\n",
       "      <td>NaN</td>\n",
       "      <td>0.313901</td>\n",
       "      <td>NaN</td>\n",
       "      <td>NaN</td>\n",
       "      <td>2.089384e+06</td>\n",
       "      <td>NaN</td>\n",
       "      <td>NaN</td>\n",
       "      <td>NaN</td>\n",
       "      <td>NaN</td>\n",
       "      <td>NaN</td>\n",
       "      <td>NaN</td>\n",
       "      <td>5.741446</td>\n",
       "      <td>182.189744</td>\n",
       "    </tr>\n",
       "    <tr>\n",
       "      <td>67</td>\n",
       "      <td>2017</td>\n",
       "      <td>6.092857</td>\n",
       "      <td>NaN</td>\n",
       "      <td>0.326786</td>\n",
       "      <td>NaN</td>\n",
       "      <td>NaN</td>\n",
       "      <td>2.214830e+06</td>\n",
       "      <td>NaN</td>\n",
       "      <td>NaN</td>\n",
       "      <td>NaN</td>\n",
       "      <td>NaN</td>\n",
       "      <td>NaN</td>\n",
       "      <td>NaN</td>\n",
       "      <td>5.761883</td>\n",
       "      <td>214.219794</td>\n",
       "    </tr>\n",
       "    <tr>\n",
       "      <td>68</td>\n",
       "      <td>2018</td>\n",
       "      <td>7.044118</td>\n",
       "      <td>NaN</td>\n",
       "      <td>0.849265</td>\n",
       "      <td>NaN</td>\n",
       "      <td>NaN</td>\n",
       "      <td>3.458849e+06</td>\n",
       "      <td>NaN</td>\n",
       "      <td>NaN</td>\n",
       "      <td>NaN</td>\n",
       "      <td>NaN</td>\n",
       "      <td>NaN</td>\n",
       "      <td>NaN</td>\n",
       "      <td>6.084926</td>\n",
       "      <td>217.939901</td>\n",
       "    </tr>\n",
       "    <tr>\n",
       "      <td>69</td>\n",
       "      <td>2019</td>\n",
       "      <td>10.428862</td>\n",
       "      <td>NaN</td>\n",
       "      <td>1.054878</td>\n",
       "      <td>NaN</td>\n",
       "      <td>NaN</td>\n",
       "      <td>4.669311e+06</td>\n",
       "      <td>NaN</td>\n",
       "      <td>NaN</td>\n",
       "      <td>NaN</td>\n",
       "      <td>NaN</td>\n",
       "      <td>NaN</td>\n",
       "      <td>NaN</td>\n",
       "      <td>7.815244</td>\n",
       "      <td>243.468645</td>\n",
       "    </tr>\n",
       "  </tbody>\n",
       "</table>\n",
       "</div>"
      ],
      "text/plain": [
       "    YEAR  INJURIES_DIRECT  INJURIES_INDIRECT  DEATHS_DIRECT  DEATHS_INDIRECT  DAMAGE_CROPS  DAMAGE_PROPERTY    EF0    EF1    EF2   EF3  EF4  EF5  TOR_LENGTH   TOR_WIDTH\n",
       "0   1950         0.159200                0.0       0.008000              0.0           0.0     9.985250e+04  115.0  229.0  154.0  26.0  8.0  0.0    1.993898   69.523741\n",
       "1   1951         0.203390                NaN       0.016496              NaN           NaN     1.307921e+05  167.0    NaN    NaN  38.0  NaN  NaN    2.047149   69.671410\n",
       "2   1952         0.301205                NaN       0.016682              NaN           NaN     1.388143e+05  742.0    NaN    NaN   NaN  NaN  NaN    2.107050   73.434286\n",
       "3   1953         0.311862                NaN       0.017668              NaN           NaN     1.408954e+05    NaN    NaN    NaN   NaN  NaN  NaN    2.145447   74.624096\n",
       "4   1954         0.314511                NaN       0.017976              NaN           NaN     1.546262e+05    NaN    NaN    NaN   NaN  NaN  NaN    2.225666   74.876452\n",
       "5   1955         0.323874                NaN       0.020521              NaN           NaN     1.679112e+05    NaN    NaN    NaN   NaN  NaN  NaN    2.248161   79.010682\n",
       "6   1956         0.399851                NaN       0.021251              NaN           NaN     1.742680e+05    NaN    NaN    NaN   NaN  NaN  NaN    2.306834   79.152318\n",
       "7   1957         0.483402                NaN       0.023442              NaN           NaN     1.769383e+05    NaN    NaN    NaN   NaN  NaN  NaN    2.348174   79.557789\n",
       "8   1958         0.497180                NaN       0.027273              NaN           NaN     1.832934e+05    NaN    NaN    NaN   NaN  NaN  NaN    2.356569   80.240547\n",
       "9   1959         0.549963                NaN       0.027778              NaN           NaN     1.952090e+05    NaN    NaN    NaN   NaN  NaN  NaN    2.368234   81.742049\n",
       "10  1960         0.556433                NaN       0.027938              NaN           NaN     2.061946e+05    NaN    NaN    NaN   NaN  NaN  NaN    2.444423   83.839286\n",
       "11  1961         0.607583                NaN       0.028295              NaN           NaN     2.098863e+05    NaN    NaN    NaN   NaN  NaN  NaN    2.494038   84.443894\n",
       "12  1962         0.631331                NaN       0.028807              NaN           NaN     2.121622e+05    NaN    NaN    NaN   NaN  NaN  NaN    2.498736   84.487654\n",
       "13  1963         0.700000                NaN       0.028916              NaN           NaN     2.184090e+05    NaN    NaN    NaN   NaN  NaN  NaN    2.514330   86.232919\n",
       "14  1964         0.708143                NaN       0.029608              NaN           NaN     2.323688e+05    NaN    NaN    NaN   NaN  NaN  NaN    2.540593   87.545738\n",
       "15  1965         0.715232                NaN       0.031120              NaN           NaN     2.408190e+05    NaN    NaN    NaN   NaN  NaN  NaN    2.548554   88.149837\n",
       "16  1966         0.717949                NaN       0.032285              NaN           NaN     2.412784e+05    NaN    NaN    NaN   NaN  NaN  NaN    2.709156   90.385604\n",
       "17  1967         0.754491                NaN       0.034171              NaN           NaN     2.435167e+05    NaN    NaN    NaN   NaN  NaN  NaN    2.713768   90.398362\n",
       "18  1968         0.759799                NaN       0.035073              NaN           NaN     2.577340e+05    NaN    NaN    NaN   NaN  NaN  NaN    2.723604   90.915385\n",
       "19  1969         0.776938                NaN       0.035179              NaN           NaN     2.755970e+05    NaN    NaN    NaN   NaN  NaN  NaN    2.784858   91.194143\n",
       "20  1970         0.780681                NaN       0.041397              NaN           NaN     2.938181e+05    NaN    NaN    NaN   NaN  NaN  NaN    2.850065   91.952421\n",
       "21  1971         0.818722                NaN       0.041930              NaN           NaN     3.140979e+05    NaN    NaN    NaN   NaN  NaN  NaN    2.857470   92.301780\n",
       "22  1972         0.836226                NaN       0.043702              NaN           NaN     3.299435e+05    NaN    NaN    NaN   NaN  NaN  NaN    2.888990   92.955932\n",
       "23  1973         0.851109                NaN       0.044550              NaN           NaN     3.466994e+05    NaN    NaN    NaN   NaN  NaN  NaN    2.903592   93.085561\n",
       "24  1974         0.875424                NaN       0.044577              NaN           NaN     3.624209e+05    NaN    NaN    NaN   NaN  NaN  NaN    2.906909   93.240713\n",
       "25  1975         0.877175                NaN       0.046638              NaN           NaN     3.709590e+05    NaN    NaN    NaN   NaN  NaN  NaN    2.910550   93.966231\n",
       "26  1976         0.879934                NaN       0.047059              NaN           NaN     3.848040e+05    NaN    NaN    NaN   NaN  NaN  NaN    2.919934   94.055921\n",
       "27  1977         0.890039                NaN       0.050325              NaN           NaN     4.445123e+05    NaN    NaN    NaN   NaN  NaN  NaN    2.942317   94.197203\n",
       "28  1978         0.920296                NaN       0.050686              NaN           NaN     4.663856e+05    NaN    NaN    NaN   NaN  NaN  NaN    2.947985   94.825499\n",
       "29  1979         0.930769                NaN       0.052232              NaN           NaN     5.362031e+05    NaN    NaN    NaN   NaN  NaN  NaN    2.974386   97.343019\n",
       "30  1980         0.931171                NaN       0.052885              NaN           NaN     5.560356e+05    NaN    NaN    NaN   NaN  NaN  NaN    2.999915   98.875603\n",
       "31  1981         0.942308                NaN       0.053048              NaN           NaN     5.679499e+05    NaN    NaN    NaN   NaN  NaN  NaN    3.001950  100.659019\n",
       "32  1982         0.961446                NaN       0.054237              NaN           NaN     5.868172e+05    NaN    NaN    NaN   NaN  NaN  NaN    3.011551  103.290600\n",
       "33  1983         1.050286                NaN       0.054289              NaN           NaN     5.896398e+05    NaN    NaN    NaN   NaN  NaN  NaN    3.049588  104.179647\n",
       "34  1984         1.081356                NaN       0.057627              NaN           NaN     5.973284e+05    NaN    NaN    NaN   NaN  NaN  NaN    3.057584  105.536364\n",
       "35  1985         1.091278                NaN       0.059113              NaN           NaN     6.192663e+05    NaN    NaN    NaN   NaN  NaN  NaN    3.099543  107.169211\n",
       "36  1986         1.142636                NaN       0.060571              NaN           NaN     7.040779e+05    NaN    NaN    NaN   NaN  NaN  NaN    3.122776  108.294072\n",
       "37  1987         1.165079                NaN       0.061842              NaN           NaN     7.345833e+05    NaN    NaN    NaN   NaN  NaN  NaN    3.168427  109.766825\n",
       "38  1988         1.174056                NaN       0.062370              NaN           NaN     7.697041e+05    NaN    NaN    NaN   NaN  NaN  NaN    3.178383  111.765591\n",
       "39  1989         1.190329                NaN       0.062880              NaN           NaN     7.704367e+05    NaN    NaN    NaN   NaN  NaN  NaN    3.190614  111.806202\n",
       "40  1990         1.211842                NaN       0.064995              NaN           NaN     7.862520e+05    NaN    NaN    NaN   NaN  NaN  NaN    3.220716  113.927212\n",
       "41  1991         1.225638                NaN       0.065217              NaN           NaN     7.865171e+05    NaN    NaN    NaN   NaN  NaN  NaN    3.263664  116.444444\n",
       "42  1992         1.262987                NaN       0.065270              NaN           NaN     8.245282e+05    NaN    NaN    NaN   NaN  NaN  NaN    3.275196  118.137931\n",
       "43  1993         1.278075                NaN       0.067358              NaN           NaN     8.593802e+05    NaN    NaN    NaN   NaN  NaN  NaN    3.380977  119.606213\n",
       "44  1994         1.320051                NaN       0.071318              NaN           NaN     8.931514e+05    NaN    NaN    NaN   NaN  NaN  NaN    3.432381  122.402850\n",
       "45  1995         1.378936                NaN       0.074290              NaN           NaN     9.227570e+05    NaN    NaN    NaN   NaN  NaN  NaN    3.447166  123.806579\n",
       "46  1996         1.408031                NaN       0.084892              NaN           NaN     9.445229e+05    NaN    NaN    NaN   NaN  NaN  NaN    3.448033  123.844286\n",
       "47  1997         1.464748                NaN       0.085023              NaN           NaN     9.538878e+05    NaN    NaN    NaN   NaN  NaN  NaN    3.472391  127.698039\n",
       "48  1998         1.465190                NaN       0.091503              NaN           NaN     1.001915e+06    NaN    NaN    NaN   NaN  NaN  NaN    3.524418  128.411392\n",
       "49  1999         1.510526                NaN       0.092063              NaN           NaN     1.030764e+06    NaN    NaN    NaN   NaN  NaN  NaN    3.670233  129.853616\n",
       "50  2000         1.514553                NaN       0.096053              NaN           NaN     1.086891e+06    NaN    NaN    NaN   NaN  NaN  NaN    3.785571  130.457249\n",
       "51  2001         1.680466                NaN       0.101538              NaN           NaN     1.122356e+06    NaN    NaN    NaN   NaN  NaN  NaN    3.941818  131.574386\n",
       "52  2002         1.935714                NaN       0.104286              NaN           NaN     1.211181e+06    NaN    NaN    NaN   NaN  NaN  NaN    4.021123  132.252679\n",
       "53  2003         1.947955                NaN       0.110197              NaN           NaN     1.211595e+06    NaN    NaN    NaN   NaN  NaN  NaN    4.046462  138.825112\n",
       "54  2004         2.005008                NaN       0.118012              NaN           NaN     1.218978e+06    NaN    NaN    NaN   NaN  NaN  NaN    4.151711  142.087251\n",
       "55  2005         2.016923                NaN       0.119608              NaN           NaN     1.234627e+06    NaN    NaN    NaN   NaN  NaN  NaN    4.243718  149.501134\n",
       "56  2006         2.124731                NaN       0.121604              NaN           NaN     1.247798e+06    NaN    NaN    NaN   NaN  NaN  NaN    4.258097  150.417077\n",
       "57  2007         2.219462                NaN       0.126394              NaN           NaN     1.309107e+06    NaN    NaN    NaN   NaN  NaN  NaN    4.407099  153.792103\n",
       "58  2008         2.389771                NaN       0.146384              NaN           NaN     1.454353e+06    NaN    NaN    NaN   NaN  NaN  NaN    4.411184  165.021600\n",
       "59  2009         2.450000                NaN       0.161716              NaN           NaN     1.558314e+06    NaN    NaN    NaN   NaN  NaN  NaN    4.443494  168.081818\n",
       "60  2010         2.643684                NaN       0.165109              NaN           NaN     1.722071e+06    NaN    NaN    NaN   NaN  NaN  NaN    4.628687  168.776423\n",
       "61  2011         2.827622                NaN       0.183217              NaN           NaN     1.733052e+06    NaN    NaN    NaN   NaN  NaN  NaN    4.859247  169.449335\n",
       "62  2012         2.955157                NaN       0.204114              NaN           NaN     1.780272e+06    NaN    NaN    NaN   NaN  NaN  NaN    5.056487  173.338235\n",
       "63  2013         3.283224                NaN       0.207527              NaN           NaN     1.882470e+06    NaN    NaN    NaN   NaN  NaN  NaN    5.059464  174.878057\n",
       "64  2014         3.349835                NaN       0.266635              NaN           NaN     1.911022e+06    NaN    NaN    NaN   NaN  NaN  NaN    5.148187  175.388508\n",
       "65  2015         3.527273                NaN       0.304040              NaN           NaN     2.080333e+06    NaN    NaN    NaN   NaN  NaN  NaN    5.322003  176.419905\n",
       "66  2016         5.249495                NaN       0.313901              NaN           NaN     2.089384e+06    NaN    NaN    NaN   NaN  NaN  NaN    5.741446  182.189744\n",
       "67  2017         6.092857                NaN       0.326786              NaN           NaN     2.214830e+06    NaN    NaN    NaN   NaN  NaN  NaN    5.761883  214.219794\n",
       "68  2018         7.044118                NaN       0.849265              NaN           NaN     3.458849e+06    NaN    NaN    NaN   NaN  NaN  NaN    6.084926  217.939901\n",
       "69  2019        10.428862                NaN       1.054878              NaN           NaN     4.669311e+06    NaN    NaN    NaN   NaN  NaN  NaN    7.815244  243.468645"
      ]
     },
     "execution_count": 77,
     "metadata": {},
     "output_type": "execute_result"
    }
   ],
   "source": [
    "tornado.mode()"
   ]
  },
  {
   "cell_type": "code",
   "execution_count": 78,
   "metadata": {},
   "outputs": [
    {
     "data": {
      "text/plain": [
       "YEAR                 0.000000\n",
       "INJURIES_DIRECT      3.208336\n",
       "INJURIES_INDIRECT    7.128179\n",
       "DEATHS_DIRECT        4.392291\n",
       "DEATHS_INDIRECT      4.660297\n",
       "DAMAGE_CROPS         4.123353\n",
       "DAMAGE_PROPERTY      2.281136\n",
       "EF0                  0.524359\n",
       "EF1                  0.833408\n",
       "EF2                  0.741709\n",
       "EF3                  1.282844\n",
       "EF4                  2.407241\n",
       "EF5                  3.553839\n",
       "TOR_LENGTH           1.479018\n",
       "TOR_WIDTH            1.180905\n",
       "dtype: float64"
      ]
     },
     "execution_count": 78,
     "metadata": {},
     "output_type": "execute_result"
    }
   ],
   "source": [
    "tornado.skew()"
   ]
  },
  {
   "cell_type": "code",
   "execution_count": 79,
   "metadata": {},
   "outputs": [
    {
     "data": {
      "text/plain": [
       "YEAR                 -1.200000\n",
       "INJURIES_DIRECT      12.744316\n",
       "INJURIES_INDIRECT    54.704729\n",
       "DEATHS_DIRECT        21.754762\n",
       "DEATHS_INDIRECT      25.823154\n",
       "DAMAGE_CROPS         17.691905\n",
       "DAMAGE_PROPERTY       7.520982\n",
       "EF0                  -0.803068\n",
       "EF1                   1.781413\n",
       "EF2                   0.273234\n",
       "EF3                   2.101752\n",
       "EF4                   7.658290\n",
       "EF5                  16.869668\n",
       "TOR_LENGTH            2.767117\n",
       "TOR_WIDTH             1.061118\n",
       "dtype: float64"
      ]
     },
     "execution_count": 79,
     "metadata": {},
     "output_type": "execute_result"
    }
   ],
   "source": [
    "tornado.kurtosis()"
   ]
  },
  {
   "cell_type": "markdown",
   "metadata": {},
   "source": [
    "Since Injuries, and Death seem fairly flat and similar and they are obviously skewed, I am going to drop those to reduce the noies. I am also going to drop damage crop because it has not been reported over time. For Damaged property, when looking at the histogram and scatterplot, it looks like values over 3M are the outliers. EF5 seems to have an outlier as well the value of above 20."
   ]
  },
  {
   "cell_type": "code",
   "execution_count": 80,
   "metadata": {},
   "outputs": [],
   "source": [
    "tornado2 = tornado[['YEAR', 'DAMAGE_PROPERTY',\"EF0\",\"EF1\",\"EF2\",\"EF3\",\"EF4\",\"EF5\", 'TOR_LENGTH', 'TOR_WIDTH']]\n",
    "tornado2 = tornado2[tornado2.DAMAGE_PROPERTY <3000000]\n",
    "tornado2 = tornado2[tornado2.EF5 < 20]"
   ]
  },
  {
   "cell_type": "markdown",
   "metadata": {},
   "source": [
    "displays for powerpoint"
   ]
  },
  {
   "cell_type": "code",
   "execution_count": 81,
   "metadata": {},
   "outputs": [
    {
     "data": {
      "image/png": "[encoded data removed]",
      "text/plain": [
       "<Figure size 432x288 with 1 Axes>"
      ]
     },
     "metadata": {
      "needs_background": "light"
     },
     "output_type": "display_data"
    }
   ],
   "source": [
    "tornado2.YEAR.plot.hist(grid=True, color='#607c8e')\n",
    "plt.title('Year of Tornado Events Aggregate View')\n",
    "plt.xlabel('YEAR')\n",
    "plt.ylabel('Counts')\n",
    "plt.grid(axis='y', alpha=0.75)"
   ]
  },
  {
   "cell_type": "code",
   "execution_count": 82,
   "metadata": {},
   "outputs": [
    {
     "data": {
      "image/png": "[encoded data removed]",
      "text/plain": [
       "<Figure size 432x288 with 1 Axes>"
      ]
     },
     "metadata": {
      "needs_background": "light"
     },
     "output_type": "display_data"
    }
   ],
   "source": [
    "t_df2.YEAR.plot.hist(grid=True, color='#607c8e')\n",
    "plt.title('Year of Tornado Events View')\n",
    "plt.xlabel('YEAR')\n",
    "plt.ylabel('Counts')\n",
    "plt.grid(axis='y', alpha=0.75)"
   ]
  },
  {
   "cell_type": "code",
   "execution_count": 83,
   "metadata": {},
   "outputs": [
    {
     "data": {
      "text/plain": [
       "count      67.000000\n",
       "mean     1983.835821\n",
       "std        20.197207\n",
       "min      1950.000000\n",
       "25%      1966.500000\n",
       "50%      1984.000000\n",
       "75%      2000.500000\n",
       "max      2019.000000\n",
       "Name: YEAR, dtype: float64"
      ]
     },
     "execution_count": 83,
     "metadata": {},
     "output_type": "execute_result"
    }
   ],
   "source": [
    "tornado2.YEAR.describe()"
   ]
  },
  {
   "cell_type": "code",
   "execution_count": 84,
   "metadata": {},
   "outputs": [
    {
     "data": {
      "image/png": "[encoded data removed]",
      "text/plain": [
       "<Figure size 432x288 with 1 Axes>"
      ]
     },
     "metadata": {
      "needs_background": "light"
     },
     "output_type": "display_data"
    }
   ],
   "source": [
    "tornado2.DAMAGE_PROPERTY.plot.hist(grid=True, color='#607c8e')\n",
    "plt.title('Average by Year Property Damage ($)')\n",
    "plt.xlabel('YEAR')\n",
    "plt.ylabel('Counts')\n",
    "plt.grid(axis='y', alpha=0.75)"
   ]
  },
  {
   "cell_type": "code",
   "execution_count": 85,
   "metadata": {},
   "outputs": [
    {
     "name": "stdout",
     "output_type": "stream",
     "text": [
      "count        67.00\n",
      "mean     740082.16\n",
      "std      567117.99\n",
      "min       99852.50\n",
      "25%      242397.53\n",
      "50%      589639.81\n",
      "75%     1058827.41\n",
      "max     2214829.58\n",
      "Name: DAMAGE_PROPERTY, dtype: float64\n"
     ]
    }
   ],
   "source": [
    "pd.options.display.float_format = '{:.2f}'.format\n",
    "print(tornado2.DAMAGE_PROPERTY.describe())"
   ]
  },
  {
   "cell_type": "code",
   "execution_count": 87,
   "metadata": {},
   "outputs": [],
   "source": [
    "bins = [0,200000,400000,600000,800000,1000000,1200000,1400000,1600000,1800000,2000000,2200000,2400000,2600000]\n",
    "names = ['<= 200000','<= 400000','<= 600000','<= 800000','<= 1000000','<= 1200000','<= 1400000','<= 1600000','<= 1800000','<= 2000000','<= 2200000','<= 2400000','<= 2600000']\n",
    "\n",
    "tornado2['Damage_Bucket'] = pd.cut(tornado2.DAMAGE_PROPERTY, bins, labels=names)"
   ]
  },
  {
   "cell_type": "code",
   "execution_count": 88,
   "metadata": {},
   "outputs": [],
   "source": [
    "bins = [0,200000,400000,600000,800000,1000000,1200000,1400000,1600000,1800000,2000000,2200000,2400000,2600000]\n",
    "names = [1,2,3,4,5,6,7,8,9,10,11,12,13]\n",
    "\n",
    "tornado2['Damage_Bucket_id'] = pd.cut(tornado2.DAMAGE_PROPERTY, bins, labels=names)"
   ]
  },
  {
   "cell_type": "code",
   "execution_count": 89,
   "metadata": {},
   "outputs": [
    {
     "name": "stdout",
     "output_type": "stream",
     "text": [
      "count     67\n",
      "unique    12\n",
      "top        2\n",
      "freq      17\n",
      "Name: Damage_Bucket_id, dtype: int64\n"
     ]
    }
   ],
   "source": [
    "print(tornado2.Damage_Bucket_id.describe())"
   ]
  },
  {
   "cell_type": "code",
   "execution_count": 90,
   "metadata": {},
   "outputs": [
    {
     "data": {
      "image/png": "[encoded data removed]",
      "text/plain": [
       "<Figure size 432x288 with 1 Axes>"
      ]
     },
     "metadata": {
      "needs_background": "light"
     },
     "output_type": "display_data"
    }
   ],
   "source": [
    "hist = thinkstats2.Hist(t_df2.TOR_F_SCALE, label='Fujita Scale')\n",
    "thinkplot.Hist(hist)\n",
    "thinkplot.Config(xlabel='Fujita Scale', ylabel='Count')"
   ]
  },
  {
   "cell_type": "code",
   "execution_count": 91,
   "metadata": {},
   "outputs": [
    {
     "data": {
      "text/plain": [
       "count     68456\n",
       "unique        6\n",
       "top         EF0\n",
       "freq      30087\n",
       "Name: TOR_F_SCALE, dtype: object"
      ]
     },
     "execution_count": 91,
     "metadata": {},
     "output_type": "execute_result"
    }
   ],
   "source": [
    "t_df2.TOR_F_SCALE.describe()"
   ]
  },
  {
   "cell_type": "code",
   "execution_count": 92,
   "metadata": {},
   "outputs": [
    {
     "data": {
      "text/plain": [
       "count     67.00\n",
       "mean     424.93\n",
       "std      311.62\n",
       "min       13.00\n",
       "25%      156.00\n",
       "50%      343.00\n",
       "75%      709.50\n",
       "max     1271.00\n",
       "Name: EF0, dtype: float64"
      ]
     },
     "execution_count": 92,
     "metadata": {},
     "output_type": "execute_result"
    },
    {
     "data": {
      "image/png": "[encoded data removed]",
      "text/plain": [
       "<Figure size 432x288 with 1 Axes>"
      ]
     },
     "metadata": {
      "needs_background": "light"
     },
     "output_type": "display_data"
    }
   ],
   "source": [
    "tornado2.EF0.plot.hist(grid=True, bins=20, rwidth=0.9,color='#607c8e')\n",
    "plt.title('EF0 – Light Damage (40 – 72 mph)')\n",
    "plt.xlabel('EF0')\n",
    "plt.ylabel('Counts')\n",
    "plt.grid(axis='y', alpha=0.75)\n",
    "tornado2.EF0.describe()"
   ]
  },
  {
   "cell_type": "code",
   "execution_count": 93,
   "metadata": {},
   "outputs": [
    {
     "data": {
      "text/plain": [
       "count    67.00\n",
       "mean    320.37\n",
       "std     118.63\n",
       "min      84.00\n",
       "25%     240.50\n",
       "50%     324.00\n",
       "75%     386.00\n",
       "max     682.00\n",
       "Name: EF1, dtype: float64"
      ]
     },
     "execution_count": 93,
     "metadata": {},
     "output_type": "execute_result"
    },
    {
     "data": {
      "image/png": "[encoded data removed]",
      "text/plain": [
       "<Figure size 432x288 with 1 Axes>"
      ]
     },
     "metadata": {
      "needs_background": "light"
     },
     "output_type": "display_data"
    }
   ],
   "source": [
    "tornado2.EF1.plot.hist(grid=True, bins=20, rwidth=0.9,color='#607c8e')\n",
    "plt.title('EF1 – Moderate Damage (73 – 112 mph)')\n",
    "plt.xlabel('EF1')\n",
    "plt.ylabel('Counts')\n",
    "plt.grid(axis='y', alpha=0.75)\n",
    "tornado2.EF1.describe()"
   ]
  },
  {
   "cell_type": "code",
   "execution_count": 94,
   "metadata": {},
   "outputs": [
    {
     "data": {
      "text/plain": [
       "count    67.00\n",
       "mean    151.00\n",
       "std      58.27\n",
       "min      54.00\n",
       "25%     101.50\n",
       "50%     151.00\n",
       "75%     180.50\n",
       "max     342.00\n",
       "Name: EF2, dtype: float64"
      ]
     },
     "execution_count": 94,
     "metadata": {},
     "output_type": "execute_result"
    },
    {
     "data": {
      "image/png": "[encoded data removed]",
      "text/plain": [
       "<Figure size 432x288 with 1 Axes>"
      ]
     },
     "metadata": {
      "needs_background": "light"
     },
     "output_type": "display_data"
    }
   ],
   "source": [
    "tornado2.EF2.plot.hist(grid=True, bins=20, rwidth=0.9,color='#607c8e')\n",
    "plt.title('EF2 – Significant damage (113 – 157 mph)')\n",
    "plt.xlabel('EF2')\n",
    "plt.ylabel('Counts')\n",
    "plt.grid(axis='y', alpha=0.75)\n",
    "tornado2.EF2.describe()"
   ]
  },
  {
   "cell_type": "code",
   "execution_count": 95,
   "metadata": {},
   "outputs": [
    {
     "data": {
      "text/plain": [
       "count    67.00\n",
       "mean     46.46\n",
       "std      22.17\n",
       "min      11.00\n",
       "25%      28.50\n",
       "50%      41.00\n",
       "75%      60.50\n",
       "max     104.00\n",
       "Name: EF3, dtype: float64"
      ]
     },
     "execution_count": 95,
     "metadata": {},
     "output_type": "execute_result"
    },
    {
     "data": {
      "image/png": "[encoded data removed]",
      "text/plain": [
       "<Figure size 432x288 with 1 Axes>"
      ]
     },
     "metadata": {
      "needs_background": "light"
     },
     "output_type": "display_data"
    }
   ],
   "source": [
    "tornado2.EF3.plot.hist(grid=True, bins=20, rwidth=0.9,color='#607c8e')\n",
    "plt.title('EF3 – Severe Damage (158 – 206 mph)')\n",
    "plt.xlabel('EF3')\n",
    "plt.ylabel('Counts')\n",
    "plt.grid(axis='y', alpha=0.75)\n",
    "tornado2.EF3.describe()"
   ]
  },
  {
   "cell_type": "code",
   "execution_count": 96,
   "metadata": {},
   "outputs": [
    {
     "data": {
      "text/plain": [
       "count   67.00\n",
       "mean    14.63\n",
       "std     12.71\n",
       "min      0.00\n",
       "25%      6.50\n",
       "50%     11.00\n",
       "75%     18.00\n",
       "max     74.00\n",
       "Name: EF4, dtype: float64"
      ]
     },
     "execution_count": 96,
     "metadata": {},
     "output_type": "execute_result"
    },
    {
     "data": {
      "image/png": "[encoded data removed]",
      "text/plain": [
       "<Figure size 432x288 with 1 Axes>"
      ]
     },
     "metadata": {
      "needs_background": "light"
     },
     "output_type": "display_data"
    }
   ],
   "source": [
    "tornado2.EF4.plot.hist(grid=True, bins=20, rwidth=0.9,color='#607c8e')\n",
    "plt.title('EF4 – Devastating Damage (207 – 260 mph)')\n",
    "plt.xlabel('EF4')\n",
    "plt.ylabel('Counts')\n",
    "plt.grid(axis='y', alpha=0.75)\n",
    "tornado2.EF4.describe()"
   ]
  },
  {
   "cell_type": "code",
   "execution_count": 97,
   "metadata": {},
   "outputs": [
    {
     "data": {
      "text/plain": [
       "count   67.00\n",
       "mean     1.51\n",
       "std      2.57\n",
       "min      0.00\n",
       "25%      0.00\n",
       "50%      0.00\n",
       "75%      2.00\n",
       "max     11.00\n",
       "Name: EF5, dtype: float64"
      ]
     },
     "execution_count": 97,
     "metadata": {},
     "output_type": "execute_result"
    },
    {
     "data": {
      "image/png": "[encoded data removed]",
      "text/plain": [
       "<Figure size 432x288 with 1 Axes>"
      ]
     },
     "metadata": {
      "needs_background": "light"
     },
     "output_type": "display_data"
    }
   ],
   "source": [
    "tornado2.EF5.plot.hist(grid=True, bins=20, rwidth=0.9,color='#607c8e')\n",
    "plt.title('EF5 – Incredible Damage (261 – 318 mph)')\n",
    "plt.xlabel('EF5')\n",
    "plt.ylabel('Counts')\n",
    "plt.grid(axis='y', alpha=0.75)\n",
    "tornado2.EF5.describe()"
   ]
  },
  {
   "cell_type": "code",
   "execution_count": 98,
   "metadata": {},
   "outputs": [
    {
     "data": {
      "text/plain": [
       "count   67.00\n",
       "mean     3.39\n",
       "std      1.11\n",
       "min      1.99\n",
       "25%      2.71\n",
       "50%      3.06\n",
       "75%      3.86\n",
       "max      7.82\n",
       "Name: TOR_LENGTH, dtype: float64"
      ]
     },
     "execution_count": 98,
     "metadata": {},
     "output_type": "execute_result"
    },
    {
     "data": {
      "image/png": "[encoded data removed]",
      "text/plain": [
       "<Figure size 432x288 with 1 Axes>"
      ]
     },
     "metadata": {
      "needs_background": "light"
     },
     "output_type": "display_data"
    }
   ],
   "source": [
    "tornado2.TOR_LENGTH.plot.hist(grid=True, bins=20, rwidth=0.9,color='#607c8e')\n",
    "plt.title('Tornado Length')\n",
    "plt.xlabel('Length (miles)')\n",
    "plt.ylabel('Counts')\n",
    "plt.grid(axis='y', alpha=0.75)\n",
    "tornado2.TOR_LENGTH.describe()"
   ]
  },
  {
   "cell_type": "code",
   "execution_count": 99,
   "metadata": {},
   "outputs": [
    {
     "data": {
      "text/plain": [
       "count    67.00\n",
       "mean    114.37\n",
       "std      34.99\n",
       "min      69.52\n",
       "25%      90.39\n",
       "50%     104.18\n",
       "75%     130.16\n",
       "max     217.94\n",
       "Name: TOR_WIDTH, dtype: float64"
      ]
     },
     "execution_count": 99,
     "metadata": {},
     "output_type": "execute_result"
    },
    {
     "data": {
      "image/png": "[encoded data removed]",
      "text/plain": [
       "<Figure size 432x288 with 1 Axes>"
      ]
     },
     "metadata": {
      "needs_background": "light"
     },
     "output_type": "display_data"
    }
   ],
   "source": [
    "tornado2.TOR_WIDTH.plot.hist(grid=True, bins=20, rwidth=0.9,color='#607c8e')\n",
    "plt.title('Avg Tornado Width')\n",
    "plt.xlabel('Width (feet)')\n",
    "plt.ylabel('Counts')\n",
    "plt.grid(axis='y', alpha=0.75)\n",
    "tornado2.TOR_WIDTH.describe()"
   ]
  },
  {
   "cell_type": "code",
   "execution_count": 100,
   "metadata": {},
   "outputs": [],
   "source": [
    "DAMAGE_PROPERTY_2  = tornado2.DAMAGE_PROPERTY**2"
   ]
  },
  {
   "cell_type": "code",
   "execution_count": 101,
   "metadata": {},
   "outputs": [
    {
     "data": {
      "image/png": "[encoded data removed]",
      "text/plain": [
       "<Figure size 432x288 with 1 Axes>"
      ]
     },
     "metadata": {
      "needs_background": "light"
     },
     "output_type": "display_data"
    }
   ],
   "source": [
    "DAMAGE_PROPERTY_2.plot.hist(grid=True, bins=20, rwidth=0.9,color='#607c8e')\n",
    "plt.title('Damaged Property')\n",
    "plt.xlabel('Damaged Property')\n",
    "plt.ylabel('Counts')\n",
    "plt.grid(axis='y', alpha=0.75)\n"
   ]
  },
  {
   "cell_type": "code",
   "execution_count": 102,
   "metadata": {},
   "outputs": [
    {
     "data": {
      "image/png": "[encoded data removed]",
      "text/plain": [
       "<Figure size 432x288 with 1 Axes>"
      ]
     },
     "metadata": {
      "needs_background": "light"
     },
     "output_type": "display_data"
    }
   ],
   "source": [
    "\n",
    "thinkplot.Scatter(tornado2.YEAR, tornado2.DAMAGE_PROPERTY, alpha=1)\n",
    "thinkplot.Config(xlabel='Year',\n",
    "                 ylabel='Avg Damaged Property per year',\n",
    "                 legend=False)"
   ]
  },
  {
   "cell_type": "code",
   "execution_count": 103,
   "metadata": {},
   "outputs": [
    {
     "data": {
      "image/png": "[encoded data removed]",
      "text/plain": [
       "<Figure size 432x288 with 1 Axes>"
      ]
     },
     "metadata": {
      "needs_background": "light"
     },
     "output_type": "display_data"
    }
   ],
   "source": [
    "tornado2.EF5.plot.hist(grid=True, bins=20, rwidth=0.9,color='#607c8e')\n",
    "plt.title('EF5 – Incredible Damage (261 – 318 mph)')\n",
    "plt.xlabel('EF5')\n",
    "plt.ylabel('Counts')\n",
    "plt.grid(axis='y', alpha=0.75)"
   ]
  },
  {
   "cell_type": "code",
   "execution_count": 104,
   "metadata": {},
   "outputs": [
    {
     "data": {
      "text/plain": [
       "YEAR               0.02\n",
       "DAMAGE_PROPERTY    0.96\n",
       "EF0                0.55\n",
       "EF1                0.47\n",
       "EF2                0.80\n",
       "EF3                0.83\n",
       "EF4                2.06\n",
       "EF5                1.92\n",
       "TOR_LENGTH         1.56\n",
       "TOR_WIDTH          1.08\n",
       "Damage_Bucket_id   0.96\n",
       "dtype: float64"
      ]
     },
     "execution_count": 104,
     "metadata": {},
     "output_type": "execute_result"
    }
   ],
   "source": [
    "tornado2.skew()"
   ]
  },
  {
   "cell_type": "code",
   "execution_count": 105,
   "metadata": {},
   "outputs": [
    {
     "data": {
      "text/plain": [
       "YEAR               -1.17\n",
       "DAMAGE_PROPERTY     0.09\n",
       "EF0                -0.75\n",
       "EF1                 0.64\n",
       "EF2                 0.63\n",
       "EF3                 0.16\n",
       "EF4                 6.30\n",
       "EF5                 3.03\n",
       "TOR_LENGTH          3.07\n",
       "TOR_WIDTH           0.61\n",
       "Damage_Bucket_id    0.07\n",
       "dtype: float64"
      ]
     },
     "execution_count": 105,
     "metadata": {},
     "output_type": "execute_result"
    }
   ],
   "source": [
    "tornado2.kurtosis()"
   ]
  },
  {
   "cell_type": "markdown",
   "metadata": {},
   "source": [
    "EF4 still has some skewness but the kurtosis is below 10, so we will proceed for now. "
   ]
  },
  {
   "cell_type": "code",
   "execution_count": 106,
   "metadata": {},
   "outputs": [
    {
     "data": {
      "text/html": [
       "<div>\n",
       "<style scoped>\n",
       "    .dataframe tbody tr th:only-of-type {\n",
       "        vertical-align: middle;\n",
       "    }\n",
       "\n",
       "    .dataframe tbody tr th {\n",
       "        vertical-align: top;\n",
       "    }\n",
       "\n",
       "    .dataframe thead th {\n",
       "        text-align: right;\n",
       "    }\n",
       "</style>\n",
       "<table border=\"1\" class=\"dataframe\">\n",
       "  <thead>\n",
       "    <tr style=\"text-align: right;\">\n",
       "      <th></th>\n",
       "      <th>YEAR</th>\n",
       "      <th>DAMAGE_PROPERTY</th>\n",
       "      <th>EF0</th>\n",
       "      <th>EF1</th>\n",
       "      <th>EF2</th>\n",
       "      <th>EF3</th>\n",
       "      <th>EF4</th>\n",
       "      <th>EF5</th>\n",
       "      <th>TOR_LENGTH</th>\n",
       "      <th>TOR_WIDTH</th>\n",
       "    </tr>\n",
       "  </thead>\n",
       "  <tbody>\n",
       "    <tr>\n",
       "      <td>count</td>\n",
       "      <td>67.00</td>\n",
       "      <td>67.00</td>\n",
       "      <td>67.00</td>\n",
       "      <td>67.00</td>\n",
       "      <td>67.00</td>\n",
       "      <td>67.00</td>\n",
       "      <td>67.00</td>\n",
       "      <td>67.00</td>\n",
       "      <td>67.00</td>\n",
       "      <td>67.00</td>\n",
       "    </tr>\n",
       "    <tr>\n",
       "      <td>mean</td>\n",
       "      <td>1983.84</td>\n",
       "      <td>740082.16</td>\n",
       "      <td>424.93</td>\n",
       "      <td>320.37</td>\n",
       "      <td>151.00</td>\n",
       "      <td>46.46</td>\n",
       "      <td>14.63</td>\n",
       "      <td>1.51</td>\n",
       "      <td>3.39</td>\n",
       "      <td>114.37</td>\n",
       "    </tr>\n",
       "    <tr>\n",
       "      <td>std</td>\n",
       "      <td>20.20</td>\n",
       "      <td>567117.99</td>\n",
       "      <td>311.62</td>\n",
       "      <td>118.63</td>\n",
       "      <td>58.27</td>\n",
       "      <td>22.17</td>\n",
       "      <td>12.71</td>\n",
       "      <td>2.57</td>\n",
       "      <td>1.11</td>\n",
       "      <td>34.99</td>\n",
       "    </tr>\n",
       "    <tr>\n",
       "      <td>min</td>\n",
       "      <td>1950.00</td>\n",
       "      <td>99852.50</td>\n",
       "      <td>13.00</td>\n",
       "      <td>84.00</td>\n",
       "      <td>54.00</td>\n",
       "      <td>11.00</td>\n",
       "      <td>0.00</td>\n",
       "      <td>0.00</td>\n",
       "      <td>1.99</td>\n",
       "      <td>69.52</td>\n",
       "    </tr>\n",
       "    <tr>\n",
       "      <td>25%</td>\n",
       "      <td>1966.50</td>\n",
       "      <td>242397.53</td>\n",
       "      <td>156.00</td>\n",
       "      <td>240.50</td>\n",
       "      <td>101.50</td>\n",
       "      <td>28.50</td>\n",
       "      <td>6.50</td>\n",
       "      <td>0.00</td>\n",
       "      <td>2.71</td>\n",
       "      <td>90.39</td>\n",
       "    </tr>\n",
       "    <tr>\n",
       "      <td>50%</td>\n",
       "      <td>1984.00</td>\n",
       "      <td>589639.81</td>\n",
       "      <td>343.00</td>\n",
       "      <td>324.00</td>\n",
       "      <td>151.00</td>\n",
       "      <td>41.00</td>\n",
       "      <td>11.00</td>\n",
       "      <td>0.00</td>\n",
       "      <td>3.06</td>\n",
       "      <td>104.18</td>\n",
       "    </tr>\n",
       "    <tr>\n",
       "      <td>75%</td>\n",
       "      <td>2000.50</td>\n",
       "      <td>1058827.41</td>\n",
       "      <td>709.50</td>\n",
       "      <td>386.00</td>\n",
       "      <td>180.50</td>\n",
       "      <td>60.50</td>\n",
       "      <td>18.00</td>\n",
       "      <td>2.00</td>\n",
       "      <td>3.86</td>\n",
       "      <td>130.16</td>\n",
       "    </tr>\n",
       "    <tr>\n",
       "      <td>max</td>\n",
       "      <td>2019.00</td>\n",
       "      <td>2214829.58</td>\n",
       "      <td>1271.00</td>\n",
       "      <td>682.00</td>\n",
       "      <td>342.00</td>\n",
       "      <td>104.00</td>\n",
       "      <td>74.00</td>\n",
       "      <td>11.00</td>\n",
       "      <td>7.82</td>\n",
       "      <td>217.94</td>\n",
       "    </tr>\n",
       "  </tbody>\n",
       "</table>\n",
       "</div>"
      ],
      "text/plain": [
       "         YEAR  DAMAGE_PROPERTY     EF0    EF1    EF2    EF3   EF4   EF5  TOR_LENGTH  TOR_WIDTH\n",
       "count   67.00            67.00   67.00  67.00  67.00  67.00 67.00 67.00       67.00      67.00\n",
       "mean  1983.84        740082.16  424.93 320.37 151.00  46.46 14.63  1.51        3.39     114.37\n",
       "std     20.20        567117.99  311.62 118.63  58.27  22.17 12.71  2.57        1.11      34.99\n",
       "min   1950.00         99852.50   13.00  84.00  54.00  11.00  0.00  0.00        1.99      69.52\n",
       "25%   1966.50        242397.53  156.00 240.50 101.50  28.50  6.50  0.00        2.71      90.39\n",
       "50%   1984.00        589639.81  343.00 324.00 151.00  41.00 11.00  0.00        3.06     104.18\n",
       "75%   2000.50       1058827.41  709.50 386.00 180.50  60.50 18.00  2.00        3.86     130.16\n",
       "max   2019.00       2214829.58 1271.00 682.00 342.00 104.00 74.00 11.00        7.82     217.94"
      ]
     },
     "execution_count": 106,
     "metadata": {},
     "output_type": "execute_result"
    }
   ],
   "source": [
    "tornado2.describe()"
   ]
  },
  {
   "cell_type": "code",
   "execution_count": 107,
   "metadata": {},
   "outputs": [
    {
     "data": {
      "text/html": [
       "<div>\n",
       "<style scoped>\n",
       "    .dataframe tbody tr th:only-of-type {\n",
       "        vertical-align: middle;\n",
       "    }\n",
       "\n",
       "    .dataframe tbody tr th {\n",
       "        vertical-align: top;\n",
       "    }\n",
       "\n",
       "    .dataframe thead th {\n",
       "        text-align: right;\n",
       "    }\n",
       "</style>\n",
       "<table border=\"1\" class=\"dataframe\">\n",
       "  <thead>\n",
       "    <tr style=\"text-align: right;\">\n",
       "      <th></th>\n",
       "      <th>YEAR</th>\n",
       "      <th>DAMAGE_PROPERTY</th>\n",
       "      <th>EF0</th>\n",
       "      <th>EF1</th>\n",
       "      <th>EF2</th>\n",
       "      <th>EF3</th>\n",
       "      <th>EF4</th>\n",
       "      <th>EF5</th>\n",
       "      <th>TOR_LENGTH</th>\n",
       "      <th>TOR_WIDTH</th>\n",
       "      <th>Damage_Bucket</th>\n",
       "      <th>Damage_Bucket_id</th>\n",
       "    </tr>\n",
       "  </thead>\n",
       "  <tbody>\n",
       "    <tr>\n",
       "      <td>0</td>\n",
       "      <td>1950</td>\n",
       "      <td>99852.50</td>\n",
       "      <td>115.00</td>\n",
       "      <td>229.00</td>\n",
       "      <td>154.00</td>\n",
       "      <td>38.00</td>\n",
       "      <td>8.00</td>\n",
       "      <td>0.00</td>\n",
       "      <td>1.99</td>\n",
       "      <td>69.52</td>\n",
       "      <td>&lt;= 400000</td>\n",
       "      <td>2</td>\n",
       "    </tr>\n",
       "    <tr>\n",
       "      <td>1</td>\n",
       "      <td>1951</td>\n",
       "      <td>130792.14</td>\n",
       "      <td>167.00</td>\n",
       "      <td>nan</td>\n",
       "      <td>nan</td>\n",
       "      <td>nan</td>\n",
       "      <td>nan</td>\n",
       "      <td>nan</td>\n",
       "      <td>2.05</td>\n",
       "      <td>69.67</td>\n",
       "      <td>NaN</td>\n",
       "      <td>NaN</td>\n",
       "    </tr>\n",
       "    <tr>\n",
       "      <td>2</td>\n",
       "      <td>1952</td>\n",
       "      <td>138814.35</td>\n",
       "      <td>742.00</td>\n",
       "      <td>nan</td>\n",
       "      <td>nan</td>\n",
       "      <td>nan</td>\n",
       "      <td>nan</td>\n",
       "      <td>nan</td>\n",
       "      <td>2.11</td>\n",
       "      <td>73.43</td>\n",
       "      <td>NaN</td>\n",
       "      <td>NaN</td>\n",
       "    </tr>\n",
       "    <tr>\n",
       "      <td>3</td>\n",
       "      <td>1953</td>\n",
       "      <td>140895.44</td>\n",
       "      <td>nan</td>\n",
       "      <td>nan</td>\n",
       "      <td>nan</td>\n",
       "      <td>nan</td>\n",
       "      <td>nan</td>\n",
       "      <td>nan</td>\n",
       "      <td>2.15</td>\n",
       "      <td>74.62</td>\n",
       "      <td>NaN</td>\n",
       "      <td>NaN</td>\n",
       "    </tr>\n",
       "    <tr>\n",
       "      <td>4</td>\n",
       "      <td>1954</td>\n",
       "      <td>154626.23</td>\n",
       "      <td>nan</td>\n",
       "      <td>nan</td>\n",
       "      <td>nan</td>\n",
       "      <td>nan</td>\n",
       "      <td>nan</td>\n",
       "      <td>nan</td>\n",
       "      <td>2.23</td>\n",
       "      <td>74.88</td>\n",
       "      <td>NaN</td>\n",
       "      <td>NaN</td>\n",
       "    </tr>\n",
       "    <tr>\n",
       "      <td>5</td>\n",
       "      <td>1955</td>\n",
       "      <td>167911.21</td>\n",
       "      <td>nan</td>\n",
       "      <td>nan</td>\n",
       "      <td>nan</td>\n",
       "      <td>nan</td>\n",
       "      <td>nan</td>\n",
       "      <td>nan</td>\n",
       "      <td>2.25</td>\n",
       "      <td>79.01</td>\n",
       "      <td>NaN</td>\n",
       "      <td>NaN</td>\n",
       "    </tr>\n",
       "    <tr>\n",
       "      <td>6</td>\n",
       "      <td>1956</td>\n",
       "      <td>174268.05</td>\n",
       "      <td>nan</td>\n",
       "      <td>nan</td>\n",
       "      <td>nan</td>\n",
       "      <td>nan</td>\n",
       "      <td>nan</td>\n",
       "      <td>nan</td>\n",
       "      <td>2.31</td>\n",
       "      <td>79.15</td>\n",
       "      <td>NaN</td>\n",
       "      <td>NaN</td>\n",
       "    </tr>\n",
       "    <tr>\n",
       "      <td>7</td>\n",
       "      <td>1957</td>\n",
       "      <td>176938.30</td>\n",
       "      <td>nan</td>\n",
       "      <td>nan</td>\n",
       "      <td>nan</td>\n",
       "      <td>nan</td>\n",
       "      <td>nan</td>\n",
       "      <td>nan</td>\n",
       "      <td>2.35</td>\n",
       "      <td>79.56</td>\n",
       "      <td>NaN</td>\n",
       "      <td>NaN</td>\n",
       "    </tr>\n",
       "    <tr>\n",
       "      <td>8</td>\n",
       "      <td>1958</td>\n",
       "      <td>183293.40</td>\n",
       "      <td>nan</td>\n",
       "      <td>nan</td>\n",
       "      <td>nan</td>\n",
       "      <td>nan</td>\n",
       "      <td>nan</td>\n",
       "      <td>nan</td>\n",
       "      <td>2.36</td>\n",
       "      <td>80.24</td>\n",
       "      <td>NaN</td>\n",
       "      <td>NaN</td>\n",
       "    </tr>\n",
       "    <tr>\n",
       "      <td>9</td>\n",
       "      <td>1959</td>\n",
       "      <td>195208.96</td>\n",
       "      <td>nan</td>\n",
       "      <td>nan</td>\n",
       "      <td>nan</td>\n",
       "      <td>nan</td>\n",
       "      <td>nan</td>\n",
       "      <td>nan</td>\n",
       "      <td>2.37</td>\n",
       "      <td>81.74</td>\n",
       "      <td>NaN</td>\n",
       "      <td>NaN</td>\n",
       "    </tr>\n",
       "    <tr>\n",
       "      <td>10</td>\n",
       "      <td>1960</td>\n",
       "      <td>206194.62</td>\n",
       "      <td>nan</td>\n",
       "      <td>nan</td>\n",
       "      <td>nan</td>\n",
       "      <td>nan</td>\n",
       "      <td>nan</td>\n",
       "      <td>nan</td>\n",
       "      <td>2.44</td>\n",
       "      <td>83.84</td>\n",
       "      <td>NaN</td>\n",
       "      <td>NaN</td>\n",
       "    </tr>\n",
       "    <tr>\n",
       "      <td>11</td>\n",
       "      <td>1961</td>\n",
       "      <td>209886.34</td>\n",
       "      <td>nan</td>\n",
       "      <td>nan</td>\n",
       "      <td>nan</td>\n",
       "      <td>nan</td>\n",
       "      <td>nan</td>\n",
       "      <td>nan</td>\n",
       "      <td>2.49</td>\n",
       "      <td>84.44</td>\n",
       "      <td>NaN</td>\n",
       "      <td>NaN</td>\n",
       "    </tr>\n",
       "    <tr>\n",
       "      <td>12</td>\n",
       "      <td>1962</td>\n",
       "      <td>212162.19</td>\n",
       "      <td>nan</td>\n",
       "      <td>nan</td>\n",
       "      <td>nan</td>\n",
       "      <td>nan</td>\n",
       "      <td>nan</td>\n",
       "      <td>nan</td>\n",
       "      <td>2.50</td>\n",
       "      <td>84.49</td>\n",
       "      <td>NaN</td>\n",
       "      <td>NaN</td>\n",
       "    </tr>\n",
       "    <tr>\n",
       "      <td>13</td>\n",
       "      <td>1963</td>\n",
       "      <td>218408.97</td>\n",
       "      <td>nan</td>\n",
       "      <td>nan</td>\n",
       "      <td>nan</td>\n",
       "      <td>nan</td>\n",
       "      <td>nan</td>\n",
       "      <td>nan</td>\n",
       "      <td>2.51</td>\n",
       "      <td>86.23</td>\n",
       "      <td>NaN</td>\n",
       "      <td>NaN</td>\n",
       "    </tr>\n",
       "    <tr>\n",
       "      <td>14</td>\n",
       "      <td>1964</td>\n",
       "      <td>232368.82</td>\n",
       "      <td>nan</td>\n",
       "      <td>nan</td>\n",
       "      <td>nan</td>\n",
       "      <td>nan</td>\n",
       "      <td>nan</td>\n",
       "      <td>nan</td>\n",
       "      <td>2.54</td>\n",
       "      <td>87.55</td>\n",
       "      <td>NaN</td>\n",
       "      <td>NaN</td>\n",
       "    </tr>\n",
       "    <tr>\n",
       "      <td>15</td>\n",
       "      <td>1965</td>\n",
       "      <td>240819.02</td>\n",
       "      <td>nan</td>\n",
       "      <td>nan</td>\n",
       "      <td>nan</td>\n",
       "      <td>nan</td>\n",
       "      <td>nan</td>\n",
       "      <td>nan</td>\n",
       "      <td>2.55</td>\n",
       "      <td>88.15</td>\n",
       "      <td>NaN</td>\n",
       "      <td>NaN</td>\n",
       "    </tr>\n",
       "    <tr>\n",
       "      <td>16</td>\n",
       "      <td>1966</td>\n",
       "      <td>241278.38</td>\n",
       "      <td>nan</td>\n",
       "      <td>nan</td>\n",
       "      <td>nan</td>\n",
       "      <td>nan</td>\n",
       "      <td>nan</td>\n",
       "      <td>nan</td>\n",
       "      <td>2.71</td>\n",
       "      <td>90.39</td>\n",
       "      <td>NaN</td>\n",
       "      <td>NaN</td>\n",
       "    </tr>\n",
       "    <tr>\n",
       "      <td>17</td>\n",
       "      <td>1967</td>\n",
       "      <td>243516.69</td>\n",
       "      <td>nan</td>\n",
       "      <td>nan</td>\n",
       "      <td>nan</td>\n",
       "      <td>nan</td>\n",
       "      <td>nan</td>\n",
       "      <td>nan</td>\n",
       "      <td>2.71</td>\n",
       "      <td>90.40</td>\n",
       "      <td>NaN</td>\n",
       "      <td>NaN</td>\n",
       "    </tr>\n",
       "    <tr>\n",
       "      <td>18</td>\n",
       "      <td>1968</td>\n",
       "      <td>257734.02</td>\n",
       "      <td>nan</td>\n",
       "      <td>nan</td>\n",
       "      <td>nan</td>\n",
       "      <td>nan</td>\n",
       "      <td>nan</td>\n",
       "      <td>nan</td>\n",
       "      <td>2.72</td>\n",
       "      <td>90.92</td>\n",
       "      <td>NaN</td>\n",
       "      <td>NaN</td>\n",
       "    </tr>\n",
       "    <tr>\n",
       "      <td>19</td>\n",
       "      <td>1969</td>\n",
       "      <td>275597.05</td>\n",
       "      <td>nan</td>\n",
       "      <td>nan</td>\n",
       "      <td>nan</td>\n",
       "      <td>nan</td>\n",
       "      <td>nan</td>\n",
       "      <td>nan</td>\n",
       "      <td>2.78</td>\n",
       "      <td>91.19</td>\n",
       "      <td>NaN</td>\n",
       "      <td>NaN</td>\n",
       "    </tr>\n",
       "    <tr>\n",
       "      <td>20</td>\n",
       "      <td>1970</td>\n",
       "      <td>293818.06</td>\n",
       "      <td>nan</td>\n",
       "      <td>nan</td>\n",
       "      <td>nan</td>\n",
       "      <td>nan</td>\n",
       "      <td>nan</td>\n",
       "      <td>nan</td>\n",
       "      <td>2.85</td>\n",
       "      <td>91.95</td>\n",
       "      <td>NaN</td>\n",
       "      <td>NaN</td>\n",
       "    </tr>\n",
       "    <tr>\n",
       "      <td>21</td>\n",
       "      <td>1971</td>\n",
       "      <td>314097.92</td>\n",
       "      <td>nan</td>\n",
       "      <td>nan</td>\n",
       "      <td>nan</td>\n",
       "      <td>nan</td>\n",
       "      <td>nan</td>\n",
       "      <td>nan</td>\n",
       "      <td>2.86</td>\n",
       "      <td>92.30</td>\n",
       "      <td>NaN</td>\n",
       "      <td>NaN</td>\n",
       "    </tr>\n",
       "    <tr>\n",
       "      <td>22</td>\n",
       "      <td>1972</td>\n",
       "      <td>329943.52</td>\n",
       "      <td>nan</td>\n",
       "      <td>nan</td>\n",
       "      <td>nan</td>\n",
       "      <td>nan</td>\n",
       "      <td>nan</td>\n",
       "      <td>nan</td>\n",
       "      <td>2.89</td>\n",
       "      <td>92.96</td>\n",
       "      <td>NaN</td>\n",
       "      <td>NaN</td>\n",
       "    </tr>\n",
       "    <tr>\n",
       "      <td>23</td>\n",
       "      <td>1973</td>\n",
       "      <td>346699.41</td>\n",
       "      <td>nan</td>\n",
       "      <td>nan</td>\n",
       "      <td>nan</td>\n",
       "      <td>nan</td>\n",
       "      <td>nan</td>\n",
       "      <td>nan</td>\n",
       "      <td>2.90</td>\n",
       "      <td>93.09</td>\n",
       "      <td>NaN</td>\n",
       "      <td>NaN</td>\n",
       "    </tr>\n",
       "    <tr>\n",
       "      <td>24</td>\n",
       "      <td>1975</td>\n",
       "      <td>362420.87</td>\n",
       "      <td>nan</td>\n",
       "      <td>nan</td>\n",
       "      <td>nan</td>\n",
       "      <td>nan</td>\n",
       "      <td>nan</td>\n",
       "      <td>nan</td>\n",
       "      <td>2.91</td>\n",
       "      <td>93.24</td>\n",
       "      <td>NaN</td>\n",
       "      <td>NaN</td>\n",
       "    </tr>\n",
       "    <tr>\n",
       "      <td>25</td>\n",
       "      <td>1976</td>\n",
       "      <td>370959.03</td>\n",
       "      <td>nan</td>\n",
       "      <td>nan</td>\n",
       "      <td>nan</td>\n",
       "      <td>nan</td>\n",
       "      <td>nan</td>\n",
       "      <td>nan</td>\n",
       "      <td>2.91</td>\n",
       "      <td>93.97</td>\n",
       "      <td>NaN</td>\n",
       "      <td>NaN</td>\n",
       "    </tr>\n",
       "    <tr>\n",
       "      <td>26</td>\n",
       "      <td>1977</td>\n",
       "      <td>384804.01</td>\n",
       "      <td>nan</td>\n",
       "      <td>nan</td>\n",
       "      <td>nan</td>\n",
       "      <td>nan</td>\n",
       "      <td>nan</td>\n",
       "      <td>nan</td>\n",
       "      <td>2.92</td>\n",
       "      <td>94.06</td>\n",
       "      <td>NaN</td>\n",
       "      <td>NaN</td>\n",
       "    </tr>\n",
       "    <tr>\n",
       "      <td>27</td>\n",
       "      <td>1978</td>\n",
       "      <td>444512.25</td>\n",
       "      <td>nan</td>\n",
       "      <td>nan</td>\n",
       "      <td>nan</td>\n",
       "      <td>nan</td>\n",
       "      <td>nan</td>\n",
       "      <td>nan</td>\n",
       "      <td>2.95</td>\n",
       "      <td>94.20</td>\n",
       "      <td>NaN</td>\n",
       "      <td>NaN</td>\n",
       "    </tr>\n",
       "    <tr>\n",
       "      <td>28</td>\n",
       "      <td>1979</td>\n",
       "      <td>466385.57</td>\n",
       "      <td>nan</td>\n",
       "      <td>nan</td>\n",
       "      <td>nan</td>\n",
       "      <td>nan</td>\n",
       "      <td>nan</td>\n",
       "      <td>nan</td>\n",
       "      <td>2.97</td>\n",
       "      <td>94.83</td>\n",
       "      <td>NaN</td>\n",
       "      <td>NaN</td>\n",
       "    </tr>\n",
       "    <tr>\n",
       "      <td>29</td>\n",
       "      <td>1980</td>\n",
       "      <td>536203.12</td>\n",
       "      <td>nan</td>\n",
       "      <td>nan</td>\n",
       "      <td>nan</td>\n",
       "      <td>nan</td>\n",
       "      <td>nan</td>\n",
       "      <td>nan</td>\n",
       "      <td>3.00</td>\n",
       "      <td>97.34</td>\n",
       "      <td>NaN</td>\n",
       "      <td>NaN</td>\n",
       "    </tr>\n",
       "    <tr>\n",
       "      <td>30</td>\n",
       "      <td>1981</td>\n",
       "      <td>556035.63</td>\n",
       "      <td>nan</td>\n",
       "      <td>nan</td>\n",
       "      <td>nan</td>\n",
       "      <td>nan</td>\n",
       "      <td>nan</td>\n",
       "      <td>nan</td>\n",
       "      <td>3.00</td>\n",
       "      <td>98.88</td>\n",
       "      <td>NaN</td>\n",
       "      <td>NaN</td>\n",
       "    </tr>\n",
       "    <tr>\n",
       "      <td>31</td>\n",
       "      <td>1982</td>\n",
       "      <td>567949.92</td>\n",
       "      <td>nan</td>\n",
       "      <td>nan</td>\n",
       "      <td>nan</td>\n",
       "      <td>nan</td>\n",
       "      <td>nan</td>\n",
       "      <td>nan</td>\n",
       "      <td>3.01</td>\n",
       "      <td>100.66</td>\n",
       "      <td>NaN</td>\n",
       "      <td>NaN</td>\n",
       "    </tr>\n",
       "    <tr>\n",
       "      <td>32</td>\n",
       "      <td>1983</td>\n",
       "      <td>586817.19</td>\n",
       "      <td>nan</td>\n",
       "      <td>nan</td>\n",
       "      <td>nan</td>\n",
       "      <td>nan</td>\n",
       "      <td>nan</td>\n",
       "      <td>nan</td>\n",
       "      <td>3.05</td>\n",
       "      <td>103.29</td>\n",
       "      <td>NaN</td>\n",
       "      <td>NaN</td>\n",
       "    </tr>\n",
       "    <tr>\n",
       "      <td>33</td>\n",
       "      <td>1984</td>\n",
       "      <td>589639.81</td>\n",
       "      <td>nan</td>\n",
       "      <td>nan</td>\n",
       "      <td>nan</td>\n",
       "      <td>nan</td>\n",
       "      <td>nan</td>\n",
       "      <td>nan</td>\n",
       "      <td>3.06</td>\n",
       "      <td>104.18</td>\n",
       "      <td>NaN</td>\n",
       "      <td>NaN</td>\n",
       "    </tr>\n",
       "    <tr>\n",
       "      <td>34</td>\n",
       "      <td>1985</td>\n",
       "      <td>597328.39</td>\n",
       "      <td>nan</td>\n",
       "      <td>nan</td>\n",
       "      <td>nan</td>\n",
       "      <td>nan</td>\n",
       "      <td>nan</td>\n",
       "      <td>nan</td>\n",
       "      <td>3.10</td>\n",
       "      <td>105.54</td>\n",
       "      <td>NaN</td>\n",
       "      <td>NaN</td>\n",
       "    </tr>\n",
       "    <tr>\n",
       "      <td>35</td>\n",
       "      <td>1986</td>\n",
       "      <td>619266.31</td>\n",
       "      <td>nan</td>\n",
       "      <td>nan</td>\n",
       "      <td>nan</td>\n",
       "      <td>nan</td>\n",
       "      <td>nan</td>\n",
       "      <td>nan</td>\n",
       "      <td>3.12</td>\n",
       "      <td>107.17</td>\n",
       "      <td>NaN</td>\n",
       "      <td>NaN</td>\n",
       "    </tr>\n",
       "    <tr>\n",
       "      <td>36</td>\n",
       "      <td>1987</td>\n",
       "      <td>704077.90</td>\n",
       "      <td>nan</td>\n",
       "      <td>nan</td>\n",
       "      <td>nan</td>\n",
       "      <td>nan</td>\n",
       "      <td>nan</td>\n",
       "      <td>nan</td>\n",
       "      <td>3.17</td>\n",
       "      <td>108.29</td>\n",
       "      <td>NaN</td>\n",
       "      <td>NaN</td>\n",
       "    </tr>\n",
       "    <tr>\n",
       "      <td>37</td>\n",
       "      <td>1988</td>\n",
       "      <td>734583.26</td>\n",
       "      <td>nan</td>\n",
       "      <td>nan</td>\n",
       "      <td>nan</td>\n",
       "      <td>nan</td>\n",
       "      <td>nan</td>\n",
       "      <td>nan</td>\n",
       "      <td>3.18</td>\n",
       "      <td>109.77</td>\n",
       "      <td>NaN</td>\n",
       "      <td>NaN</td>\n",
       "    </tr>\n",
       "    <tr>\n",
       "      <td>38</td>\n",
       "      <td>1989</td>\n",
       "      <td>769704.11</td>\n",
       "      <td>nan</td>\n",
       "      <td>nan</td>\n",
       "      <td>nan</td>\n",
       "      <td>nan</td>\n",
       "      <td>nan</td>\n",
       "      <td>nan</td>\n",
       "      <td>3.19</td>\n",
       "      <td>111.77</td>\n",
       "      <td>NaN</td>\n",
       "      <td>NaN</td>\n",
       "    </tr>\n",
       "    <tr>\n",
       "      <td>39</td>\n",
       "      <td>1990</td>\n",
       "      <td>770436.73</td>\n",
       "      <td>nan</td>\n",
       "      <td>nan</td>\n",
       "      <td>nan</td>\n",
       "      <td>nan</td>\n",
       "      <td>nan</td>\n",
       "      <td>nan</td>\n",
       "      <td>3.22</td>\n",
       "      <td>111.81</td>\n",
       "      <td>NaN</td>\n",
       "      <td>NaN</td>\n",
       "    </tr>\n",
       "    <tr>\n",
       "      <td>40</td>\n",
       "      <td>1991</td>\n",
       "      <td>786252.04</td>\n",
       "      <td>nan</td>\n",
       "      <td>nan</td>\n",
       "      <td>nan</td>\n",
       "      <td>nan</td>\n",
       "      <td>nan</td>\n",
       "      <td>nan</td>\n",
       "      <td>3.26</td>\n",
       "      <td>113.93</td>\n",
       "      <td>NaN</td>\n",
       "      <td>NaN</td>\n",
       "    </tr>\n",
       "    <tr>\n",
       "      <td>41</td>\n",
       "      <td>1992</td>\n",
       "      <td>786517.10</td>\n",
       "      <td>nan</td>\n",
       "      <td>nan</td>\n",
       "      <td>nan</td>\n",
       "      <td>nan</td>\n",
       "      <td>nan</td>\n",
       "      <td>nan</td>\n",
       "      <td>3.28</td>\n",
       "      <td>116.44</td>\n",
       "      <td>NaN</td>\n",
       "      <td>NaN</td>\n",
       "    </tr>\n",
       "    <tr>\n",
       "      <td>42</td>\n",
       "      <td>1993</td>\n",
       "      <td>824528.19</td>\n",
       "      <td>nan</td>\n",
       "      <td>nan</td>\n",
       "      <td>nan</td>\n",
       "      <td>nan</td>\n",
       "      <td>nan</td>\n",
       "      <td>nan</td>\n",
       "      <td>3.38</td>\n",
       "      <td>118.14</td>\n",
       "      <td>NaN</td>\n",
       "      <td>NaN</td>\n",
       "    </tr>\n",
       "    <tr>\n",
       "      <td>43</td>\n",
       "      <td>1994</td>\n",
       "      <td>859380.24</td>\n",
       "      <td>nan</td>\n",
       "      <td>nan</td>\n",
       "      <td>nan</td>\n",
       "      <td>nan</td>\n",
       "      <td>nan</td>\n",
       "      <td>nan</td>\n",
       "      <td>3.43</td>\n",
       "      <td>119.61</td>\n",
       "      <td>NaN</td>\n",
       "      <td>NaN</td>\n",
       "    </tr>\n",
       "    <tr>\n",
       "      <td>44</td>\n",
       "      <td>1995</td>\n",
       "      <td>893151.40</td>\n",
       "      <td>nan</td>\n",
       "      <td>nan</td>\n",
       "      <td>nan</td>\n",
       "      <td>nan</td>\n",
       "      <td>nan</td>\n",
       "      <td>nan</td>\n",
       "      <td>3.45</td>\n",
       "      <td>122.40</td>\n",
       "      <td>NaN</td>\n",
       "      <td>NaN</td>\n",
       "    </tr>\n",
       "    <tr>\n",
       "      <td>45</td>\n",
       "      <td>1996</td>\n",
       "      <td>922757.00</td>\n",
       "      <td>nan</td>\n",
       "      <td>nan</td>\n",
       "      <td>nan</td>\n",
       "      <td>nan</td>\n",
       "      <td>nan</td>\n",
       "      <td>nan</td>\n",
       "      <td>3.45</td>\n",
       "      <td>123.81</td>\n",
       "      <td>NaN</td>\n",
       "      <td>NaN</td>\n",
       "    </tr>\n",
       "    <tr>\n",
       "      <td>46</td>\n",
       "      <td>1997</td>\n",
       "      <td>944522.95</td>\n",
       "      <td>nan</td>\n",
       "      <td>nan</td>\n",
       "      <td>nan</td>\n",
       "      <td>nan</td>\n",
       "      <td>nan</td>\n",
       "      <td>nan</td>\n",
       "      <td>3.47</td>\n",
       "      <td>123.84</td>\n",
       "      <td>NaN</td>\n",
       "      <td>NaN</td>\n",
       "    </tr>\n",
       "    <tr>\n",
       "      <td>47</td>\n",
       "      <td>1998</td>\n",
       "      <td>953887.77</td>\n",
       "      <td>nan</td>\n",
       "      <td>nan</td>\n",
       "      <td>nan</td>\n",
       "      <td>nan</td>\n",
       "      <td>nan</td>\n",
       "      <td>nan</td>\n",
       "      <td>3.52</td>\n",
       "      <td>127.70</td>\n",
       "      <td>NaN</td>\n",
       "      <td>NaN</td>\n",
       "    </tr>\n",
       "    <tr>\n",
       "      <td>48</td>\n",
       "      <td>1999</td>\n",
       "      <td>1001915.17</td>\n",
       "      <td>nan</td>\n",
       "      <td>nan</td>\n",
       "      <td>nan</td>\n",
       "      <td>nan</td>\n",
       "      <td>nan</td>\n",
       "      <td>nan</td>\n",
       "      <td>3.67</td>\n",
       "      <td>128.41</td>\n",
       "      <td>NaN</td>\n",
       "      <td>NaN</td>\n",
       "    </tr>\n",
       "    <tr>\n",
       "      <td>49</td>\n",
       "      <td>2000</td>\n",
       "      <td>1030763.88</td>\n",
       "      <td>nan</td>\n",
       "      <td>nan</td>\n",
       "      <td>nan</td>\n",
       "      <td>nan</td>\n",
       "      <td>nan</td>\n",
       "      <td>nan</td>\n",
       "      <td>3.79</td>\n",
       "      <td>129.85</td>\n",
       "      <td>NaN</td>\n",
       "      <td>NaN</td>\n",
       "    </tr>\n",
       "    <tr>\n",
       "      <td>50</td>\n",
       "      <td>2001</td>\n",
       "      <td>1086890.93</td>\n",
       "      <td>nan</td>\n",
       "      <td>nan</td>\n",
       "      <td>nan</td>\n",
       "      <td>nan</td>\n",
       "      <td>nan</td>\n",
       "      <td>nan</td>\n",
       "      <td>3.94</td>\n",
       "      <td>130.46</td>\n",
       "      <td>NaN</td>\n",
       "      <td>NaN</td>\n",
       "    </tr>\n",
       "    <tr>\n",
       "      <td>51</td>\n",
       "      <td>2002</td>\n",
       "      <td>1122355.72</td>\n",
       "      <td>nan</td>\n",
       "      <td>nan</td>\n",
       "      <td>nan</td>\n",
       "      <td>nan</td>\n",
       "      <td>nan</td>\n",
       "      <td>nan</td>\n",
       "      <td>4.05</td>\n",
       "      <td>131.57</td>\n",
       "      <td>NaN</td>\n",
       "      <td>NaN</td>\n",
       "    </tr>\n",
       "    <tr>\n",
       "      <td>52</td>\n",
       "      <td>2003</td>\n",
       "      <td>1211180.51</td>\n",
       "      <td>nan</td>\n",
       "      <td>nan</td>\n",
       "      <td>nan</td>\n",
       "      <td>nan</td>\n",
       "      <td>nan</td>\n",
       "      <td>nan</td>\n",
       "      <td>4.15</td>\n",
       "      <td>138.83</td>\n",
       "      <td>NaN</td>\n",
       "      <td>NaN</td>\n",
       "    </tr>\n",
       "    <tr>\n",
       "      <td>53</td>\n",
       "      <td>2004</td>\n",
       "      <td>1211594.92</td>\n",
       "      <td>nan</td>\n",
       "      <td>nan</td>\n",
       "      <td>nan</td>\n",
       "      <td>nan</td>\n",
       "      <td>nan</td>\n",
       "      <td>nan</td>\n",
       "      <td>4.24</td>\n",
       "      <td>142.09</td>\n",
       "      <td>NaN</td>\n",
       "      <td>NaN</td>\n",
       "    </tr>\n",
       "    <tr>\n",
       "      <td>54</td>\n",
       "      <td>2005</td>\n",
       "      <td>1218978.02</td>\n",
       "      <td>nan</td>\n",
       "      <td>nan</td>\n",
       "      <td>nan</td>\n",
       "      <td>nan</td>\n",
       "      <td>nan</td>\n",
       "      <td>nan</td>\n",
       "      <td>4.26</td>\n",
       "      <td>149.50</td>\n",
       "      <td>NaN</td>\n",
       "      <td>NaN</td>\n",
       "    </tr>\n",
       "    <tr>\n",
       "      <td>55</td>\n",
       "      <td>2006</td>\n",
       "      <td>1234626.64</td>\n",
       "      <td>nan</td>\n",
       "      <td>nan</td>\n",
       "      <td>nan</td>\n",
       "      <td>nan</td>\n",
       "      <td>nan</td>\n",
       "      <td>nan</td>\n",
       "      <td>4.41</td>\n",
       "      <td>150.42</td>\n",
       "      <td>NaN</td>\n",
       "      <td>NaN</td>\n",
       "    </tr>\n",
       "    <tr>\n",
       "      <td>56</td>\n",
       "      <td>2007</td>\n",
       "      <td>1247798.28</td>\n",
       "      <td>nan</td>\n",
       "      <td>nan</td>\n",
       "      <td>nan</td>\n",
       "      <td>nan</td>\n",
       "      <td>nan</td>\n",
       "      <td>nan</td>\n",
       "      <td>4.41</td>\n",
       "      <td>153.79</td>\n",
       "      <td>NaN</td>\n",
       "      <td>NaN</td>\n",
       "    </tr>\n",
       "    <tr>\n",
       "      <td>57</td>\n",
       "      <td>2008</td>\n",
       "      <td>1309106.88</td>\n",
       "      <td>nan</td>\n",
       "      <td>nan</td>\n",
       "      <td>nan</td>\n",
       "      <td>nan</td>\n",
       "      <td>nan</td>\n",
       "      <td>nan</td>\n",
       "      <td>4.44</td>\n",
       "      <td>165.02</td>\n",
       "      <td>NaN</td>\n",
       "      <td>NaN</td>\n",
       "    </tr>\n",
       "    <tr>\n",
       "      <td>58</td>\n",
       "      <td>2009</td>\n",
       "      <td>1454352.72</td>\n",
       "      <td>nan</td>\n",
       "      <td>nan</td>\n",
       "      <td>nan</td>\n",
       "      <td>nan</td>\n",
       "      <td>nan</td>\n",
       "      <td>nan</td>\n",
       "      <td>4.63</td>\n",
       "      <td>168.08</td>\n",
       "      <td>NaN</td>\n",
       "      <td>NaN</td>\n",
       "    </tr>\n",
       "    <tr>\n",
       "      <td>59</td>\n",
       "      <td>2010</td>\n",
       "      <td>1558314.27</td>\n",
       "      <td>nan</td>\n",
       "      <td>nan</td>\n",
       "      <td>nan</td>\n",
       "      <td>nan</td>\n",
       "      <td>nan</td>\n",
       "      <td>nan</td>\n",
       "      <td>4.86</td>\n",
       "      <td>168.78</td>\n",
       "      <td>NaN</td>\n",
       "      <td>NaN</td>\n",
       "    </tr>\n",
       "    <tr>\n",
       "      <td>60</td>\n",
       "      <td>2012</td>\n",
       "      <td>1722071.42</td>\n",
       "      <td>nan</td>\n",
       "      <td>nan</td>\n",
       "      <td>nan</td>\n",
       "      <td>nan</td>\n",
       "      <td>nan</td>\n",
       "      <td>nan</td>\n",
       "      <td>5.06</td>\n",
       "      <td>169.45</td>\n",
       "      <td>NaN</td>\n",
       "      <td>NaN</td>\n",
       "    </tr>\n",
       "    <tr>\n",
       "      <td>61</td>\n",
       "      <td>2014</td>\n",
       "      <td>1780271.73</td>\n",
       "      <td>nan</td>\n",
       "      <td>nan</td>\n",
       "      <td>nan</td>\n",
       "      <td>nan</td>\n",
       "      <td>nan</td>\n",
       "      <td>nan</td>\n",
       "      <td>5.15</td>\n",
       "      <td>173.34</td>\n",
       "      <td>NaN</td>\n",
       "      <td>NaN</td>\n",
       "    </tr>\n",
       "    <tr>\n",
       "      <td>62</td>\n",
       "      <td>2015</td>\n",
       "      <td>1882469.77</td>\n",
       "      <td>nan</td>\n",
       "      <td>nan</td>\n",
       "      <td>nan</td>\n",
       "      <td>nan</td>\n",
       "      <td>nan</td>\n",
       "      <td>nan</td>\n",
       "      <td>5.32</td>\n",
       "      <td>174.88</td>\n",
       "      <td>NaN</td>\n",
       "      <td>NaN</td>\n",
       "    </tr>\n",
       "    <tr>\n",
       "      <td>63</td>\n",
       "      <td>2016</td>\n",
       "      <td>1911021.77</td>\n",
       "      <td>nan</td>\n",
       "      <td>nan</td>\n",
       "      <td>nan</td>\n",
       "      <td>nan</td>\n",
       "      <td>nan</td>\n",
       "      <td>nan</td>\n",
       "      <td>5.74</td>\n",
       "      <td>175.39</td>\n",
       "      <td>NaN</td>\n",
       "      <td>NaN</td>\n",
       "    </tr>\n",
       "    <tr>\n",
       "      <td>64</td>\n",
       "      <td>2017</td>\n",
       "      <td>2080332.74</td>\n",
       "      <td>nan</td>\n",
       "      <td>nan</td>\n",
       "      <td>nan</td>\n",
       "      <td>nan</td>\n",
       "      <td>nan</td>\n",
       "      <td>nan</td>\n",
       "      <td>5.76</td>\n",
       "      <td>176.42</td>\n",
       "      <td>NaN</td>\n",
       "      <td>NaN</td>\n",
       "    </tr>\n",
       "    <tr>\n",
       "      <td>65</td>\n",
       "      <td>2018</td>\n",
       "      <td>2089383.72</td>\n",
       "      <td>nan</td>\n",
       "      <td>nan</td>\n",
       "      <td>nan</td>\n",
       "      <td>nan</td>\n",
       "      <td>nan</td>\n",
       "      <td>nan</td>\n",
       "      <td>6.08</td>\n",
       "      <td>214.22</td>\n",
       "      <td>NaN</td>\n",
       "      <td>NaN</td>\n",
       "    </tr>\n",
       "    <tr>\n",
       "      <td>66</td>\n",
       "      <td>2019</td>\n",
       "      <td>2214829.58</td>\n",
       "      <td>nan</td>\n",
       "      <td>nan</td>\n",
       "      <td>nan</td>\n",
       "      <td>nan</td>\n",
       "      <td>nan</td>\n",
       "      <td>nan</td>\n",
       "      <td>7.82</td>\n",
       "      <td>217.94</td>\n",
       "      <td>NaN</td>\n",
       "      <td>NaN</td>\n",
       "    </tr>\n",
       "  </tbody>\n",
       "</table>\n",
       "</div>"
      ],
      "text/plain": [
       "    YEAR  DAMAGE_PROPERTY    EF0    EF1    EF2   EF3  EF4  EF5  TOR_LENGTH  TOR_WIDTH Damage_Bucket Damage_Bucket_id\n",
       "0   1950         99852.50 115.00 229.00 154.00 38.00 8.00 0.00        1.99      69.52     <= 400000                2\n",
       "1   1951        130792.14 167.00    nan    nan   nan  nan  nan        2.05      69.67           NaN              NaN\n",
       "2   1952        138814.35 742.00    nan    nan   nan  nan  nan        2.11      73.43           NaN              NaN\n",
       "3   1953        140895.44    nan    nan    nan   nan  nan  nan        2.15      74.62           NaN              NaN\n",
       "4   1954        154626.23    nan    nan    nan   nan  nan  nan        2.23      74.88           NaN              NaN\n",
       "5   1955        167911.21    nan    nan    nan   nan  nan  nan        2.25      79.01           NaN              NaN\n",
       "6   1956        174268.05    nan    nan    nan   nan  nan  nan        2.31      79.15           NaN              NaN\n",
       "7   1957        176938.30    nan    nan    nan   nan  nan  nan        2.35      79.56           NaN              NaN\n",
       "8   1958        183293.40    nan    nan    nan   nan  nan  nan        2.36      80.24           NaN              NaN\n",
       "9   1959        195208.96    nan    nan    nan   nan  nan  nan        2.37      81.74           NaN              NaN\n",
       "10  1960        206194.62    nan    nan    nan   nan  nan  nan        2.44      83.84           NaN              NaN\n",
       "11  1961        209886.34    nan    nan    nan   nan  nan  nan        2.49      84.44           NaN              NaN\n",
       "12  1962        212162.19    nan    nan    nan   nan  nan  nan        2.50      84.49           NaN              NaN\n",
       "13  1963        218408.97    nan    nan    nan   nan  nan  nan        2.51      86.23           NaN              NaN\n",
       "14  1964        232368.82    nan    nan    nan   nan  nan  nan        2.54      87.55           NaN              NaN\n",
       "15  1965        240819.02    nan    nan    nan   nan  nan  nan        2.55      88.15           NaN              NaN\n",
       "16  1966        241278.38    nan    nan    nan   nan  nan  nan        2.71      90.39           NaN              NaN\n",
       "17  1967        243516.69    nan    nan    nan   nan  nan  nan        2.71      90.40           NaN              NaN\n",
       "18  1968        257734.02    nan    nan    nan   nan  nan  nan        2.72      90.92           NaN              NaN\n",
       "19  1969        275597.05    nan    nan    nan   nan  nan  nan        2.78      91.19           NaN              NaN\n",
       "20  1970        293818.06    nan    nan    nan   nan  nan  nan        2.85      91.95           NaN              NaN\n",
       "21  1971        314097.92    nan    nan    nan   nan  nan  nan        2.86      92.30           NaN              NaN\n",
       "22  1972        329943.52    nan    nan    nan   nan  nan  nan        2.89      92.96           NaN              NaN\n",
       "23  1973        346699.41    nan    nan    nan   nan  nan  nan        2.90      93.09           NaN              NaN\n",
       "24  1975        362420.87    nan    nan    nan   nan  nan  nan        2.91      93.24           NaN              NaN\n",
       "25  1976        370959.03    nan    nan    nan   nan  nan  nan        2.91      93.97           NaN              NaN\n",
       "26  1977        384804.01    nan    nan    nan   nan  nan  nan        2.92      94.06           NaN              NaN\n",
       "27  1978        444512.25    nan    nan    nan   nan  nan  nan        2.95      94.20           NaN              NaN\n",
       "28  1979        466385.57    nan    nan    nan   nan  nan  nan        2.97      94.83           NaN              NaN\n",
       "29  1980        536203.12    nan    nan    nan   nan  nan  nan        3.00      97.34           NaN              NaN\n",
       "30  1981        556035.63    nan    nan    nan   nan  nan  nan        3.00      98.88           NaN              NaN\n",
       "31  1982        567949.92    nan    nan    nan   nan  nan  nan        3.01     100.66           NaN              NaN\n",
       "32  1983        586817.19    nan    nan    nan   nan  nan  nan        3.05     103.29           NaN              NaN\n",
       "33  1984        589639.81    nan    nan    nan   nan  nan  nan        3.06     104.18           NaN              NaN\n",
       "34  1985        597328.39    nan    nan    nan   nan  nan  nan        3.10     105.54           NaN              NaN\n",
       "35  1986        619266.31    nan    nan    nan   nan  nan  nan        3.12     107.17           NaN              NaN\n",
       "36  1987        704077.90    nan    nan    nan   nan  nan  nan        3.17     108.29           NaN              NaN\n",
       "37  1988        734583.26    nan    nan    nan   nan  nan  nan        3.18     109.77           NaN              NaN\n",
       "38  1989        769704.11    nan    nan    nan   nan  nan  nan        3.19     111.77           NaN              NaN\n",
       "39  1990        770436.73    nan    nan    nan   nan  nan  nan        3.22     111.81           NaN              NaN\n",
       "40  1991        786252.04    nan    nan    nan   nan  nan  nan        3.26     113.93           NaN              NaN\n",
       "41  1992        786517.10    nan    nan    nan   nan  nan  nan        3.28     116.44           NaN              NaN\n",
       "42  1993        824528.19    nan    nan    nan   nan  nan  nan        3.38     118.14           NaN              NaN\n",
       "43  1994        859380.24    nan    nan    nan   nan  nan  nan        3.43     119.61           NaN              NaN\n",
       "44  1995        893151.40    nan    nan    nan   nan  nan  nan        3.45     122.40           NaN              NaN\n",
       "45  1996        922757.00    nan    nan    nan   nan  nan  nan        3.45     123.81           NaN              NaN\n",
       "46  1997        944522.95    nan    nan    nan   nan  nan  nan        3.47     123.84           NaN              NaN\n",
       "47  1998        953887.77    nan    nan    nan   nan  nan  nan        3.52     127.70           NaN              NaN\n",
       "48  1999       1001915.17    nan    nan    nan   nan  nan  nan        3.67     128.41           NaN              NaN\n",
       "49  2000       1030763.88    nan    nan    nan   nan  nan  nan        3.79     129.85           NaN              NaN\n",
       "50  2001       1086890.93    nan    nan    nan   nan  nan  nan        3.94     130.46           NaN              NaN\n",
       "51  2002       1122355.72    nan    nan    nan   nan  nan  nan        4.05     131.57           NaN              NaN\n",
       "52  2003       1211180.51    nan    nan    nan   nan  nan  nan        4.15     138.83           NaN              NaN\n",
       "53  2004       1211594.92    nan    nan    nan   nan  nan  nan        4.24     142.09           NaN              NaN\n",
       "54  2005       1218978.02    nan    nan    nan   nan  nan  nan        4.26     149.50           NaN              NaN\n",
       "55  2006       1234626.64    nan    nan    nan   nan  nan  nan        4.41     150.42           NaN              NaN\n",
       "56  2007       1247798.28    nan    nan    nan   nan  nan  nan        4.41     153.79           NaN              NaN\n",
       "57  2008       1309106.88    nan    nan    nan   nan  nan  nan        4.44     165.02           NaN              NaN\n",
       "58  2009       1454352.72    nan    nan    nan   nan  nan  nan        4.63     168.08           NaN              NaN\n",
       "59  2010       1558314.27    nan    nan    nan   nan  nan  nan        4.86     168.78           NaN              NaN\n",
       "60  2012       1722071.42    nan    nan    nan   nan  nan  nan        5.06     169.45           NaN              NaN\n",
       "61  2014       1780271.73    nan    nan    nan   nan  nan  nan        5.15     173.34           NaN              NaN\n",
       "62  2015       1882469.77    nan    nan    nan   nan  nan  nan        5.32     174.88           NaN              NaN\n",
       "63  2016       1911021.77    nan    nan    nan   nan  nan  nan        5.74     175.39           NaN              NaN\n",
       "64  2017       2080332.74    nan    nan    nan   nan  nan  nan        5.76     176.42           NaN              NaN\n",
       "65  2018       2089383.72    nan    nan    nan   nan  nan  nan        6.08     214.22           NaN              NaN\n",
       "66  2019       2214829.58    nan    nan    nan   nan  nan  nan        7.82     217.94           NaN              NaN"
      ]
     },
     "execution_count": 107,
     "metadata": {},
     "output_type": "execute_result"
    }
   ],
   "source": [
    "tornado2.mode()"
   ]
  },
  {
   "cell_type": "markdown",
   "metadata": {},
   "source": [
    "pmf"
   ]
  },
  {
   "cell_type": "code",
   "execution_count": 108,
   "metadata": {},
   "outputs": [
    {
     "data": {
      "image/png": "[encoded data removed]",
      "text/plain": [
       "<Figure size 432x288 with 1 Axes>"
      ]
     },
     "metadata": {
      "needs_background": "light"
     },
     "output_type": "display_data"
    }
   ],
   "source": [
    "pmf = thinkstats2.Pmf(tornado2.DAMAGE_PROPERTY, label='Damage')\n",
    "thinkplot.Pmf(pmf)\n",
    "thinkplot.Config(xlabel='Property Damage ($)', ylabel='Pmf')"
   ]
  },
  {
   "cell_type": "code",
   "execution_count": 110,
   "metadata": {},
   "outputs": [
    {
     "data": {
      "image/png": "[encoded data removed]",
      "text/plain": [
       "<Figure size 864x432 with 2 Axes>"
      ]
     },
     "metadata": {
      "needs_background": "light"
     },
     "output_type": "display_data"
    }
   ],
   "source": [
    "decade_2010_after = tornado2[tornado2.YEAR >= 2010]\n",
    "decade_2010_before = tornado2[tornado2.YEAR < 2010]\n",
    "_2010_aft_pmf_1 = thinkstats2.Pmf(decade_2010_after.DAMAGE_PROPERTY, label='After 2010')\n",
    "_2010_bef_pmf_1 = thinkstats2.Pmf(decade_2010_before.DAMAGE_PROPERTY, label='Before 2010')\n",
    "\n",
    "thinkplot.PrePlot(2, cols=2)\n",
    "thinkplot.Hist(_2010_aft_pmf_1, align='right')\n",
    "thinkplot.Hist(_2010_bef_pmf_1, align='left')\n",
    "thinkplot.Config(xlabel='Property Damage ($)', ylabel='PMF',legend = True)\n",
    "\n",
    "thinkplot.PrePlot(2)\n",
    "thinkplot.SubPlot(2)\n",
    "thinkplot.Pmfs([_2010_aft_pmf_1, _2010_bef_pmf_1])\n",
    "thinkplot.Config(xlabel='Property Damage ($)')"
   ]
  },
  {
   "cell_type": "code",
   "execution_count": 111,
   "metadata": {},
   "outputs": [
    {
     "data": {
      "image/png": "[encoded data removed]",
      "text/plain": [
       "<Figure size 432x288 with 1 Axes>"
      ]
     },
     "metadata": {
      "needs_background": "light"
     },
     "output_type": "display_data"
    }
   ],
   "source": [
    "_2010_aft_cdf_1 = thinkstats2.Cdf(decade_2010_after.DAMAGE_PROPERTY, label='After 2010')\n",
    "_2010_bef_cdf_1 = thinkstats2.Cdf(decade_2010_before.DAMAGE_PROPERTY, label='Before 2010')\n",
    "\n",
    "thinkplot.PrePlot(2)\n",
    "thinkplot.Cdfs([_2010_aft_cdf_1, _2010_bef_cdf_1])\n",
    "thinkplot.Config(xlabel='Property Damage ($)', ylabel='CDF')"
   ]
  },
  {
   "cell_type": "markdown",
   "metadata": {},
   "source": [
    "The distribution just seems off. I am going to try to bucket them to make more sense of what is actually happneing. "
   ]
  },
  {
   "cell_type": "code",
   "execution_count": 112,
   "metadata": {},
   "outputs": [
    {
     "data": {
      "image/png": "[encoded data removed]",
      "text/plain": [
       "<Figure size 432x288 with 1 Axes>"
      ]
     },
     "metadata": {
      "needs_background": "light"
     },
     "output_type": "display_data"
    }
   ],
   "source": [
    "hist = thinkstats2.Hist(tornado2.Damage_Bucket_id, label='birthwgt_lb')\n",
    "thinkplot.Hist(hist)\n",
    "thinkplot.Config(xlabel='Property Damage ($)', ylabel='Count')"
   ]
  },
  {
   "cell_type": "code",
   "execution_count": 113,
   "metadata": {},
   "outputs": [
    {
     "data": {
      "image/png": "[encoded data removed]",
      "text/plain": [
       "<Figure size 432x288 with 1 Axes>"
      ]
     },
     "metadata": {
      "needs_background": "light"
     },
     "output_type": "display_data"
    }
   ],
   "source": [
    "pmf = thinkstats2.Pmf(tornado2.Damage_Bucket_id, label='Damage')\n",
    "thinkplot.Pmf(pmf)\n",
    "thinkplot.Config(xlabel='Property Damage ($)', ylabel='Pmf')"
   ]
  },
  {
   "cell_type": "code",
   "execution_count": 114,
   "metadata": {},
   "outputs": [
    {
     "data": {
      "image/png": "[encoded data removed]",
      "text/plain": [
       "<Figure size 864x432 with 2 Axes>"
      ]
     },
     "metadata": {
      "needs_background": "light"
     },
     "output_type": "display_data"
    }
   ],
   "source": [
    "decade_2010_after = tornado2[tornado2.YEAR >= 2010]\n",
    "decade_2010_before = tornado2[tornado2.YEAR < 2010]\n",
    "_2010_aft_pmf = thinkstats2.Pmf(decade_2010_after.Damage_Bucket_id, label='After 2010')\n",
    "_2010_bef_pmf = thinkstats2.Pmf(decade_2010_before.Damage_Bucket_id, label='Before 2010')\n",
    "\n",
    "width=0.5\n",
    "axis = [0, 13, 0, 0.3]\n",
    "\n",
    "thinkplot.PrePlot(2, cols=2)\n",
    "thinkplot.Hist(_2010_aft_pmf, align='right', width=width)\n",
    "thinkplot.Hist(_2010_bef_pmf, align='left', width=width)\n",
    "thinkplot.Config(xlabel='Property Damage ($)', ylabel='PMF', axis= axis, legend = True)\n",
    "\n",
    "thinkplot.PrePlot(2)\n",
    "thinkplot.SubPlot(2)\n",
    "thinkplot.Pmfs([_2010_aft_pmf, _2010_bef_pmf])\n",
    "thinkplot.Config(xlabel='Property Damage ($)',axis= axis)"
   ]
  },
  {
   "cell_type": "code",
   "execution_count": 115,
   "metadata": {},
   "outputs": [
    {
     "data": {
      "image/png": "[encoded data removed]",
      "text/plain": [
       "<Figure size 432x288 with 1 Axes>"
      ]
     },
     "metadata": {
      "needs_background": "light"
     },
     "output_type": "display_data"
    }
   ],
   "source": [
    "bucket = range(1, 13)\n",
    "diffs = []\n",
    "for i in bucket:\n",
    "    p1 = _2010_aft_pmf.Prob(i)\n",
    "    p2 = _2010_bef_pmf.Prob(i)\n",
    "    diff = 100 * (p1 - p2)\n",
    "    diffs.append(diff)\n",
    "\n",
    "thinkplot.Bar(bucket, diffs)\n",
    "thinkplot.Config(xlabel='Property Damage ($)', ylabel='Difference (percentage points)')"
   ]
  },
  {
   "cell_type": "markdown",
   "metadata": {},
   "source": [
    "I can tell if the values are different at all. The pmf's seem fairly similar. "
   ]
  },
  {
   "cell_type": "code",
   "execution_count": 116,
   "metadata": {},
   "outputs": [
    {
     "data": {
      "image/png": "[encoded data removed]",
      "text/plain": [
       "<Figure size 432x288 with 1 Axes>"
      ]
     },
     "metadata": {
      "needs_background": "light"
     },
     "output_type": "display_data"
    }
   ],
   "source": [
    "_2010_aft_cdf = thinkstats2.Cdf(decade_2010_after.Damage_Bucket_id, label='After 2010')\n",
    "_2010_bef_cdf = thinkstats2.Cdf(decade_2010_before.Damage_Bucket_id, label='Before 2010')\n",
    "\n",
    "thinkplot.PrePlot(2)\n",
    "thinkplot.Cdfs([_2010_aft_cdf, _2010_bef_cdf])\n",
    "thinkplot.Config(xlabel='Property Damage ($)', ylabel='CDF')"
   ]
  },
  {
   "cell_type": "markdown",
   "metadata": {},
   "source": [
    "Looking at the CDF for damage property both bucketed and non bucketed it looks like they are fairly similar. They might be a little off, but the rise consistently together."
   ]
  },
  {
   "cell_type": "markdown",
   "metadata": {},
   "source": [
    "For analytic distribution, I went ahead and used DAMAGE_PROPERTY, since it appeared to be Exopnential. It appears to fit as well. The CCDF with log y scale seems to follows with a straight line. "
   ]
  },
  {
   "cell_type": "code",
   "execution_count": 117,
   "metadata": {},
   "outputs": [
    {
     "data": {
      "image/png": "[encoded data removed]",
      "text/plain": [
       "<Figure size 432x288 with 1 Axes>"
      ]
     },
     "metadata": {
      "needs_background": "light"
     },
     "output_type": "display_data"
    }
   ],
   "source": [
    "cdf = thinkstats2.Cdf(tornado2.DAMAGE_PROPERTY, label='actual')\n",
    "\n",
    "thinkplot.Cdf(cdf)\n",
    "thinkplot.Config(xlabel='Property Damage ($)', ylabel='CDF')"
   ]
  },
  {
   "cell_type": "code",
   "execution_count": 118,
   "metadata": {},
   "outputs": [
    {
     "data": {
      "image/png": "[encoded data removed]",
      "text/plain": [
       "<Figure size 432x288 with 1 Axes>"
      ]
     },
     "metadata": {
      "needs_background": "light"
     },
     "output_type": "display_data"
    }
   ],
   "source": [
    "thinkplot.Cdf(cdf, complement=True)\n",
    "thinkplot.Config(xlabel='Property Damage ($)',\n",
    "                 ylabel='CCDF', yscale='log', loc='upper right')"
   ]
  },
  {
   "cell_type": "markdown",
   "metadata": {},
   "source": [
    "For correlation and scatterplots I took year and tornado length. I looked at it the mean of length over year f as well as the raw variables to see if they are similar.  "
   ]
  },
  {
   "cell_type": "code",
   "execution_count": 119,
   "metadata": {},
   "outputs": [
    {
     "data": {
      "image/png": "[encoded data removed]",
      "text/plain": [
       "<Figure size 432x288 with 1 Axes>"
      ]
     },
     "metadata": {
      "needs_background": "light"
     },
     "output_type": "display_data"
    }
   ],
   "source": [
    "thinkplot.Scatter(tornado2.YEAR, tornado2.TOR_LENGTH, alpha=1)\n",
    "thinkplot.Config(xlabel='Year',\n",
    "                 ylabel='Avg Width (feet) per year',\n",
    "                 legend=False)"
   ]
  },
  {
   "cell_type": "code",
   "execution_count": 120,
   "metadata": {},
   "outputs": [
    {
     "data": {
      "image/png": "[encoded data removed]",
      "text/plain": [
       "<Figure size 432x288 with 1 Axes>"
      ]
     },
     "metadata": {
      "needs_background": "light"
     },
     "output_type": "display_data"
    }
   ],
   "source": [
    "thinkplot.Scatter(t_df2.YEAR, t_df2.TOR_LENGTH, alpha=.11)\n",
    "thinkplot.Config(xlabel='Year',\n",
    "                 ylabel='Width (feet)',\n",
    "                 legend=False)"
   ]
  },
  {
   "cell_type": "code",
   "execution_count": 121,
   "metadata": {
    "scrolled": false
   },
   "outputs": [
    {
     "data": {
      "image/png": "[encoded data removed]",
      "text/plain": [
       "<Figure size 432x288 with 1 Axes>"
      ]
     },
     "metadata": {
      "needs_background": "light"
     },
     "output_type": "display_data"
    }
   ],
   "source": [
    "def Jitter(values, jitter=0.5):\n",
    "    n = len(values)\n",
    "    return np.random.normal(0, jitter, n) + values\n",
    "_year = Jitter(t_df2.YEAR)\n",
    "_length = Jitter(t_df2.TOR_LENGTH)\n",
    "\n",
    "\n",
    "thinkplot.Scatter(_year, _length, alpha=.1)\n",
    "thinkplot.Config(xlabel='Year',\n",
    "                 ylabel='Width (feet)',\n",
    "                 axis= [1950,2020,0,100],\n",
    "                 legend=False)"
   ]
  },
  {
   "cell_type": "markdown",
   "metadata": {},
   "source": [
    "I zoomed in on the third graph to see what was actually happening as we made it closer. It looks like based on the averages and the the zoomed in jittered plot that the lengths may be shortening over the years. Lets check the correlation now. I run correlation for the aggregrate first then the raw next."
   ]
  },
  {
   "cell_type": "code",
   "execution_count": 122,
   "metadata": {},
   "outputs": [
    {
     "data": {
      "text/plain": [
       "array([[ 1.        , -0.70892305],\n",
       "       [-0.70892305,  1.        ]])"
      ]
     },
     "execution_count": 122,
     "metadata": {},
     "output_type": "execute_result"
    }
   ],
   "source": [
    "np.corrcoef(tornado2.YEAR, tornado2.TOR_LENGTH)"
   ]
  },
  {
   "cell_type": "code",
   "execution_count": 123,
   "metadata": {},
   "outputs": [
    {
     "data": {
      "text/plain": [
       "array([[ 1.        , -0.08890348],\n",
       "       [-0.08890348,  1.        ]])"
      ]
     },
     "execution_count": 123,
     "metadata": {},
     "output_type": "execute_result"
    }
   ],
   "source": [
    "np.corrcoef(t_df2.YEAR, t_df2.TOR_LENGTH)"
   ]
  },
  {
   "cell_type": "code",
   "execution_count": 124,
   "metadata": {},
   "outputs": [],
   "source": [
    "def SpearmanCorr(xs, ys):\n",
    "    xs = pd.Series(xs)\n",
    "    ys = pd.Series(ys)\n",
    "    return xs.corr(ys, method='spearman')"
   ]
  },
  {
   "cell_type": "code",
   "execution_count": 125,
   "metadata": {},
   "outputs": [
    {
     "data": {
      "text/plain": [
       "-0.698699018277596"
      ]
     },
     "execution_count": 125,
     "metadata": {},
     "output_type": "execute_result"
    }
   ],
   "source": [
    "SpearmanCorr(tornado2.YEAR, tornado2.TOR_LENGTH)"
   ]
  },
  {
   "cell_type": "code",
   "execution_count": 126,
   "metadata": {},
   "outputs": [
    {
     "data": {
      "text/plain": [
       "0.10193580487255906"
      ]
     },
     "execution_count": 126,
     "metadata": {},
     "output_type": "execute_result"
    }
   ],
   "source": [
    "SpearmanCorr(t_df2.YEAR, t_df2.TOR_LENGTH)"
   ]
  },
  {
   "cell_type": "code",
   "execution_count": 127,
   "metadata": {},
   "outputs": [],
   "source": [
    "def Cov(xs, ys, meanx=None, meany=None):\n",
    "    xs = np.asarray(xs)\n",
    "    ys = np.asarray(ys)\n",
    "\n",
    "    if meanx is None:\n",
    "        meanx = np.mean(xs)\n",
    "    if meany is None:\n",
    "        meany = np.mean(ys)\n",
    "\n",
    "    cov = np.dot(xs-meanx, ys-meany) / len(xs)\n",
    "    return cov\n",
    "\n",
    "def Corr(xs, ys):\n",
    "    xs = np.asarray(xs)\n",
    "    ys = np.asarray(ys)\n",
    "\n",
    "    meanx, varx = thinkstats2.MeanVar(xs)\n",
    "    meany, vary = thinkstats2.MeanVar(ys)\n",
    "\n",
    "    corr = Cov(xs, ys, meanx, meany) / np.sqrt(varx * vary)\n",
    "    return corr"
   ]
  },
  {
   "cell_type": "code",
   "execution_count": 128,
   "metadata": {},
   "outputs": [
    {
     "data": {
      "text/plain": [
       "-0.7125315901211206"
      ]
     },
     "execution_count": 128,
     "metadata": {},
     "output_type": "execute_result"
    }
   ],
   "source": [
    "Corr(tornado2.YEAR, np.log(tornado2.TOR_LENGTH))"
   ]
  },
  {
   "cell_type": "code",
   "execution_count": 129,
   "metadata": {},
   "outputs": [
    {
     "data": {
      "text/plain": [
       "-0.008008888815100956"
      ]
     },
     "execution_count": 129,
     "metadata": {},
     "output_type": "execute_result"
    }
   ],
   "source": [
    "Corr(t_df2.YEAR, np.log(t_df2.TOR_LENGTH+1))"
   ]
  },
  {
   "cell_type": "markdown",
   "metadata": {},
   "source": [
    "It seems that the correlations (pearsons, spearmen and non linear) is at ~-0.7, indicating a strong negative relationship between the varibles. Meaning that as time goes on the length of tornadoes are likely to decrease based on the sample.  \n",
    "\n",
    "After each correlation I calculate the raw data corelation. Notice how it is significantly smaller. Spearman is positive and the others are negative. "
   ]
  },
  {
   "cell_type": "markdown",
   "metadata": {},
   "source": [
    "Now we will run a test, to see if the mean property damage prior to 2010 equals the mean property damage for tornadoes after 2010. \n",
    "\n",
    "$$H_{0}: \\mu_{0} = \\mu_{1}$$\n",
    "$$H_{A}: \\mu_{0} \\neq \\mu_{1}$$"
   ]
  },
  {
   "cell_type": "code",
   "execution_count": 130,
   "metadata": {},
   "outputs": [],
   "source": [
    "class HypothesisTest(object):\n",
    "\n",
    "    def __init__(self, data):\n",
    "        self.data = data\n",
    "        self.MakeModel()\n",
    "        self.actual = self.TestStatistic(data)\n",
    "\n",
    "    def PValue(self, iters=1000):\n",
    "        self.test_stats = [self.TestStatistic(self.RunModel()) \n",
    "                           for _ in range(iters)]\n",
    "\n",
    "        count = sum(1 for x in self.test_stats if x >= self.actual)\n",
    "        return count / iters\n",
    "\n",
    "    def TestStatistic(self, data):\n",
    "        raise UnimplementedMethodException()\n",
    "\n",
    "    def MakeModel(self):\n",
    "        pass\n",
    "\n",
    "    def RunModel(self):\n",
    "        raise UnimplementedMethodException()\n",
    "        \n",
    "class DiffMeansPermute(thinkstats2.HypothesisTest):\n",
    "\n",
    "    def TestStatistic(self, data):\n",
    "        group1, group2 = data\n",
    "        test_stat = abs(group1.mean() - group2.mean())\n",
    "        return test_stat\n",
    "\n",
    "    def MakeModel(self):\n",
    "        group1, group2 = self.data\n",
    "        self.n, self.m = len(group1), len(group2)\n",
    "        self.pool = np.hstack((group1, group2))\n",
    "\n",
    "    def RunModel(self):\n",
    "        np.random.shuffle(self.pool)\n",
    "        data = self.pool[:self.n], self.pool[self.n:]\n",
    "        return data"
   ]
  },
  {
   "cell_type": "code",
   "execution_count": 131,
   "metadata": {},
   "outputs": [
    {
     "data": {
      "text/plain": [
       "1.0"
      ]
     },
     "execution_count": 131,
     "metadata": {},
     "output_type": "execute_result"
    }
   ],
   "source": [
    "data = decade_2010_after.DAMAGE_PROPERTY.values, decade_2010_after.DAMAGE_PROPERTY.values\n",
    "ht = DiffMeansPermute(data)\n",
    "pvalue = ht.PValue()\n",
    "pvalue"
   ]
  },
  {
   "cell_type": "code",
   "execution_count": 132,
   "metadata": {},
   "outputs": [
    {
     "data": {
      "image/png": "[encoded data removed]",
      "text/plain": [
       "<Figure size 432x288 with 1 Axes>"
      ]
     },
     "metadata": {
      "needs_background": "light"
     },
     "output_type": "display_data"
    }
   ],
   "source": [
    "ht.PlotCdf()\n",
    "thinkplot.Config(xlabel='test statistic',\n",
    "                   ylabel='CDF')"
   ]
  },
  {
   "cell_type": "code",
   "execution_count": 133,
   "metadata": {},
   "outputs": [
    {
     "data": {
      "text/plain": [
       "0.476"
      ]
     },
     "execution_count": 133,
     "metadata": {},
     "output_type": "execute_result"
    }
   ],
   "source": [
    "class DiffMeansOneSided(DiffMeansPermute):\n",
    "\n",
    "    def TestStatistic(self, data):\n",
    "        group1, group2 = data\n",
    "        test_stat = group1.mean() - group2.mean()\n",
    "        return test_stat\n",
    "ht = DiffMeansOneSided(data)\n",
    "pvalue = ht.PValue()\n",
    "pvalue"
   ]
  },
  {
   "cell_type": "markdown",
   "metadata": {},
   "source": [
    "We can most definately reject the null hypothesis, with a p-value of 1, and one-sided p-value of .5. There is no evidence that the means equal. There might be something else going on as well, for example everything may not be documented for property damage. "
   ]
  },
  {
   "cell_type": "code",
   "execution_count": 134,
   "metadata": {},
   "outputs": [
    {
     "data": {
      "text/html": [
       "<table class=\"simpletable\">\n",
       "<caption>OLS Regression Results</caption>\n",
       "<tr>\n",
       "  <th>Dep. Variable:</th>    <td>DAMAGE_PROPERTY_t</td> <th>  R-squared:         </th>  <td>   0.045</td>  \n",
       "</tr>\n",
       "<tr>\n",
       "  <th>Model:</th>                   <td>OLS</td>        <th>  Adj. R-squared:    </th>  <td>   0.045</td>  \n",
       "</tr>\n",
       "<tr>\n",
       "  <th>Method:</th>             <td>Least Squares</td>   <th>  F-statistic:       </th>  <td>   534.2</td>  \n",
       "</tr>\n",
       "<tr>\n",
       "  <th>Date:</th>             <td>Sat, 29 Feb 2020</td>  <th>  Prob (F-statistic):</th>   <td>  0.00</td>   \n",
       "</tr>\n",
       "<tr>\n",
       "  <th>Time:</th>                 <td>22:33:04</td>      <th>  Log-Likelihood:    </th> <td>-1.2430e+06</td>\n",
       "</tr>\n",
       "<tr>\n",
       "  <th>No. Observations:</th>      <td> 68456</td>       <th>  AIC:               </th>  <td>2.486e+06</td> \n",
       "</tr>\n",
       "<tr>\n",
       "  <th>Df Residuals:</th>          <td> 68449</td>       <th>  BIC:               </th>  <td>2.486e+06</td> \n",
       "</tr>\n",
       "<tr>\n",
       "  <th>Df Model:</th>              <td>     6</td>       <th>                     </th>      <td> </td>     \n",
       "</tr>\n",
       "<tr>\n",
       "  <th>Covariance Type:</th>      <td>nonrobust</td>     <th>                     </th>      <td> </td>     \n",
       "</tr>\n",
       "</table>\n",
       "<table class=\"simpletable\">\n",
       "<tr>\n",
       "            <td></td>               <th>coef</th>     <th>std err</th>      <th>t</th>      <th>P>|t|</th>  <th>[0.025</th>    <th>0.975]</th>  \n",
       "</tr>\n",
       "<tr>\n",
       "  <th>Intercept</th>             <td>-9.378e+07</td> <td> 8.07e+06</td> <td>  -11.625</td> <td> 0.000</td> <td> -1.1e+08</td> <td> -7.8e+07</td>\n",
       "</tr>\n",
       "<tr>\n",
       "  <th>C(TOR_F_SCALE)[T.EF1]</th> <td> 5.804e+05</td> <td> 1.66e+05</td> <td>    3.505</td> <td> 0.000</td> <td> 2.56e+05</td> <td> 9.05e+05</td>\n",
       "</tr>\n",
       "<tr>\n",
       "  <th>C(TOR_F_SCALE)[T.EF2]</th> <td> 1.985e+06</td> <td> 2.19e+05</td> <td>    9.077</td> <td> 0.000</td> <td> 1.56e+06</td> <td> 2.41e+06</td>\n",
       "</tr>\n",
       "<tr>\n",
       "  <th>C(TOR_F_SCALE)[T.EF3]</th> <td>  5.97e+06</td> <td> 3.44e+05</td> <td>   17.362</td> <td> 0.000</td> <td>  5.3e+06</td> <td> 6.64e+06</td>\n",
       "</tr>\n",
       "<tr>\n",
       "  <th>C(TOR_F_SCALE)[T.EF4]</th> <td> 1.914e+07</td> <td> 5.75e+05</td> <td>   33.270</td> <td> 0.000</td> <td>  1.8e+07</td> <td> 2.03e+07</td>\n",
       "</tr>\n",
       "<tr>\n",
       "  <th>C(TOR_F_SCALE)[T.EF5]</th> <td> 6.965e+07</td> <td> 1.59e+06</td> <td>   43.809</td> <td> 0.000</td> <td> 6.65e+07</td> <td> 7.28e+07</td>\n",
       "</tr>\n",
       "<tr>\n",
       "  <th>YEAR</th>                  <td> 4.697e+04</td> <td> 4038.906</td> <td>   11.629</td> <td> 0.000</td> <td> 3.91e+04</td> <td> 5.49e+04</td>\n",
       "</tr>\n",
       "</table>\n",
       "<table class=\"simpletable\">\n",
       "<tr>\n",
       "  <th>Omnibus:</th>       <td>258435.857</td> <th>  Durbin-Watson:     </th>     <td>   1.944</td>    \n",
       "</tr>\n",
       "<tr>\n",
       "  <th>Prob(Omnibus):</th>   <td> 0.000</td>   <th>  Jarque-Bera (JB):  </th> <td>285418950166.893</td>\n",
       "</tr>\n",
       "<tr>\n",
       "  <th>Skew:</th>            <td>85.430</td>   <th>  Prob(JB):          </th>     <td>    0.00</td>    \n",
       "</tr>\n",
       "<tr>\n",
       "  <th>Kurtosis:</th>       <td>10004.794</td> <th>  Cond. No.          </th>     <td>2.26e+05</td>    \n",
       "</tr>\n",
       "</table><br/><br/>Warnings:<br/>[1] Standard Errors assume that the covariance matrix of the errors is correctly specified.<br/>[2] The condition number is large, 2.26e+05. This might indicate that there are<br/>strong multicollinearity or other numerical problems."
      ],
      "text/plain": [
       "<class 'statsmodels.iolib.summary.Summary'>\n",
       "\"\"\"\n",
       "                            OLS Regression Results                            \n",
       "==============================================================================\n",
       "Dep. Variable:      DAMAGE_PROPERTY_t   R-squared:                       0.045\n",
       "Model:                            OLS   Adj. R-squared:                  0.045\n",
       "Method:                 Least Squares   F-statistic:                     534.2\n",
       "Date:                Sat, 29 Feb 2020   Prob (F-statistic):               0.00\n",
       "Time:                        22:33:04   Log-Likelihood:            -1.2430e+06\n",
       "No. Observations:               68456   AIC:                         2.486e+06\n",
       "Df Residuals:                   68449   BIC:                         2.486e+06\n",
       "Df Model:                           6                                         \n",
       "Covariance Type:            nonrobust                                         \n",
       "=========================================================================================\n",
       "                            coef    std err          t      P>|t|      [0.025      0.975]\n",
       "-----------------------------------------------------------------------------------------\n",
       "Intercept             -9.378e+07   8.07e+06    -11.625      0.000    -1.1e+08    -7.8e+07\n",
       "C(TOR_F_SCALE)[T.EF1]  5.804e+05   1.66e+05      3.505      0.000    2.56e+05    9.05e+05\n",
       "C(TOR_F_SCALE)[T.EF2]  1.985e+06   2.19e+05      9.077      0.000    1.56e+06    2.41e+06\n",
       "C(TOR_F_SCALE)[T.EF3]   5.97e+06   3.44e+05     17.362      0.000     5.3e+06    6.64e+06\n",
       "C(TOR_F_SCALE)[T.EF4]  1.914e+07   5.75e+05     33.270      0.000     1.8e+07    2.03e+07\n",
       "C(TOR_F_SCALE)[T.EF5]  6.965e+07   1.59e+06     43.809      0.000    6.65e+07    7.28e+07\n",
       "YEAR                   4.697e+04   4038.906     11.629      0.000    3.91e+04    5.49e+04\n",
       "==============================================================================\n",
       "Omnibus:                   258435.857   Durbin-Watson:                   1.944\n",
       "Prob(Omnibus):                  0.000   Jarque-Bera (JB):     285418950166.893\n",
       "Skew:                          85.430   Prob(JB):                         0.00\n",
       "Kurtosis:                   10004.794   Cond. No.                     2.26e+05\n",
       "==============================================================================\n",
       "\n",
       "Warnings:\n",
       "[1] Standard Errors assume that the covariance matrix of the errors is correctly specified.\n",
       "[2] The condition number is large, 2.26e+05. This might indicate that there are\n",
       "strong multicollinearity or other numerical problems.\n",
       "\"\"\""
      ]
     },
     "execution_count": 134,
     "metadata": {},
     "output_type": "execute_result"
    }
   ],
   "source": [
    "import statsmodels.formula.api as smf\n",
    "model = smf.ols('DAMAGE_PROPERTY_t ~ YEAR + C(TOR_F_SCALE) ', data=t_df2)\n",
    "results = model.fit()\n",
    "results.summary()"
   ]
  },
  {
   "cell_type": "markdown",
   "metadata": {},
   "source": [
    "We have establisheed that year and damage property don't appear to have a linear relationship. I decided to run all the data through the model with the tor_f_scale as a categorical variable. The p-value for all of these are less than 0. Meaning that they are significant. The F-statistic is ~500 so we can reject the null hypothesis that there is not a relationship among these varialbes.Note the $R^2$ = .045, indicating that YEAR and TOR_F_SCALE only accounts for  4.5% variability on DAMAGE_PROPERTY. \n",
    "\n",
    "I believe there could be different ways to look at this data, maybe even look at different models and include death and injuries. I did this below, the F-statistic increased, so still no good. The $R^2$ value increased, so injuries and deaths play a role in damage to property. As of right now no conclusions can be made based off the test and models we ran. "
   ]
  },
  {
   "cell_type": "code",
   "execution_count": 135,
   "metadata": {},
   "outputs": [
    {
     "data": {
      "text/html": [
       "<table class=\"simpletable\">\n",
       "<caption>OLS Regression Results</caption>\n",
       "<tr>\n",
       "  <th>Dep. Variable:</th>    <td>DAMAGE_PROPERTY_t</td> <th>  R-squared:         </th>  <td>   0.216</td>  \n",
       "</tr>\n",
       "<tr>\n",
       "  <th>Model:</th>                   <td>OLS</td>        <th>  Adj. R-squared:    </th>  <td>   0.216</td>  \n",
       "</tr>\n",
       "<tr>\n",
       "  <th>Method:</th>             <td>Least Squares</td>   <th>  F-statistic:       </th>  <td>   2356.</td>  \n",
       "</tr>\n",
       "<tr>\n",
       "  <th>Date:</th>             <td>Sat, 29 Feb 2020</td>  <th>  Prob (F-statistic):</th>   <td>  0.00</td>   \n",
       "</tr>\n",
       "<tr>\n",
       "  <th>Time:</th>                 <td>22:33:11</td>      <th>  Log-Likelihood:    </th> <td>-1.2363e+06</td>\n",
       "</tr>\n",
       "<tr>\n",
       "  <th>No. Observations:</th>      <td> 68456</td>       <th>  AIC:               </th>  <td>2.473e+06</td> \n",
       "</tr>\n",
       "<tr>\n",
       "  <th>Df Residuals:</th>          <td> 68447</td>       <th>  BIC:               </th>  <td>2.473e+06</td> \n",
       "</tr>\n",
       "<tr>\n",
       "  <th>Df Model:</th>              <td>     8</td>       <th>                     </th>      <td> </td>     \n",
       "</tr>\n",
       "<tr>\n",
       "  <th>Covariance Type:</th>      <td>nonrobust</td>     <th>                     </th>      <td> </td>     \n",
       "</tr>\n",
       "</table>\n",
       "<table class=\"simpletable\">\n",
       "<tr>\n",
       "            <td></td>               <th>coef</th>     <th>std err</th>      <th>t</th>      <th>P>|t|</th>  <th>[0.025</th>    <th>0.975]</th>  \n",
       "</tr>\n",
       "<tr>\n",
       "  <th>Intercept</th>             <td>-9.123e+07</td> <td> 7.31e+06</td> <td>  -12.483</td> <td> 0.000</td> <td>-1.06e+08</td> <td>-7.69e+07</td>\n",
       "</tr>\n",
       "<tr>\n",
       "  <th>C(TOR_F_SCALE)[T.EF1]</th> <td> 4.566e+05</td> <td>  1.5e+05</td> <td>    3.043</td> <td> 0.002</td> <td> 1.63e+05</td> <td> 7.51e+05</td>\n",
       "</tr>\n",
       "<tr>\n",
       "  <th>C(TOR_F_SCALE)[T.EF2]</th> <td> 1.342e+06</td> <td> 1.98e+05</td> <td>    6.767</td> <td> 0.000</td> <td> 9.53e+05</td> <td> 1.73e+06</td>\n",
       "</tr>\n",
       "<tr>\n",
       "  <th>C(TOR_F_SCALE)[T.EF3]</th> <td> 2.633e+06</td> <td> 3.13e+05</td> <td>    8.413</td> <td> 0.000</td> <td> 2.02e+06</td> <td> 3.25e+06</td>\n",
       "</tr>\n",
       "<tr>\n",
       "  <th>C(TOR_F_SCALE)[T.EF4]</th> <td> 2.978e+06</td> <td> 5.38e+05</td> <td>    5.532</td> <td> 0.000</td> <td> 1.92e+06</td> <td> 4.03e+06</td>\n",
       "</tr>\n",
       "<tr>\n",
       "  <th>C(TOR_F_SCALE)[T.EF5]</th> <td> 1.201e+07</td> <td> 1.52e+06</td> <td>    7.887</td> <td> 0.000</td> <td> 9.03e+06</td> <td>  1.5e+07</td>\n",
       "</tr>\n",
       "<tr>\n",
       "  <th>YEAR</th>                  <td> 4.569e+04</td> <td> 3659.281</td> <td>   12.485</td> <td> 0.000</td> <td> 3.85e+04</td> <td> 5.29e+04</td>\n",
       "</tr>\n",
       "<tr>\n",
       "  <th>INJURIES_DIRECT</th>       <td> 2.878e+05</td> <td> 5966.469</td> <td>   48.238</td> <td> 0.000</td> <td> 2.76e+05</td> <td>    3e+05</td>\n",
       "</tr>\n",
       "<tr>\n",
       "  <th>DEATHS_DIRECT</th>         <td> 3.323e+06</td> <td> 7.34e+04</td> <td>   45.284</td> <td> 0.000</td> <td> 3.18e+06</td> <td> 3.47e+06</td>\n",
       "</tr>\n",
       "</table>\n",
       "<table class=\"simpletable\">\n",
       "<tr>\n",
       "  <th>Omnibus:</th>       <td>233278.052</td> <th>  Durbin-Watson:     </th>     <td>   1.939</td>    \n",
       "</tr>\n",
       "<tr>\n",
       "  <th>Prob(Omnibus):</th>   <td> 0.000</td>   <th>  Jarque-Bera (JB):  </th> <td>114310609521.752</td>\n",
       "</tr>\n",
       "<tr>\n",
       "  <th>Skew:</th>            <td>62.698</td>   <th>  Prob(JB):          </th>     <td>    0.00</td>    \n",
       "</tr>\n",
       "<tr>\n",
       "  <th>Kurtosis:</th>       <td>6332.333</td>  <th>  Cond. No.          </th>     <td>2.26e+05</td>    \n",
       "</tr>\n",
       "</table><br/><br/>Warnings:<br/>[1] Standard Errors assume that the covariance matrix of the errors is correctly specified.<br/>[2] The condition number is large, 2.26e+05. This might indicate that there are<br/>strong multicollinearity or other numerical problems."
      ],
      "text/plain": [
       "<class 'statsmodels.iolib.summary.Summary'>\n",
       "\"\"\"\n",
       "                            OLS Regression Results                            \n",
       "==============================================================================\n",
       "Dep. Variable:      DAMAGE_PROPERTY_t   R-squared:                       0.216\n",
       "Model:                            OLS   Adj. R-squared:                  0.216\n",
       "Method:                 Least Squares   F-statistic:                     2356.\n",
       "Date:                Sat, 29 Feb 2020   Prob (F-statistic):               0.00\n",
       "Time:                        22:33:11   Log-Likelihood:            -1.2363e+06\n",
       "No. Observations:               68456   AIC:                         2.473e+06\n",
       "Df Residuals:                   68447   BIC:                         2.473e+06\n",
       "Df Model:                           8                                         \n",
       "Covariance Type:            nonrobust                                         \n",
       "=========================================================================================\n",
       "                            coef    std err          t      P>|t|      [0.025      0.975]\n",
       "-----------------------------------------------------------------------------------------\n",
       "Intercept             -9.123e+07   7.31e+06    -12.483      0.000   -1.06e+08   -7.69e+07\n",
       "C(TOR_F_SCALE)[T.EF1]  4.566e+05    1.5e+05      3.043      0.002    1.63e+05    7.51e+05\n",
       "C(TOR_F_SCALE)[T.EF2]  1.342e+06   1.98e+05      6.767      0.000    9.53e+05    1.73e+06\n",
       "C(TOR_F_SCALE)[T.EF3]  2.633e+06   3.13e+05      8.413      0.000    2.02e+06    3.25e+06\n",
       "C(TOR_F_SCALE)[T.EF4]  2.978e+06   5.38e+05      5.532      0.000    1.92e+06    4.03e+06\n",
       "C(TOR_F_SCALE)[T.EF5]  1.201e+07   1.52e+06      7.887      0.000    9.03e+06     1.5e+07\n",
       "YEAR                   4.569e+04   3659.281     12.485      0.000    3.85e+04    5.29e+04\n",
       "INJURIES_DIRECT        2.878e+05   5966.469     48.238      0.000    2.76e+05       3e+05\n",
       "DEATHS_DIRECT          3.323e+06   7.34e+04     45.284      0.000    3.18e+06    3.47e+06\n",
       "==============================================================================\n",
       "Omnibus:                   233278.052   Durbin-Watson:                   1.939\n",
       "Prob(Omnibus):                  0.000   Jarque-Bera (JB):     114310609521.752\n",
       "Skew:                          62.698   Prob(JB):                         0.00\n",
       "Kurtosis:                    6332.333   Cond. No.                     2.26e+05\n",
       "==============================================================================\n",
       "\n",
       "Warnings:\n",
       "[1] Standard Errors assume that the covariance matrix of the errors is correctly specified.\n",
       "[2] The condition number is large, 2.26e+05. This might indicate that there are\n",
       "strong multicollinearity or other numerical problems.\n",
       "\"\"\""
      ]
     },
     "execution_count": 135,
     "metadata": {},
     "output_type": "execute_result"
    }
   ],
   "source": [
    "import statsmodels.formula.api as smf\n",
    "model = smf.ols('DAMAGE_PROPERTY_t ~ YEAR +INJURIES_DIRECT+DEATHS_DIRECT +C(TOR_F_SCALE) ', data=t_df2)\n",
    "results = model.fit()\n",
    "results.summary()"
   ]
  },
  {
   "cell_type": "code",
   "execution_count": null,
   "metadata": {},
   "outputs": [],
   "source": []
  }
 ],
 "metadata": {
  "kernelspec": {
   "display_name": "Python 3",
   "language": "python",
   "name": "python3"
  },
  "language_info": {
   "codemirror_mode": {
    "name": "ipython",
    "version": 3
   },
   "file_extension": ".py",
   "mimetype": "text/x-python",
   "name": "python",
   "nbconvert_exporter": "python",
   "pygments_lexer": "ipython3",
   "version": "3.7.4"
  }
 },
 "nbformat": 4,
 "nbformat_minor": 2
}
